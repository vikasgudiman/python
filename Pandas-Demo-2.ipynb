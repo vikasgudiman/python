{
 "cells": [
  {
   "cell_type": "code",
   "execution_count": 1,
   "id": "3dbd4e59",
   "metadata": {},
   "outputs": [],
   "source": [
    "#1)Basics"
   ]
  },
  {
   "cell_type": "code",
   "execution_count": 2,
   "id": "23b7c903",
   "metadata": {},
   "outputs": [],
   "source": [
    "people={\n",
    "    \"First name\":[\"Narendra\",\"Rahul\",\"Amit\",\"Nirav\"],\n",
    "    \"Last name\":[\"Modi\",\"Gandhi\",\"Shah\",\"Modi\"],\n",
    "    \"Email\":[\"nm@gmail.com\",\"rg@yahoo.com\",\"as@hotmail.com\",\"niv@gmail.com\"],\n",
    "}"
   ]
  },
  {
   "cell_type": "code",
   "execution_count": 3,
   "id": "b91cceb3",
   "metadata": {},
   "outputs": [
    {
     "data": {
      "text/plain": [
       "['nm@gmail.com', 'rg@yahoo.com', 'as@hotmail.com', 'niv@gmail.com']"
      ]
     },
     "execution_count": 3,
     "metadata": {},
     "output_type": "execute_result"
    }
   ],
   "source": [
    "people[\"Email\"]"
   ]
  },
  {
   "cell_type": "code",
   "execution_count": 4,
   "id": "e163ed8a",
   "metadata": {},
   "outputs": [],
   "source": [
    "import pandas as pd"
   ]
  },
  {
   "cell_type": "code",
   "execution_count": 5,
   "id": "5e63d215",
   "metadata": {},
   "outputs": [],
   "source": [
    "df = pd.DataFrame(people)"
   ]
  },
  {
   "cell_type": "code",
   "execution_count": 6,
   "id": "4002b9eb",
   "metadata": {},
   "outputs": [
    {
     "data": {
      "text/html": [
       "<div>\n",
       "<style scoped>\n",
       "    .dataframe tbody tr th:only-of-type {\n",
       "        vertical-align: middle;\n",
       "    }\n",
       "\n",
       "    .dataframe tbody tr th {\n",
       "        vertical-align: top;\n",
       "    }\n",
       "\n",
       "    .dataframe thead th {\n",
       "        text-align: right;\n",
       "    }\n",
       "</style>\n",
       "<table border=\"1\" class=\"dataframe\">\n",
       "  <thead>\n",
       "    <tr style=\"text-align: right;\">\n",
       "      <th></th>\n",
       "      <th>First name</th>\n",
       "      <th>Last name</th>\n",
       "      <th>Email</th>\n",
       "    </tr>\n",
       "  </thead>\n",
       "  <tbody>\n",
       "    <tr>\n",
       "      <th>0</th>\n",
       "      <td>Narendra</td>\n",
       "      <td>Modi</td>\n",
       "      <td>nm@gmail.com</td>\n",
       "    </tr>\n",
       "    <tr>\n",
       "      <th>1</th>\n",
       "      <td>Rahul</td>\n",
       "      <td>Gandhi</td>\n",
       "      <td>rg@yahoo.com</td>\n",
       "    </tr>\n",
       "    <tr>\n",
       "      <th>2</th>\n",
       "      <td>Amit</td>\n",
       "      <td>Shah</td>\n",
       "      <td>as@hotmail.com</td>\n",
       "    </tr>\n",
       "    <tr>\n",
       "      <th>3</th>\n",
       "      <td>Nirav</td>\n",
       "      <td>Modi</td>\n",
       "      <td>niv@gmail.com</td>\n",
       "    </tr>\n",
       "  </tbody>\n",
       "</table>\n",
       "</div>"
      ],
      "text/plain": [
       "  First name Last name           Email\n",
       "0   Narendra      Modi    nm@gmail.com\n",
       "1      Rahul    Gandhi    rg@yahoo.com\n",
       "2       Amit      Shah  as@hotmail.com\n",
       "3      Nirav      Modi   niv@gmail.com"
      ]
     },
     "execution_count": 6,
     "metadata": {},
     "output_type": "execute_result"
    }
   ],
   "source": [
    "df"
   ]
  },
  {
   "cell_type": "code",
   "execution_count": 7,
   "id": "5c025a38",
   "metadata": {},
   "outputs": [
    {
     "data": {
      "text/plain": [
       "0      nm@gmail.com\n",
       "1      rg@yahoo.com\n",
       "2    as@hotmail.com\n",
       "3     niv@gmail.com\n",
       "Name: Email, dtype: object"
      ]
     },
     "execution_count": 7,
     "metadata": {},
     "output_type": "execute_result"
    }
   ],
   "source": [
    "df[\"Email\"]"
   ]
  },
  {
   "cell_type": "code",
   "execution_count": 8,
   "id": "b4342626",
   "metadata": {},
   "outputs": [],
   "source": [
    "#2)Series"
   ]
  },
  {
   "cell_type": "code",
   "execution_count": 9,
   "id": "7cb429dc",
   "metadata": {},
   "outputs": [
    {
     "data": {
      "text/plain": [
       "pandas.core.series.Series"
      ]
     },
     "execution_count": 9,
     "metadata": {},
     "output_type": "execute_result"
    }
   ],
   "source": [
    "type(df[\"Email\"])\n",
    "#Series is basically a single column of rows. If there are more than 1 column then it is no longer a series.\n",
    "#As per the basic definition Series is an array"
   ]
  },
  {
   "cell_type": "code",
   "execution_count": 10,
   "id": "4a03cfe2",
   "metadata": {},
   "outputs": [
    {
     "data": {
      "text/plain": [
       "0      nm@gmail.com\n",
       "1      rg@yahoo.com\n",
       "2    as@hotmail.com\n",
       "3     niv@gmail.com\n",
       "Name: Email, dtype: object"
      ]
     },
     "execution_count": 10,
     "metadata": {},
     "output_type": "execute_result"
    }
   ],
   "source": [
    "df.Email"
   ]
  },
  {
   "cell_type": "code",
   "execution_count": 11,
   "id": "3e3c344c",
   "metadata": {},
   "outputs": [
    {
     "data": {
      "text/html": [
       "<div>\n",
       "<style scoped>\n",
       "    .dataframe tbody tr th:only-of-type {\n",
       "        vertical-align: middle;\n",
       "    }\n",
       "\n",
       "    .dataframe tbody tr th {\n",
       "        vertical-align: top;\n",
       "    }\n",
       "\n",
       "    .dataframe thead th {\n",
       "        text-align: right;\n",
       "    }\n",
       "</style>\n",
       "<table border=\"1\" class=\"dataframe\">\n",
       "  <thead>\n",
       "    <tr style=\"text-align: right;\">\n",
       "      <th></th>\n",
       "      <th>First name</th>\n",
       "      <th>Last name</th>\n",
       "    </tr>\n",
       "  </thead>\n",
       "  <tbody>\n",
       "    <tr>\n",
       "      <th>0</th>\n",
       "      <td>Narendra</td>\n",
       "      <td>Modi</td>\n",
       "    </tr>\n",
       "    <tr>\n",
       "      <th>1</th>\n",
       "      <td>Rahul</td>\n",
       "      <td>Gandhi</td>\n",
       "    </tr>\n",
       "    <tr>\n",
       "      <th>2</th>\n",
       "      <td>Amit</td>\n",
       "      <td>Shah</td>\n",
       "    </tr>\n",
       "    <tr>\n",
       "      <th>3</th>\n",
       "      <td>Nirav</td>\n",
       "      <td>Modi</td>\n",
       "    </tr>\n",
       "  </tbody>\n",
       "</table>\n",
       "</div>"
      ],
      "text/plain": [
       "  First name Last name\n",
       "0   Narendra      Modi\n",
       "1      Rahul    Gandhi\n",
       "2       Amit      Shah\n",
       "3      Nirav      Modi"
      ]
     },
     "execution_count": 11,
     "metadata": {},
     "output_type": "execute_result"
    }
   ],
   "source": [
    "df[[\"First name\",\"Last name\"]]"
   ]
  },
  {
   "cell_type": "code",
   "execution_count": 12,
   "id": "29e03051",
   "metadata": {},
   "outputs": [
    {
     "data": {
      "text/plain": [
       "Index(['First name', 'Last name', 'Email'], dtype='object')"
      ]
     },
     "execution_count": 12,
     "metadata": {},
     "output_type": "execute_result"
    }
   ],
   "source": [
    "df.columns"
   ]
  },
  {
   "cell_type": "code",
   "execution_count": 13,
   "id": "14b23005",
   "metadata": {},
   "outputs": [
    {
     "data": {
      "text/html": [
       "<div>\n",
       "<style scoped>\n",
       "    .dataframe tbody tr th:only-of-type {\n",
       "        vertical-align: middle;\n",
       "    }\n",
       "\n",
       "    .dataframe tbody tr th {\n",
       "        vertical-align: top;\n",
       "    }\n",
       "\n",
       "    .dataframe thead th {\n",
       "        text-align: right;\n",
       "    }\n",
       "</style>\n",
       "<table border=\"1\" class=\"dataframe\">\n",
       "  <thead>\n",
       "    <tr style=\"text-align: right;\">\n",
       "      <th></th>\n",
       "      <th>First name</th>\n",
       "    </tr>\n",
       "  </thead>\n",
       "  <tbody>\n",
       "    <tr>\n",
       "      <th>0</th>\n",
       "      <td>Narendra</td>\n",
       "    </tr>\n",
       "  </tbody>\n",
       "</table>\n",
       "</div>"
      ],
      "text/plain": [
       "  First name\n",
       "0   Narendra"
      ]
     },
     "execution_count": 13,
     "metadata": {},
     "output_type": "execute_result"
    }
   ],
   "source": [
    "df.iloc[0:1,0:1]\n",
    "#Integer values of rowsxcolumns are given to filter the data. iloc in pandas takes the row NUMBERS as the input"
   ]
  },
  {
   "cell_type": "code",
   "execution_count": 14,
   "id": "cc534ae8",
   "metadata": {},
   "outputs": [
    {
     "data": {
      "text/html": [
       "<div>\n",
       "<style scoped>\n",
       "    .dataframe tbody tr th:only-of-type {\n",
       "        vertical-align: middle;\n",
       "    }\n",
       "\n",
       "    .dataframe tbody tr th {\n",
       "        vertical-align: top;\n",
       "    }\n",
       "\n",
       "    .dataframe thead th {\n",
       "        text-align: right;\n",
       "    }\n",
       "</style>\n",
       "<table border=\"1\" class=\"dataframe\">\n",
       "  <thead>\n",
       "    <tr style=\"text-align: right;\">\n",
       "      <th></th>\n",
       "      <th>First name</th>\n",
       "      <th>Last name</th>\n",
       "    </tr>\n",
       "  </thead>\n",
       "  <tbody>\n",
       "    <tr>\n",
       "      <th>0</th>\n",
       "      <td>Narendra</td>\n",
       "      <td>Modi</td>\n",
       "    </tr>\n",
       "    <tr>\n",
       "      <th>1</th>\n",
       "      <td>Rahul</td>\n",
       "      <td>Gandhi</td>\n",
       "    </tr>\n",
       "  </tbody>\n",
       "</table>\n",
       "</div>"
      ],
      "text/plain": [
       "  First name Last name\n",
       "0   Narendra      Modi\n",
       "1      Rahul    Gandhi"
      ]
     },
     "execution_count": 14,
     "metadata": {},
     "output_type": "execute_result"
    }
   ],
   "source": [
    "df.iloc[[0,1],[0,1]]"
   ]
  },
  {
   "cell_type": "code",
   "execution_count": 15,
   "id": "069f6c42",
   "metadata": {},
   "outputs": [
    {
     "data": {
      "text/html": [
       "<div>\n",
       "<style scoped>\n",
       "    .dataframe tbody tr th:only-of-type {\n",
       "        vertical-align: middle;\n",
       "    }\n",
       "\n",
       "    .dataframe tbody tr th {\n",
       "        vertical-align: top;\n",
       "    }\n",
       "\n",
       "    .dataframe thead th {\n",
       "        text-align: right;\n",
       "    }\n",
       "</style>\n",
       "<table border=\"1\" class=\"dataframe\">\n",
       "  <thead>\n",
       "    <tr style=\"text-align: right;\">\n",
       "      <th></th>\n",
       "      <th>First name</th>\n",
       "      <th>Last name</th>\n",
       "      <th>Email</th>\n",
       "    </tr>\n",
       "  </thead>\n",
       "  <tbody>\n",
       "    <tr>\n",
       "      <th>0</th>\n",
       "      <td>Narendra</td>\n",
       "      <td>Modi</td>\n",
       "      <td>nm@gmail.com</td>\n",
       "    </tr>\n",
       "    <tr>\n",
       "      <th>1</th>\n",
       "      <td>Rahul</td>\n",
       "      <td>Gandhi</td>\n",
       "      <td>rg@yahoo.com</td>\n",
       "    </tr>\n",
       "    <tr>\n",
       "      <th>2</th>\n",
       "      <td>Amit</td>\n",
       "      <td>Shah</td>\n",
       "      <td>as@hotmail.com</td>\n",
       "    </tr>\n",
       "    <tr>\n",
       "      <th>3</th>\n",
       "      <td>Nirav</td>\n",
       "      <td>Modi</td>\n",
       "      <td>niv@gmail.com</td>\n",
       "    </tr>\n",
       "  </tbody>\n",
       "</table>\n",
       "</div>"
      ],
      "text/plain": [
       "  First name Last name           Email\n",
       "0   Narendra      Modi    nm@gmail.com\n",
       "1      Rahul    Gandhi    rg@yahoo.com\n",
       "2       Amit      Shah  as@hotmail.com\n",
       "3      Nirav      Modi   niv@gmail.com"
      ]
     },
     "execution_count": 15,
     "metadata": {},
     "output_type": "execute_result"
    }
   ],
   "source": [
    "df"
   ]
  },
  {
   "cell_type": "code",
   "execution_count": 16,
   "id": "389d76b3",
   "metadata": {},
   "outputs": [
    {
     "data": {
      "text/html": [
       "<div>\n",
       "<style scoped>\n",
       "    .dataframe tbody tr th:only-of-type {\n",
       "        vertical-align: middle;\n",
       "    }\n",
       "\n",
       "    .dataframe tbody tr th {\n",
       "        vertical-align: top;\n",
       "    }\n",
       "\n",
       "    .dataframe thead th {\n",
       "        text-align: right;\n",
       "    }\n",
       "</style>\n",
       "<table border=\"1\" class=\"dataframe\">\n",
       "  <thead>\n",
       "    <tr style=\"text-align: right;\">\n",
       "      <th></th>\n",
       "      <th>First name</th>\n",
       "      <th>Email</th>\n",
       "    </tr>\n",
       "  </thead>\n",
       "  <tbody>\n",
       "    <tr>\n",
       "      <th>0</th>\n",
       "      <td>Narendra</td>\n",
       "      <td>nm@gmail.com</td>\n",
       "    </tr>\n",
       "    <tr>\n",
       "      <th>1</th>\n",
       "      <td>Rahul</td>\n",
       "      <td>rg@yahoo.com</td>\n",
       "    </tr>\n",
       "  </tbody>\n",
       "</table>\n",
       "</div>"
      ],
      "text/plain": [
       "  First name         Email\n",
       "0   Narendra  nm@gmail.com\n",
       "1      Rahul  rg@yahoo.com"
      ]
     },
     "execution_count": 16,
     "metadata": {},
     "output_type": "execute_result"
    }
   ],
   "source": [
    "df.loc[[0,1],[\"First name\",\"Email\"]]"
   ]
  },
  {
   "cell_type": "code",
   "execution_count": 17,
   "id": "a7bed1f2",
   "metadata": {},
   "outputs": [],
   "source": [
    "#3)Indexing"
   ]
  },
  {
   "cell_type": "code",
   "execution_count": 18,
   "id": "7c7c0a0f",
   "metadata": {},
   "outputs": [
    {
     "data": {
      "text/html": [
       "<div>\n",
       "<style scoped>\n",
       "    .dataframe tbody tr th:only-of-type {\n",
       "        vertical-align: middle;\n",
       "    }\n",
       "\n",
       "    .dataframe tbody tr th {\n",
       "        vertical-align: top;\n",
       "    }\n",
       "\n",
       "    .dataframe thead th {\n",
       "        text-align: right;\n",
       "    }\n",
       "</style>\n",
       "<table border=\"1\" class=\"dataframe\">\n",
       "  <thead>\n",
       "    <tr style=\"text-align: right;\">\n",
       "      <th></th>\n",
       "      <th>First name</th>\n",
       "      <th>Last name</th>\n",
       "      <th>Email</th>\n",
       "    </tr>\n",
       "  </thead>\n",
       "  <tbody>\n",
       "    <tr>\n",
       "      <th>0</th>\n",
       "      <td>Narendra</td>\n",
       "      <td>Modi</td>\n",
       "      <td>nm@gmail.com</td>\n",
       "    </tr>\n",
       "    <tr>\n",
       "      <th>1</th>\n",
       "      <td>Rahul</td>\n",
       "      <td>Gandhi</td>\n",
       "      <td>rg@yahoo.com</td>\n",
       "    </tr>\n",
       "    <tr>\n",
       "      <th>2</th>\n",
       "      <td>Amit</td>\n",
       "      <td>Shah</td>\n",
       "      <td>as@hotmail.com</td>\n",
       "    </tr>\n",
       "    <tr>\n",
       "      <th>3</th>\n",
       "      <td>Nirav</td>\n",
       "      <td>Modi</td>\n",
       "      <td>niv@gmail.com</td>\n",
       "    </tr>\n",
       "  </tbody>\n",
       "</table>\n",
       "</div>"
      ],
      "text/plain": [
       "  First name Last name           Email\n",
       "0   Narendra      Modi    nm@gmail.com\n",
       "1      Rahul    Gandhi    rg@yahoo.com\n",
       "2       Amit      Shah  as@hotmail.com\n",
       "3      Nirav      Modi   niv@gmail.com"
      ]
     },
     "execution_count": 18,
     "metadata": {},
     "output_type": "execute_result"
    }
   ],
   "source": [
    "#Default index\n",
    "df\n",
    "#Pandas doesn't force you to have unique index but it is one of the best practice to have them unique"
   ]
  },
  {
   "cell_type": "code",
   "execution_count": 19,
   "id": "e8a10ee9",
   "metadata": {},
   "outputs": [
    {
     "data": {
      "text/plain": [
       "0      nm@gmail.com\n",
       "1      rg@yahoo.com\n",
       "2    as@hotmail.com\n",
       "3     niv@gmail.com\n",
       "Name: Email, dtype: object"
      ]
     },
     "execution_count": 19,
     "metadata": {},
     "output_type": "execute_result"
    }
   ],
   "source": [
    "df['Email']"
   ]
  },
  {
   "cell_type": "code",
   "execution_count": 20,
   "id": "3eb8efd8",
   "metadata": {},
   "outputs": [],
   "source": [
    "df2=df.set_index(\"Email\")\n",
    "#This is used to check how the dataframe looks when we have email as the index but it really doesnt change anything unless you specify it"
   ]
  },
  {
   "cell_type": "code",
   "execution_count": 21,
   "id": "181bc2d5",
   "metadata": {},
   "outputs": [
    {
     "data": {
      "text/html": [
       "<div>\n",
       "<style scoped>\n",
       "    .dataframe tbody tr th:only-of-type {\n",
       "        vertical-align: middle;\n",
       "    }\n",
       "\n",
       "    .dataframe tbody tr th {\n",
       "        vertical-align: top;\n",
       "    }\n",
       "\n",
       "    .dataframe thead th {\n",
       "        text-align: right;\n",
       "    }\n",
       "</style>\n",
       "<table border=\"1\" class=\"dataframe\">\n",
       "  <thead>\n",
       "    <tr style=\"text-align: right;\">\n",
       "      <th></th>\n",
       "      <th>First name</th>\n",
       "      <th>Last name</th>\n",
       "      <th>Email</th>\n",
       "    </tr>\n",
       "  </thead>\n",
       "  <tbody>\n",
       "    <tr>\n",
       "      <th>0</th>\n",
       "      <td>Narendra</td>\n",
       "      <td>Modi</td>\n",
       "      <td>nm@gmail.com</td>\n",
       "    </tr>\n",
       "    <tr>\n",
       "      <th>1</th>\n",
       "      <td>Rahul</td>\n",
       "      <td>Gandhi</td>\n",
       "      <td>rg@yahoo.com</td>\n",
       "    </tr>\n",
       "    <tr>\n",
       "      <th>2</th>\n",
       "      <td>Amit</td>\n",
       "      <td>Shah</td>\n",
       "      <td>as@hotmail.com</td>\n",
       "    </tr>\n",
       "    <tr>\n",
       "      <th>3</th>\n",
       "      <td>Nirav</td>\n",
       "      <td>Modi</td>\n",
       "      <td>niv@gmail.com</td>\n",
       "    </tr>\n",
       "  </tbody>\n",
       "</table>\n",
       "</div>"
      ],
      "text/plain": [
       "  First name Last name           Email\n",
       "0   Narendra      Modi    nm@gmail.com\n",
       "1      Rahul    Gandhi    rg@yahoo.com\n",
       "2       Amit      Shah  as@hotmail.com\n",
       "3      Nirav      Modi   niv@gmail.com"
      ]
     },
     "execution_count": 21,
     "metadata": {},
     "output_type": "execute_result"
    }
   ],
   "source": [
    "df2\n",
    "df"
   ]
  },
  {
   "cell_type": "code",
   "execution_count": 22,
   "id": "1acec189",
   "metadata": {},
   "outputs": [],
   "source": [
    "df.set_index(\"Email\",inplace=True)"
   ]
  },
  {
   "cell_type": "code",
   "execution_count": 23,
   "id": "6a43cbc4",
   "metadata": {},
   "outputs": [
    {
     "data": {
      "text/html": [
       "<div>\n",
       "<style scoped>\n",
       "    .dataframe tbody tr th:only-of-type {\n",
       "        vertical-align: middle;\n",
       "    }\n",
       "\n",
       "    .dataframe tbody tr th {\n",
       "        vertical-align: top;\n",
       "    }\n",
       "\n",
       "    .dataframe thead th {\n",
       "        text-align: right;\n",
       "    }\n",
       "</style>\n",
       "<table border=\"1\" class=\"dataframe\">\n",
       "  <thead>\n",
       "    <tr style=\"text-align: right;\">\n",
       "      <th></th>\n",
       "      <th>First name</th>\n",
       "      <th>Last name</th>\n",
       "    </tr>\n",
       "    <tr>\n",
       "      <th>Email</th>\n",
       "      <th></th>\n",
       "      <th></th>\n",
       "    </tr>\n",
       "  </thead>\n",
       "  <tbody>\n",
       "    <tr>\n",
       "      <th>nm@gmail.com</th>\n",
       "      <td>Narendra</td>\n",
       "      <td>Modi</td>\n",
       "    </tr>\n",
       "    <tr>\n",
       "      <th>rg@yahoo.com</th>\n",
       "      <td>Rahul</td>\n",
       "      <td>Gandhi</td>\n",
       "    </tr>\n",
       "    <tr>\n",
       "      <th>as@hotmail.com</th>\n",
       "      <td>Amit</td>\n",
       "      <td>Shah</td>\n",
       "    </tr>\n",
       "    <tr>\n",
       "      <th>niv@gmail.com</th>\n",
       "      <td>Nirav</td>\n",
       "      <td>Modi</td>\n",
       "    </tr>\n",
       "  </tbody>\n",
       "</table>\n",
       "</div>"
      ],
      "text/plain": [
       "               First name Last name\n",
       "Email                              \n",
       "nm@gmail.com     Narendra      Modi\n",
       "rg@yahoo.com        Rahul    Gandhi\n",
       "as@hotmail.com       Amit      Shah\n",
       "niv@gmail.com       Nirav      Modi"
      ]
     },
     "execution_count": 23,
     "metadata": {},
     "output_type": "execute_result"
    }
   ],
   "source": [
    "df"
   ]
  },
  {
   "cell_type": "code",
   "execution_count": 24,
   "id": "ac7c1200",
   "metadata": {},
   "outputs": [
    {
     "data": {
      "text/plain": [
       "Index(['nm@gmail.com', 'rg@yahoo.com', 'as@hotmail.com', 'niv@gmail.com'], dtype='object', name='Email')"
      ]
     },
     "execution_count": 24,
     "metadata": {},
     "output_type": "execute_result"
    }
   ],
   "source": [
    "df.index"
   ]
  },
  {
   "cell_type": "code",
   "execution_count": 25,
   "id": "e0278ae5",
   "metadata": {},
   "outputs": [
    {
     "data": {
      "text/plain": [
       "'Narendra'"
      ]
     },
     "execution_count": 25,
     "metadata": {},
     "output_type": "execute_result"
    }
   ],
   "source": [
    "df.loc[\"nm@gmail.com\",\"First name\"]"
   ]
  },
  {
   "cell_type": "code",
   "execution_count": 26,
   "id": "d9821998",
   "metadata": {},
   "outputs": [
    {
     "data": {
      "text/plain": [
       "'Modi'"
      ]
     },
     "execution_count": 26,
     "metadata": {},
     "output_type": "execute_result"
    }
   ],
   "source": [
    "df.loc[\"nm@gmail.com\",\"Last name\"]"
   ]
  },
  {
   "cell_type": "code",
   "execution_count": 27,
   "id": "ba001e0b",
   "metadata": {},
   "outputs": [
    {
     "data": {
      "text/plain": [
       "'Narendra'"
      ]
     },
     "execution_count": 27,
     "metadata": {},
     "output_type": "execute_result"
    }
   ],
   "source": [
    "df.iloc[0,0]"
   ]
  },
  {
   "cell_type": "code",
   "execution_count": 28,
   "id": "e23b5c5b",
   "metadata": {},
   "outputs": [
    {
     "data": {
      "text/html": [
       "<div>\n",
       "<style scoped>\n",
       "    .dataframe tbody tr th:only-of-type {\n",
       "        vertical-align: middle;\n",
       "    }\n",
       "\n",
       "    .dataframe tbody tr th {\n",
       "        vertical-align: top;\n",
       "    }\n",
       "\n",
       "    .dataframe thead th {\n",
       "        text-align: right;\n",
       "    }\n",
       "</style>\n",
       "<table border=\"1\" class=\"dataframe\">\n",
       "  <thead>\n",
       "    <tr style=\"text-align: right;\">\n",
       "      <th></th>\n",
       "      <th>Email</th>\n",
       "      <th>First name</th>\n",
       "      <th>Last name</th>\n",
       "    </tr>\n",
       "  </thead>\n",
       "  <tbody>\n",
       "    <tr>\n",
       "      <th>0</th>\n",
       "      <td>nm@gmail.com</td>\n",
       "      <td>Narendra</td>\n",
       "      <td>Modi</td>\n",
       "    </tr>\n",
       "    <tr>\n",
       "      <th>1</th>\n",
       "      <td>rg@yahoo.com</td>\n",
       "      <td>Rahul</td>\n",
       "      <td>Gandhi</td>\n",
       "    </tr>\n",
       "    <tr>\n",
       "      <th>2</th>\n",
       "      <td>as@hotmail.com</td>\n",
       "      <td>Amit</td>\n",
       "      <td>Shah</td>\n",
       "    </tr>\n",
       "    <tr>\n",
       "      <th>3</th>\n",
       "      <td>niv@gmail.com</td>\n",
       "      <td>Nirav</td>\n",
       "      <td>Modi</td>\n",
       "    </tr>\n",
       "  </tbody>\n",
       "</table>\n",
       "</div>"
      ],
      "text/plain": [
       "            Email First name Last name\n",
       "0    nm@gmail.com   Narendra      Modi\n",
       "1    rg@yahoo.com      Rahul    Gandhi\n",
       "2  as@hotmail.com       Amit      Shah\n",
       "3   niv@gmail.com      Nirav      Modi"
      ]
     },
     "execution_count": 28,
     "metadata": {},
     "output_type": "execute_result"
    }
   ],
   "source": [
    "df.reset_index()"
   ]
  },
  {
   "cell_type": "code",
   "execution_count": 29,
   "id": "101b73c9",
   "metadata": {},
   "outputs": [
    {
     "data": {
      "text/html": [
       "<div>\n",
       "<style scoped>\n",
       "    .dataframe tbody tr th:only-of-type {\n",
       "        vertical-align: middle;\n",
       "    }\n",
       "\n",
       "    .dataframe tbody tr th {\n",
       "        vertical-align: top;\n",
       "    }\n",
       "\n",
       "    .dataframe thead th {\n",
       "        text-align: right;\n",
       "    }\n",
       "</style>\n",
       "<table border=\"1\" class=\"dataframe\">\n",
       "  <thead>\n",
       "    <tr style=\"text-align: right;\">\n",
       "      <th></th>\n",
       "      <th>First name</th>\n",
       "      <th>Last name</th>\n",
       "    </tr>\n",
       "    <tr>\n",
       "      <th>Email</th>\n",
       "      <th></th>\n",
       "      <th></th>\n",
       "    </tr>\n",
       "  </thead>\n",
       "  <tbody>\n",
       "    <tr>\n",
       "      <th>nm@gmail.com</th>\n",
       "      <td>Narendra</td>\n",
       "      <td>Modi</td>\n",
       "    </tr>\n",
       "    <tr>\n",
       "      <th>rg@yahoo.com</th>\n",
       "      <td>Rahul</td>\n",
       "      <td>Gandhi</td>\n",
       "    </tr>\n",
       "    <tr>\n",
       "      <th>as@hotmail.com</th>\n",
       "      <td>Amit</td>\n",
       "      <td>Shah</td>\n",
       "    </tr>\n",
       "    <tr>\n",
       "      <th>niv@gmail.com</th>\n",
       "      <td>Nirav</td>\n",
       "      <td>Modi</td>\n",
       "    </tr>\n",
       "  </tbody>\n",
       "</table>\n",
       "</div>"
      ],
      "text/plain": [
       "               First name Last name\n",
       "Email                              \n",
       "nm@gmail.com     Narendra      Modi\n",
       "rg@yahoo.com        Rahul    Gandhi\n",
       "as@hotmail.com       Amit      Shah\n",
       "niv@gmail.com       Nirav      Modi"
      ]
     },
     "execution_count": 29,
     "metadata": {},
     "output_type": "execute_result"
    }
   ],
   "source": [
    "df"
   ]
  },
  {
   "cell_type": "code",
   "execution_count": 30,
   "id": "e1461361",
   "metadata": {},
   "outputs": [],
   "source": [
    "df.reset_index(inplace=True)"
   ]
  },
  {
   "cell_type": "code",
   "execution_count": 31,
   "id": "01762143",
   "metadata": {},
   "outputs": [
    {
     "data": {
      "text/html": [
       "<div>\n",
       "<style scoped>\n",
       "    .dataframe tbody tr th:only-of-type {\n",
       "        vertical-align: middle;\n",
       "    }\n",
       "\n",
       "    .dataframe tbody tr th {\n",
       "        vertical-align: top;\n",
       "    }\n",
       "\n",
       "    .dataframe thead th {\n",
       "        text-align: right;\n",
       "    }\n",
       "</style>\n",
       "<table border=\"1\" class=\"dataframe\">\n",
       "  <thead>\n",
       "    <tr style=\"text-align: right;\">\n",
       "      <th></th>\n",
       "      <th>Email</th>\n",
       "      <th>First name</th>\n",
       "      <th>Last name</th>\n",
       "    </tr>\n",
       "  </thead>\n",
       "  <tbody>\n",
       "    <tr>\n",
       "      <th>0</th>\n",
       "      <td>nm@gmail.com</td>\n",
       "      <td>Narendra</td>\n",
       "      <td>Modi</td>\n",
       "    </tr>\n",
       "    <tr>\n",
       "      <th>1</th>\n",
       "      <td>rg@yahoo.com</td>\n",
       "      <td>Rahul</td>\n",
       "      <td>Gandhi</td>\n",
       "    </tr>\n",
       "    <tr>\n",
       "      <th>2</th>\n",
       "      <td>as@hotmail.com</td>\n",
       "      <td>Amit</td>\n",
       "      <td>Shah</td>\n",
       "    </tr>\n",
       "    <tr>\n",
       "      <th>3</th>\n",
       "      <td>niv@gmail.com</td>\n",
       "      <td>Nirav</td>\n",
       "      <td>Modi</td>\n",
       "    </tr>\n",
       "  </tbody>\n",
       "</table>\n",
       "</div>"
      ],
      "text/plain": [
       "            Email First name Last name\n",
       "0    nm@gmail.com   Narendra      Modi\n",
       "1    rg@yahoo.com      Rahul    Gandhi\n",
       "2  as@hotmail.com       Amit      Shah\n",
       "3   niv@gmail.com      Nirav      Modi"
      ]
     },
     "execution_count": 31,
     "metadata": {},
     "output_type": "execute_result"
    }
   ],
   "source": [
    "df"
   ]
  },
  {
   "cell_type": "code",
   "execution_count": 34,
   "id": "776219a0",
   "metadata": {},
   "outputs": [],
   "source": [
    "#4)Filtering the data\n",
    "#Filtering is important in pandas because that is how we start dealing with the data. We filter the data first and then perform various operations on them."
   ]
  },
  {
   "cell_type": "code",
   "execution_count": 35,
   "id": "29fd47f7",
   "metadata": {},
   "outputs": [
    {
     "data": {
      "text/plain": [
       "0     True\n",
       "1    False\n",
       "2    False\n",
       "3     True\n",
       "Name: Last name, dtype: bool"
      ]
     },
     "execution_count": 35,
     "metadata": {},
     "output_type": "execute_result"
    }
   ],
   "source": [
    "df[\"Last name\"]==\"Modi\""
   ]
  },
  {
   "cell_type": "code",
   "execution_count": 36,
   "id": "f881144a",
   "metadata": {},
   "outputs": [],
   "source": [
    "filt = df[\"Last name\"]==\"Modi\""
   ]
  },
  {
   "cell_type": "code",
   "execution_count": 37,
   "id": "baaa0c09",
   "metadata": {},
   "outputs": [
    {
     "data": {
      "text/html": [
       "<div>\n",
       "<style scoped>\n",
       "    .dataframe tbody tr th:only-of-type {\n",
       "        vertical-align: middle;\n",
       "    }\n",
       "\n",
       "    .dataframe tbody tr th {\n",
       "        vertical-align: top;\n",
       "    }\n",
       "\n",
       "    .dataframe thead th {\n",
       "        text-align: right;\n",
       "    }\n",
       "</style>\n",
       "<table border=\"1\" class=\"dataframe\">\n",
       "  <thead>\n",
       "    <tr style=\"text-align: right;\">\n",
       "      <th></th>\n",
       "      <th>Email</th>\n",
       "      <th>First name</th>\n",
       "      <th>Last name</th>\n",
       "    </tr>\n",
       "  </thead>\n",
       "  <tbody>\n",
       "    <tr>\n",
       "      <th>0</th>\n",
       "      <td>nm@gmail.com</td>\n",
       "      <td>Narendra</td>\n",
       "      <td>Modi</td>\n",
       "    </tr>\n",
       "    <tr>\n",
       "      <th>3</th>\n",
       "      <td>niv@gmail.com</td>\n",
       "      <td>Nirav</td>\n",
       "      <td>Modi</td>\n",
       "    </tr>\n",
       "  </tbody>\n",
       "</table>\n",
       "</div>"
      ],
      "text/plain": [
       "           Email First name Last name\n",
       "0   nm@gmail.com   Narendra      Modi\n",
       "3  niv@gmail.com      Nirav      Modi"
      ]
     },
     "execution_count": 37,
     "metadata": {},
     "output_type": "execute_result"
    }
   ],
   "source": [
    "df[filt]"
   ]
  },
  {
   "cell_type": "code",
   "execution_count": 38,
   "id": "98ff1dc3",
   "metadata": {},
   "outputs": [
    {
     "data": {
      "text/html": [
       "<div>\n",
       "<style scoped>\n",
       "    .dataframe tbody tr th:only-of-type {\n",
       "        vertical-align: middle;\n",
       "    }\n",
       "\n",
       "    .dataframe tbody tr th {\n",
       "        vertical-align: top;\n",
       "    }\n",
       "\n",
       "    .dataframe thead th {\n",
       "        text-align: right;\n",
       "    }\n",
       "</style>\n",
       "<table border=\"1\" class=\"dataframe\">\n",
       "  <thead>\n",
       "    <tr style=\"text-align: right;\">\n",
       "      <th></th>\n",
       "      <th>Email</th>\n",
       "      <th>First name</th>\n",
       "      <th>Last name</th>\n",
       "    </tr>\n",
       "  </thead>\n",
       "  <tbody>\n",
       "    <tr>\n",
       "      <th>0</th>\n",
       "      <td>nm@gmail.com</td>\n",
       "      <td>Narendra</td>\n",
       "      <td>Modi</td>\n",
       "    </tr>\n",
       "    <tr>\n",
       "      <th>3</th>\n",
       "      <td>niv@gmail.com</td>\n",
       "      <td>Nirav</td>\n",
       "      <td>Modi</td>\n",
       "    </tr>\n",
       "  </tbody>\n",
       "</table>\n",
       "</div>"
      ],
      "text/plain": [
       "           Email First name Last name\n",
       "0   nm@gmail.com   Narendra      Modi\n",
       "3  niv@gmail.com      Nirav      Modi"
      ]
     },
     "execution_count": 38,
     "metadata": {},
     "output_type": "execute_result"
    }
   ],
   "source": [
    "df.loc[filt]"
   ]
  },
  {
   "cell_type": "code",
   "execution_count": 39,
   "id": "c2c22613",
   "metadata": {},
   "outputs": [
    {
     "data": {
      "text/plain": [
       "0     nm@gmail.com\n",
       "3    niv@gmail.com\n",
       "Name: Email, dtype: object"
      ]
     },
     "execution_count": 39,
     "metadata": {},
     "output_type": "execute_result"
    }
   ],
   "source": [
    "df.loc[filt,'Email']"
   ]
  },
  {
   "cell_type": "code",
   "execution_count": 40,
   "id": "6c0a9c67",
   "metadata": {},
   "outputs": [],
   "source": [
    "#We cannot use And and Or keywords which we use in basic python. We should use & and | for using operators"
   ]
  },
  {
   "cell_type": "code",
   "execution_count": 41,
   "id": "3037c036",
   "metadata": {},
   "outputs": [],
   "source": [
    "filt1= (df[\"Last name\"]==\"Modi\" ) & (df[\"First name\"]==\"Nirav\")"
   ]
  },
  {
   "cell_type": "code",
   "execution_count": 42,
   "id": "b9c39e86",
   "metadata": {},
   "outputs": [
    {
     "data": {
      "text/plain": [
       "3    niv@gmail.com\n",
       "Name: Email, dtype: object"
      ]
     },
     "execution_count": 42,
     "metadata": {},
     "output_type": "execute_result"
    }
   ],
   "source": [
    "df.loc[filt1,\"Email\"]"
   ]
  },
  {
   "cell_type": "code",
   "execution_count": 43,
   "id": "0439d926",
   "metadata": {},
   "outputs": [
    {
     "data": {
      "text/plain": [
       "0     nm@gmail.com\n",
       "3    niv@gmail.com\n",
       "Name: Email, dtype: object"
      ]
     },
     "execution_count": 43,
     "metadata": {},
     "output_type": "execute_result"
    }
   ],
   "source": [
    "filt1= (df[\"Last name\"]==\"Modi\" ) | (df[\"First name\"]==\"Nirav\")\n",
    "df.loc[filt1,\"Email\"]"
   ]
  },
  {
   "cell_type": "code",
   "execution_count": 44,
   "id": "bee37934",
   "metadata": {},
   "outputs": [],
   "source": [
    "#To print out all the values which are opposing the filter we can use the key \"~\"(Negation Filter)"
   ]
  },
  {
   "cell_type": "code",
   "execution_count": 45,
   "id": "6246f618",
   "metadata": {},
   "outputs": [
    {
     "data": {
      "text/plain": [
       "1      rg@yahoo.com\n",
       "2    as@hotmail.com\n",
       "Name: Email, dtype: object"
      ]
     },
     "execution_count": 45,
     "metadata": {},
     "output_type": "execute_result"
    }
   ],
   "source": [
    "filt1= (df[\"Last name\"]==\"Modi\" ) | (df[\"First name\"]==\"Nirav\")\n",
    "df.loc[~filt1,\"Email\"]"
   ]
  },
  {
   "cell_type": "code",
   "execution_count": 46,
   "id": "7f5529ce",
   "metadata": {},
   "outputs": [],
   "source": [
    "#Alter existing rows and columns in our dataframes"
   ]
  },
  {
   "cell_type": "code",
   "execution_count": 47,
   "id": "52f823ea",
   "metadata": {},
   "outputs": [
    {
     "data": {
      "text/html": [
       "<div>\n",
       "<style scoped>\n",
       "    .dataframe tbody tr th:only-of-type {\n",
       "        vertical-align: middle;\n",
       "    }\n",
       "\n",
       "    .dataframe tbody tr th {\n",
       "        vertical-align: top;\n",
       "    }\n",
       "\n",
       "    .dataframe thead th {\n",
       "        text-align: right;\n",
       "    }\n",
       "</style>\n",
       "<table border=\"1\" class=\"dataframe\">\n",
       "  <thead>\n",
       "    <tr style=\"text-align: right;\">\n",
       "      <th></th>\n",
       "      <th>Email</th>\n",
       "      <th>First name</th>\n",
       "      <th>Last name</th>\n",
       "    </tr>\n",
       "  </thead>\n",
       "  <tbody>\n",
       "    <tr>\n",
       "      <th>0</th>\n",
       "      <td>nm@gmail.com</td>\n",
       "      <td>Narendra</td>\n",
       "      <td>Modi</td>\n",
       "    </tr>\n",
       "    <tr>\n",
       "      <th>1</th>\n",
       "      <td>rg@yahoo.com</td>\n",
       "      <td>Rahul</td>\n",
       "      <td>Gandhi</td>\n",
       "    </tr>\n",
       "    <tr>\n",
       "      <th>2</th>\n",
       "      <td>as@hotmail.com</td>\n",
       "      <td>Amit</td>\n",
       "      <td>Shah</td>\n",
       "    </tr>\n",
       "    <tr>\n",
       "      <th>3</th>\n",
       "      <td>niv@gmail.com</td>\n",
       "      <td>Nirav</td>\n",
       "      <td>Modi</td>\n",
       "    </tr>\n",
       "  </tbody>\n",
       "</table>\n",
       "</div>"
      ],
      "text/plain": [
       "            Email First name Last name\n",
       "0    nm@gmail.com   Narendra      Modi\n",
       "1    rg@yahoo.com      Rahul    Gandhi\n",
       "2  as@hotmail.com       Amit      Shah\n",
       "3   niv@gmail.com      Nirav      Modi"
      ]
     },
     "execution_count": 47,
     "metadata": {},
     "output_type": "execute_result"
    }
   ],
   "source": [
    "df"
   ]
  },
  {
   "cell_type": "code",
   "execution_count": 48,
   "id": "57decf52",
   "metadata": {},
   "outputs": [
    {
     "data": {
      "text/plain": [
       "Index(['Email', 'First name', 'Last name'], dtype='object')"
      ]
     },
     "execution_count": 48,
     "metadata": {},
     "output_type": "execute_result"
    }
   ],
   "source": [
    "df.columns"
   ]
  },
  {
   "cell_type": "code",
   "execution_count": 49,
   "id": "7a67ec5d",
   "metadata": {},
   "outputs": [],
   "source": [
    "#updating all the columns to be more specific\n",
    "df.columns = [\"Email\",\"First Name\",\"Last Name\"]"
   ]
  },
  {
   "cell_type": "code",
   "execution_count": 50,
   "id": "414bdb9f",
   "metadata": {},
   "outputs": [
    {
     "data": {
      "text/html": [
       "<div>\n",
       "<style scoped>\n",
       "    .dataframe tbody tr th:only-of-type {\n",
       "        vertical-align: middle;\n",
       "    }\n",
       "\n",
       "    .dataframe tbody tr th {\n",
       "        vertical-align: top;\n",
       "    }\n",
       "\n",
       "    .dataframe thead th {\n",
       "        text-align: right;\n",
       "    }\n",
       "</style>\n",
       "<table border=\"1\" class=\"dataframe\">\n",
       "  <thead>\n",
       "    <tr style=\"text-align: right;\">\n",
       "      <th></th>\n",
       "      <th>Email</th>\n",
       "      <th>First Name</th>\n",
       "      <th>Last Name</th>\n",
       "    </tr>\n",
       "  </thead>\n",
       "  <tbody>\n",
       "    <tr>\n",
       "      <th>0</th>\n",
       "      <td>nm@gmail.com</td>\n",
       "      <td>Narendra</td>\n",
       "      <td>Modi</td>\n",
       "    </tr>\n",
       "    <tr>\n",
       "      <th>1</th>\n",
       "      <td>rg@yahoo.com</td>\n",
       "      <td>Rahul</td>\n",
       "      <td>Gandhi</td>\n",
       "    </tr>\n",
       "    <tr>\n",
       "      <th>2</th>\n",
       "      <td>as@hotmail.com</td>\n",
       "      <td>Amit</td>\n",
       "      <td>Shah</td>\n",
       "    </tr>\n",
       "    <tr>\n",
       "      <th>3</th>\n",
       "      <td>niv@gmail.com</td>\n",
       "      <td>Nirav</td>\n",
       "      <td>Modi</td>\n",
       "    </tr>\n",
       "  </tbody>\n",
       "</table>\n",
       "</div>"
      ],
      "text/plain": [
       "            Email First Name Last Name\n",
       "0    nm@gmail.com   Narendra      Modi\n",
       "1    rg@yahoo.com      Rahul    Gandhi\n",
       "2  as@hotmail.com       Amit      Shah\n",
       "3   niv@gmail.com      Nirav      Modi"
      ]
     },
     "execution_count": 50,
     "metadata": {},
     "output_type": "execute_result"
    }
   ],
   "source": [
    "df"
   ]
  },
  {
   "cell_type": "code",
   "execution_count": 51,
   "id": "9ad4ec43",
   "metadata": {},
   "outputs": [
    {
     "data": {
      "text/html": [
       "<div>\n",
       "<style scoped>\n",
       "    .dataframe tbody tr th:only-of-type {\n",
       "        vertical-align: middle;\n",
       "    }\n",
       "\n",
       "    .dataframe tbody tr th {\n",
       "        vertical-align: top;\n",
       "    }\n",
       "\n",
       "    .dataframe thead th {\n",
       "        text-align: right;\n",
       "    }\n",
       "</style>\n",
       "<table border=\"1\" class=\"dataframe\">\n",
       "  <thead>\n",
       "    <tr style=\"text-align: right;\">\n",
       "      <th></th>\n",
       "      <th>EMAIL</th>\n",
       "      <th>FIRST NAME</th>\n",
       "      <th>LAST NAME</th>\n",
       "    </tr>\n",
       "  </thead>\n",
       "  <tbody>\n",
       "    <tr>\n",
       "      <th>0</th>\n",
       "      <td>nm@gmail.com</td>\n",
       "      <td>Narendra</td>\n",
       "      <td>Modi</td>\n",
       "    </tr>\n",
       "    <tr>\n",
       "      <th>1</th>\n",
       "      <td>rg@yahoo.com</td>\n",
       "      <td>Rahul</td>\n",
       "      <td>Gandhi</td>\n",
       "    </tr>\n",
       "    <tr>\n",
       "      <th>2</th>\n",
       "      <td>as@hotmail.com</td>\n",
       "      <td>Amit</td>\n",
       "      <td>Shah</td>\n",
       "    </tr>\n",
       "    <tr>\n",
       "      <th>3</th>\n",
       "      <td>niv@gmail.com</td>\n",
       "      <td>Nirav</td>\n",
       "      <td>Modi</td>\n",
       "    </tr>\n",
       "  </tbody>\n",
       "</table>\n",
       "</div>"
      ],
      "text/plain": [
       "            EMAIL FIRST NAME LAST NAME\n",
       "0    nm@gmail.com   Narendra      Modi\n",
       "1    rg@yahoo.com      Rahul    Gandhi\n",
       "2  as@hotmail.com       Amit      Shah\n",
       "3   niv@gmail.com      Nirav      Modi"
      ]
     },
     "execution_count": 51,
     "metadata": {},
     "output_type": "execute_result"
    }
   ],
   "source": [
    "#List comprehension to change the column names\n",
    "df.columns = [x.upper() for x in df.columns]\n",
    "df"
   ]
  },
  {
   "cell_type": "code",
   "execution_count": 52,
   "id": "26abf21b",
   "metadata": {},
   "outputs": [],
   "source": [
    "#When we have a space in the column names we cannot use the attribute like df.First Name because the space will make the interpreter assume that it is another variable."
   ]
  },
  {
   "cell_type": "code",
   "execution_count": 53,
   "id": "ca505681",
   "metadata": {},
   "outputs": [
    {
     "data": {
      "text/html": [
       "<div>\n",
       "<style scoped>\n",
       "    .dataframe tbody tr th:only-of-type {\n",
       "        vertical-align: middle;\n",
       "    }\n",
       "\n",
       "    .dataframe tbody tr th {\n",
       "        vertical-align: top;\n",
       "    }\n",
       "\n",
       "    .dataframe thead th {\n",
       "        text-align: right;\n",
       "    }\n",
       "</style>\n",
       "<table border=\"1\" class=\"dataframe\">\n",
       "  <thead>\n",
       "    <tr style=\"text-align: right;\">\n",
       "      <th></th>\n",
       "      <th>EMAIL</th>\n",
       "      <th>FIRST_NAME</th>\n",
       "      <th>LAST_NAME</th>\n",
       "    </tr>\n",
       "  </thead>\n",
       "  <tbody>\n",
       "    <tr>\n",
       "      <th>0</th>\n",
       "      <td>nm@gmail.com</td>\n",
       "      <td>Narendra</td>\n",
       "      <td>Modi</td>\n",
       "    </tr>\n",
       "    <tr>\n",
       "      <th>1</th>\n",
       "      <td>rg@yahoo.com</td>\n",
       "      <td>Rahul</td>\n",
       "      <td>Gandhi</td>\n",
       "    </tr>\n",
       "    <tr>\n",
       "      <th>2</th>\n",
       "      <td>as@hotmail.com</td>\n",
       "      <td>Amit</td>\n",
       "      <td>Shah</td>\n",
       "    </tr>\n",
       "    <tr>\n",
       "      <th>3</th>\n",
       "      <td>niv@gmail.com</td>\n",
       "      <td>Nirav</td>\n",
       "      <td>Modi</td>\n",
       "    </tr>\n",
       "  </tbody>\n",
       "</table>\n",
       "</div>"
      ],
      "text/plain": [
       "            EMAIL FIRST_NAME LAST_NAME\n",
       "0    nm@gmail.com   Narendra      Modi\n",
       "1    rg@yahoo.com      Rahul    Gandhi\n",
       "2  as@hotmail.com       Amit      Shah\n",
       "3   niv@gmail.com      Nirav      Modi"
      ]
     },
     "execution_count": 53,
     "metadata": {},
     "output_type": "execute_result"
    }
   ],
   "source": [
    "df.columns = df.columns.str.replace(' ','_')\n",
    "df"
   ]
  },
  {
   "cell_type": "code",
   "execution_count": 54,
   "id": "8f2f2feb",
   "metadata": {},
   "outputs": [
    {
     "data": {
      "text/html": [
       "<div>\n",
       "<style scoped>\n",
       "    .dataframe tbody tr th:only-of-type {\n",
       "        vertical-align: middle;\n",
       "    }\n",
       "\n",
       "    .dataframe tbody tr th {\n",
       "        vertical-align: top;\n",
       "    }\n",
       "\n",
       "    .dataframe thead th {\n",
       "        text-align: right;\n",
       "    }\n",
       "</style>\n",
       "<table border=\"1\" class=\"dataframe\">\n",
       "  <thead>\n",
       "    <tr style=\"text-align: right;\">\n",
       "      <th></th>\n",
       "      <th>email</th>\n",
       "      <th>first_name</th>\n",
       "      <th>last_name</th>\n",
       "    </tr>\n",
       "  </thead>\n",
       "  <tbody>\n",
       "    <tr>\n",
       "      <th>0</th>\n",
       "      <td>nm@gmail.com</td>\n",
       "      <td>Narendra</td>\n",
       "      <td>Modi</td>\n",
       "    </tr>\n",
       "    <tr>\n",
       "      <th>1</th>\n",
       "      <td>rg@yahoo.com</td>\n",
       "      <td>Rahul</td>\n",
       "      <td>Gandhi</td>\n",
       "    </tr>\n",
       "    <tr>\n",
       "      <th>2</th>\n",
       "      <td>as@hotmail.com</td>\n",
       "      <td>Amit</td>\n",
       "      <td>Shah</td>\n",
       "    </tr>\n",
       "    <tr>\n",
       "      <th>3</th>\n",
       "      <td>niv@gmail.com</td>\n",
       "      <td>Nirav</td>\n",
       "      <td>Modi</td>\n",
       "    </tr>\n",
       "  </tbody>\n",
       "</table>\n",
       "</div>"
      ],
      "text/plain": [
       "            email first_name last_name\n",
       "0    nm@gmail.com   Narendra      Modi\n",
       "1    rg@yahoo.com      Rahul    Gandhi\n",
       "2  as@hotmail.com       Amit      Shah\n",
       "3   niv@gmail.com      Nirav      Modi"
      ]
     },
     "execution_count": 54,
     "metadata": {},
     "output_type": "execute_result"
    }
   ],
   "source": [
    "df.columns = [x.lower() for x in df.columns]\n",
    "df"
   ]
  },
  {
   "cell_type": "code",
   "execution_count": 55,
   "id": "b203cfdb",
   "metadata": {},
   "outputs": [],
   "source": [
    "#What if we want to change only some columns in the dataframe instead of all the columns"
   ]
  },
  {
   "cell_type": "code",
   "execution_count": 56,
   "id": "8e45eff3",
   "metadata": {},
   "outputs": [
    {
     "data": {
      "text/html": [
       "<div>\n",
       "<style scoped>\n",
       "    .dataframe tbody tr th:only-of-type {\n",
       "        vertical-align: middle;\n",
       "    }\n",
       "\n",
       "    .dataframe tbody tr th {\n",
       "        vertical-align: top;\n",
       "    }\n",
       "\n",
       "    .dataframe thead th {\n",
       "        text-align: right;\n",
       "    }\n",
       "</style>\n",
       "<table border=\"1\" class=\"dataframe\">\n",
       "  <thead>\n",
       "    <tr style=\"text-align: right;\">\n",
       "      <th></th>\n",
       "      <th>email</th>\n",
       "      <th>First</th>\n",
       "      <th>Last</th>\n",
       "    </tr>\n",
       "  </thead>\n",
       "  <tbody>\n",
       "    <tr>\n",
       "      <th>0</th>\n",
       "      <td>nm@gmail.com</td>\n",
       "      <td>Narendra</td>\n",
       "      <td>Modi</td>\n",
       "    </tr>\n",
       "    <tr>\n",
       "      <th>1</th>\n",
       "      <td>rg@yahoo.com</td>\n",
       "      <td>Rahul</td>\n",
       "      <td>Gandhi</td>\n",
       "    </tr>\n",
       "    <tr>\n",
       "      <th>2</th>\n",
       "      <td>as@hotmail.com</td>\n",
       "      <td>Amit</td>\n",
       "      <td>Shah</td>\n",
       "    </tr>\n",
       "    <tr>\n",
       "      <th>3</th>\n",
       "      <td>niv@gmail.com</td>\n",
       "      <td>Nirav</td>\n",
       "      <td>Modi</td>\n",
       "    </tr>\n",
       "  </tbody>\n",
       "</table>\n",
       "</div>"
      ],
      "text/plain": [
       "            email     First    Last\n",
       "0    nm@gmail.com  Narendra    Modi\n",
       "1    rg@yahoo.com     Rahul  Gandhi\n",
       "2  as@hotmail.com      Amit    Shah\n",
       "3   niv@gmail.com     Nirav    Modi"
      ]
     },
     "execution_count": 56,
     "metadata": {},
     "output_type": "execute_result"
    }
   ],
   "source": [
    "df.rename(columns={\"first_name\":\"First\",\"last_name\":\"Last\"})#without inplace=True"
   ]
  },
  {
   "cell_type": "code",
   "execution_count": 57,
   "id": "d0388e93",
   "metadata": {},
   "outputs": [
    {
     "data": {
      "text/html": [
       "<div>\n",
       "<style scoped>\n",
       "    .dataframe tbody tr th:only-of-type {\n",
       "        vertical-align: middle;\n",
       "    }\n",
       "\n",
       "    .dataframe tbody tr th {\n",
       "        vertical-align: top;\n",
       "    }\n",
       "\n",
       "    .dataframe thead th {\n",
       "        text-align: right;\n",
       "    }\n",
       "</style>\n",
       "<table border=\"1\" class=\"dataframe\">\n",
       "  <thead>\n",
       "    <tr style=\"text-align: right;\">\n",
       "      <th></th>\n",
       "      <th>email</th>\n",
       "      <th>first_name</th>\n",
       "      <th>last_name</th>\n",
       "    </tr>\n",
       "  </thead>\n",
       "  <tbody>\n",
       "    <tr>\n",
       "      <th>0</th>\n",
       "      <td>nm@gmail.com</td>\n",
       "      <td>Narendra</td>\n",
       "      <td>Modi</td>\n",
       "    </tr>\n",
       "    <tr>\n",
       "      <th>1</th>\n",
       "      <td>rg@yahoo.com</td>\n",
       "      <td>Rahul</td>\n",
       "      <td>Gandhi</td>\n",
       "    </tr>\n",
       "    <tr>\n",
       "      <th>2</th>\n",
       "      <td>as@hotmail.com</td>\n",
       "      <td>Amit</td>\n",
       "      <td>Shah</td>\n",
       "    </tr>\n",
       "    <tr>\n",
       "      <th>3</th>\n",
       "      <td>niv@gmail.com</td>\n",
       "      <td>Nirav</td>\n",
       "      <td>Modi</td>\n",
       "    </tr>\n",
       "  </tbody>\n",
       "</table>\n",
       "</div>"
      ],
      "text/plain": [
       "            email first_name last_name\n",
       "0    nm@gmail.com   Narendra      Modi\n",
       "1    rg@yahoo.com      Rahul    Gandhi\n",
       "2  as@hotmail.com       Amit      Shah\n",
       "3   niv@gmail.com      Nirav      Modi"
      ]
     },
     "execution_count": 57,
     "metadata": {},
     "output_type": "execute_result"
    }
   ],
   "source": [
    "df"
   ]
  },
  {
   "cell_type": "code",
   "execution_count": 58,
   "id": "e99f63d9",
   "metadata": {},
   "outputs": [
    {
     "data": {
      "text/html": [
       "<div>\n",
       "<style scoped>\n",
       "    .dataframe tbody tr th:only-of-type {\n",
       "        vertical-align: middle;\n",
       "    }\n",
       "\n",
       "    .dataframe tbody tr th {\n",
       "        vertical-align: top;\n",
       "    }\n",
       "\n",
       "    .dataframe thead th {\n",
       "        text-align: right;\n",
       "    }\n",
       "</style>\n",
       "<table border=\"1\" class=\"dataframe\">\n",
       "  <thead>\n",
       "    <tr style=\"text-align: right;\">\n",
       "      <th></th>\n",
       "      <th>email</th>\n",
       "      <th>First</th>\n",
       "      <th>Last</th>\n",
       "    </tr>\n",
       "  </thead>\n",
       "  <tbody>\n",
       "    <tr>\n",
       "      <th>0</th>\n",
       "      <td>nm@gmail.com</td>\n",
       "      <td>Narendra</td>\n",
       "      <td>Modi</td>\n",
       "    </tr>\n",
       "    <tr>\n",
       "      <th>1</th>\n",
       "      <td>rg@yahoo.com</td>\n",
       "      <td>Rahul</td>\n",
       "      <td>Gandhi</td>\n",
       "    </tr>\n",
       "    <tr>\n",
       "      <th>2</th>\n",
       "      <td>as@hotmail.com</td>\n",
       "      <td>Amit</td>\n",
       "      <td>Shah</td>\n",
       "    </tr>\n",
       "    <tr>\n",
       "      <th>3</th>\n",
       "      <td>niv@gmail.com</td>\n",
       "      <td>Nirav</td>\n",
       "      <td>Modi</td>\n",
       "    </tr>\n",
       "  </tbody>\n",
       "</table>\n",
       "</div>"
      ],
      "text/plain": [
       "            email     First    Last\n",
       "0    nm@gmail.com  Narendra    Modi\n",
       "1    rg@yahoo.com     Rahul  Gandhi\n",
       "2  as@hotmail.com      Amit    Shah\n",
       "3   niv@gmail.com     Nirav    Modi"
      ]
     },
     "execution_count": 58,
     "metadata": {},
     "output_type": "execute_result"
    }
   ],
   "source": [
    "df.rename(columns={\"first_name\":\"First\",\"last_name\":\"Last\"},inplace=True)\n",
    "df"
   ]
  },
  {
   "cell_type": "code",
   "execution_count": 59,
   "id": "182bbf37",
   "metadata": {},
   "outputs": [
    {
     "data": {
      "text/plain": [
       "email    as@hotmail.com\n",
       "First              Amit\n",
       "Last               Shah\n",
       "Name: 2, dtype: object"
      ]
     },
     "execution_count": 59,
     "metadata": {},
     "output_type": "execute_result"
    }
   ],
   "source": [
    "#Updating a row in a data frame\n",
    "df.loc[2]"
   ]
  },
  {
   "cell_type": "code",
   "execution_count": 60,
   "id": "d095f0a3",
   "metadata": {},
   "outputs": [],
   "source": [
    "#1.Changing the entire row\n",
    "df.loc[2]=['md@gmail.com','Mohan','Das']\n",
    "#This method is tedious if the number of columns is very high"
   ]
  },
  {
   "cell_type": "code",
   "execution_count": 61,
   "id": "71bfec7c",
   "metadata": {},
   "outputs": [
    {
     "data": {
      "text/plain": [
       "email    md@gmail.com\n",
       "First           Mohan\n",
       "Last              Das\n",
       "Name: 2, dtype: object"
      ]
     },
     "execution_count": 61,
     "metadata": {},
     "output_type": "execute_result"
    }
   ],
   "source": [
    "df.loc[2]"
   ]
  },
  {
   "cell_type": "code",
   "execution_count": 62,
   "id": "497a2a36",
   "metadata": {},
   "outputs": [
    {
     "data": {
      "text/html": [
       "<div>\n",
       "<style scoped>\n",
       "    .dataframe tbody tr th:only-of-type {\n",
       "        vertical-align: middle;\n",
       "    }\n",
       "\n",
       "    .dataframe tbody tr th {\n",
       "        vertical-align: top;\n",
       "    }\n",
       "\n",
       "    .dataframe thead th {\n",
       "        text-align: right;\n",
       "    }\n",
       "</style>\n",
       "<table border=\"1\" class=\"dataframe\">\n",
       "  <thead>\n",
       "    <tr style=\"text-align: right;\">\n",
       "      <th></th>\n",
       "      <th>email</th>\n",
       "      <th>First</th>\n",
       "      <th>Last</th>\n",
       "    </tr>\n",
       "  </thead>\n",
       "  <tbody>\n",
       "    <tr>\n",
       "      <th>0</th>\n",
       "      <td>nm@gmail.com</td>\n",
       "      <td>Narendra</td>\n",
       "      <td>Modi</td>\n",
       "    </tr>\n",
       "    <tr>\n",
       "      <th>1</th>\n",
       "      <td>rg@yahoo.com</td>\n",
       "      <td>Rahul</td>\n",
       "      <td>Gandhi</td>\n",
       "    </tr>\n",
       "    <tr>\n",
       "      <th>2</th>\n",
       "      <td>md@gmail.com</td>\n",
       "      <td>Mohan</td>\n",
       "      <td>Das</td>\n",
       "    </tr>\n",
       "    <tr>\n",
       "      <th>3</th>\n",
       "      <td>niv@gmail.com</td>\n",
       "      <td>Nirav</td>\n",
       "      <td>Modi</td>\n",
       "    </tr>\n",
       "  </tbody>\n",
       "</table>\n",
       "</div>"
      ],
      "text/plain": [
       "           email     First    Last\n",
       "0   nm@gmail.com  Narendra    Modi\n",
       "1   rg@yahoo.com     Rahul  Gandhi\n",
       "2   md@gmail.com     Mohan     Das\n",
       "3  niv@gmail.com     Nirav    Modi"
      ]
     },
     "execution_count": 62,
     "metadata": {},
     "output_type": "execute_result"
    }
   ],
   "source": [
    "df"
   ]
  },
  {
   "cell_type": "code",
   "execution_count": 63,
   "id": "1d6ef4e7",
   "metadata": {},
   "outputs": [],
   "source": [
    "#2.To change elemets of a row. We are changing the last name and email of row2\n",
    "df.loc[2,[\"Last\",\"email\"]]=[\"DasGupta\",\"mdg@gmail.com\"]"
   ]
  },
  {
   "cell_type": "code",
   "execution_count": 64,
   "id": "815843d3",
   "metadata": {},
   "outputs": [
    {
     "data": {
      "text/html": [
       "<div>\n",
       "<style scoped>\n",
       "    .dataframe tbody tr th:only-of-type {\n",
       "        vertical-align: middle;\n",
       "    }\n",
       "\n",
       "    .dataframe tbody tr th {\n",
       "        vertical-align: top;\n",
       "    }\n",
       "\n",
       "    .dataframe thead th {\n",
       "        text-align: right;\n",
       "    }\n",
       "</style>\n",
       "<table border=\"1\" class=\"dataframe\">\n",
       "  <thead>\n",
       "    <tr style=\"text-align: right;\">\n",
       "      <th></th>\n",
       "      <th>email</th>\n",
       "      <th>First</th>\n",
       "      <th>Last</th>\n",
       "    </tr>\n",
       "  </thead>\n",
       "  <tbody>\n",
       "    <tr>\n",
       "      <th>0</th>\n",
       "      <td>nm@gmail.com</td>\n",
       "      <td>Narendra</td>\n",
       "      <td>Modi</td>\n",
       "    </tr>\n",
       "    <tr>\n",
       "      <th>1</th>\n",
       "      <td>rg@yahoo.com</td>\n",
       "      <td>Rahul</td>\n",
       "      <td>Gandhi</td>\n",
       "    </tr>\n",
       "    <tr>\n",
       "      <th>2</th>\n",
       "      <td>mdg@gmail.com</td>\n",
       "      <td>Mohan</td>\n",
       "      <td>DasGupta</td>\n",
       "    </tr>\n",
       "    <tr>\n",
       "      <th>3</th>\n",
       "      <td>niv@gmail.com</td>\n",
       "      <td>Nirav</td>\n",
       "      <td>Modi</td>\n",
       "    </tr>\n",
       "  </tbody>\n",
       "</table>\n",
       "</div>"
      ],
      "text/plain": [
       "           email     First      Last\n",
       "0   nm@gmail.com  Narendra      Modi\n",
       "1   rg@yahoo.com     Rahul    Gandhi\n",
       "2  mdg@gmail.com     Mohan  DasGupta\n",
       "3  niv@gmail.com     Nirav      Modi"
      ]
     },
     "execution_count": 64,
     "metadata": {},
     "output_type": "execute_result"
    }
   ],
   "source": [
    "df"
   ]
  },
  {
   "cell_type": "code",
   "execution_count": 63,
   "id": "da5c99da",
   "metadata": {},
   "outputs": [],
   "source": [
    "#Changing lastname back to das\n",
    "df.loc[2,\"Last\"]=\"Das\""
   ]
  },
  {
   "cell_type": "code",
   "execution_count": 64,
   "id": "e6005097",
   "metadata": {},
   "outputs": [
    {
     "data": {
      "text/html": [
       "<div>\n",
       "<style scoped>\n",
       "    .dataframe tbody tr th:only-of-type {\n",
       "        vertical-align: middle;\n",
       "    }\n",
       "\n",
       "    .dataframe tbody tr th {\n",
       "        vertical-align: top;\n",
       "    }\n",
       "\n",
       "    .dataframe thead th {\n",
       "        text-align: right;\n",
       "    }\n",
       "</style>\n",
       "<table border=\"1\" class=\"dataframe\">\n",
       "  <thead>\n",
       "    <tr style=\"text-align: right;\">\n",
       "      <th></th>\n",
       "      <th>email</th>\n",
       "      <th>First</th>\n",
       "      <th>Last</th>\n",
       "    </tr>\n",
       "  </thead>\n",
       "  <tbody>\n",
       "    <tr>\n",
       "      <th>0</th>\n",
       "      <td>nm@gmail.com</td>\n",
       "      <td>Narendra</td>\n",
       "      <td>Modi</td>\n",
       "    </tr>\n",
       "    <tr>\n",
       "      <th>1</th>\n",
       "      <td>rg@yahoo.com</td>\n",
       "      <td>Rahul</td>\n",
       "      <td>Gandhi</td>\n",
       "    </tr>\n",
       "    <tr>\n",
       "      <th>2</th>\n",
       "      <td>mdg@gmail.com</td>\n",
       "      <td>Mohan</td>\n",
       "      <td>Das</td>\n",
       "    </tr>\n",
       "    <tr>\n",
       "      <th>3</th>\n",
       "      <td>niv@gmail.com</td>\n",
       "      <td>Nirav</td>\n",
       "      <td>Modi</td>\n",
       "    </tr>\n",
       "  </tbody>\n",
       "</table>\n",
       "</div>"
      ],
      "text/plain": [
       "           email     First    Last\n",
       "0   nm@gmail.com  Narendra    Modi\n",
       "1   rg@yahoo.com     Rahul  Gandhi\n",
       "2  mdg@gmail.com     Mohan     Das\n",
       "3  niv@gmail.com     Nirav    Modi"
      ]
     },
     "execution_count": 64,
     "metadata": {},
     "output_type": "execute_result"
    }
   ],
   "source": [
    "df"
   ]
  },
  {
   "cell_type": "code",
   "execution_count": 65,
   "id": "a83b2f62",
   "metadata": {},
   "outputs": [
    {
     "data": {
      "text/html": [
       "<div>\n",
       "<style scoped>\n",
       "    .dataframe tbody tr th:only-of-type {\n",
       "        vertical-align: middle;\n",
       "    }\n",
       "\n",
       "    .dataframe tbody tr th {\n",
       "        vertical-align: top;\n",
       "    }\n",
       "\n",
       "    .dataframe thead th {\n",
       "        text-align: right;\n",
       "    }\n",
       "</style>\n",
       "<table border=\"1\" class=\"dataframe\">\n",
       "  <thead>\n",
       "    <tr style=\"text-align: right;\">\n",
       "      <th></th>\n",
       "      <th>email</th>\n",
       "      <th>First</th>\n",
       "      <th>Last</th>\n",
       "    </tr>\n",
       "  </thead>\n",
       "  <tbody>\n",
       "    <tr>\n",
       "      <th>2</th>\n",
       "      <td>mdg@gmail.com</td>\n",
       "      <td>Mohan</td>\n",
       "      <td>Das</td>\n",
       "    </tr>\n",
       "  </tbody>\n",
       "</table>\n",
       "</div>"
      ],
      "text/plain": [
       "           email  First Last\n",
       "2  mdg@gmail.com  Mohan  Das"
      ]
     },
     "execution_count": 65,
     "metadata": {},
     "output_type": "execute_result"
    }
   ],
   "source": [
    "#Most common Mistake is without using indexes: example:-\n",
    "filt1 = (df['email']=='mdg@gmail.com')\n",
    "df[filt1]"
   ]
  },
  {
   "cell_type": "code",
   "execution_count": 66,
   "id": "23ea5a80",
   "metadata": {},
   "outputs": [
    {
     "data": {
      "text/plain": [
       "2    Das\n",
       "Name: Last, dtype: object"
      ]
     },
     "execution_count": 66,
     "metadata": {},
     "output_type": "execute_result"
    }
   ],
   "source": [
    "df[filt1][\"Last\"]"
   ]
  },
  {
   "cell_type": "code",
   "execution_count": 67,
   "id": "5a8ccece",
   "metadata": {},
   "outputs": [
    {
     "name": "stderr",
     "output_type": "stream",
     "text": [
      "<ipython-input-67-5ffe1243bf3e>:1: SettingWithCopyWarning: \n",
      "A value is trying to be set on a copy of a slice from a DataFrame.\n",
      "Try using .loc[row_indexer,col_indexer] = value instead\n",
      "\n",
      "See the caveats in the documentation: https://pandas.pydata.org/pandas-docs/stable/user_guide/indexing.html#returning-a-view-versus-a-copy\n",
      "  df[filt1][\"Last\"]=\"DasGupta\"\n"
     ]
    }
   ],
   "source": [
    "df[filt1][\"Last\"]=\"DasGupta\""
   ]
  },
  {
   "cell_type": "code",
   "execution_count": 68,
   "id": "3aa62179",
   "metadata": {},
   "outputs": [
    {
     "data": {
      "text/html": [
       "<div>\n",
       "<style scoped>\n",
       "    .dataframe tbody tr th:only-of-type {\n",
       "        vertical-align: middle;\n",
       "    }\n",
       "\n",
       "    .dataframe tbody tr th {\n",
       "        vertical-align: top;\n",
       "    }\n",
       "\n",
       "    .dataframe thead th {\n",
       "        text-align: right;\n",
       "    }\n",
       "</style>\n",
       "<table border=\"1\" class=\"dataframe\">\n",
       "  <thead>\n",
       "    <tr style=\"text-align: right;\">\n",
       "      <th></th>\n",
       "      <th>email</th>\n",
       "      <th>First</th>\n",
       "      <th>Last</th>\n",
       "    </tr>\n",
       "  </thead>\n",
       "  <tbody>\n",
       "    <tr>\n",
       "      <th>0</th>\n",
       "      <td>nm@gmail.com</td>\n",
       "      <td>Narendra</td>\n",
       "      <td>Modi</td>\n",
       "    </tr>\n",
       "    <tr>\n",
       "      <th>1</th>\n",
       "      <td>rg@yahoo.com</td>\n",
       "      <td>Rahul</td>\n",
       "      <td>Gandhi</td>\n",
       "    </tr>\n",
       "    <tr>\n",
       "      <th>2</th>\n",
       "      <td>mdg@gmail.com</td>\n",
       "      <td>Mohan</td>\n",
       "      <td>Das</td>\n",
       "    </tr>\n",
       "    <tr>\n",
       "      <th>3</th>\n",
       "      <td>niv@gmail.com</td>\n",
       "      <td>Nirav</td>\n",
       "      <td>Modi</td>\n",
       "    </tr>\n",
       "  </tbody>\n",
       "</table>\n",
       "</div>"
      ],
      "text/plain": [
       "           email     First    Last\n",
       "0   nm@gmail.com  Narendra    Modi\n",
       "1   rg@yahoo.com     Rahul  Gandhi\n",
       "2  mdg@gmail.com     Mohan     Das\n",
       "3  niv@gmail.com     Nirav    Modi"
      ]
     },
     "execution_count": 68,
     "metadata": {},
     "output_type": "execute_result"
    }
   ],
   "source": [
    "#Setting with copy warning has occured. We can see that it is just a warning but something worked\n",
    "df"
   ]
  },
  {
   "cell_type": "code",
   "execution_count": 69,
   "id": "1eada273",
   "metadata": {},
   "outputs": [
    {
     "data": {
      "text/html": [
       "<div>\n",
       "<style scoped>\n",
       "    .dataframe tbody tr th:only-of-type {\n",
       "        vertical-align: middle;\n",
       "    }\n",
       "\n",
       "    .dataframe tbody tr th {\n",
       "        vertical-align: top;\n",
       "    }\n",
       "\n",
       "    .dataframe thead th {\n",
       "        text-align: right;\n",
       "    }\n",
       "</style>\n",
       "<table border=\"1\" class=\"dataframe\">\n",
       "  <thead>\n",
       "    <tr style=\"text-align: right;\">\n",
       "      <th></th>\n",
       "      <th>email</th>\n",
       "      <th>First</th>\n",
       "      <th>Last</th>\n",
       "    </tr>\n",
       "  </thead>\n",
       "  <tbody>\n",
       "    <tr>\n",
       "      <th>0</th>\n",
       "      <td>nm@gmail.com</td>\n",
       "      <td>Narendra</td>\n",
       "      <td>Modi</td>\n",
       "    </tr>\n",
       "    <tr>\n",
       "      <th>1</th>\n",
       "      <td>rg@yahoo.com</td>\n",
       "      <td>Rahul</td>\n",
       "      <td>Gandhi</td>\n",
       "    </tr>\n",
       "    <tr>\n",
       "      <th>2</th>\n",
       "      <td>mdg@gmail.com</td>\n",
       "      <td>Mohan</td>\n",
       "      <td>DasGupta</td>\n",
       "    </tr>\n",
       "    <tr>\n",
       "      <th>3</th>\n",
       "      <td>niv@gmail.com</td>\n",
       "      <td>Nirav</td>\n",
       "      <td>Modi</td>\n",
       "    </tr>\n",
       "  </tbody>\n",
       "</table>\n",
       "</div>"
      ],
      "text/plain": [
       "           email     First      Last\n",
       "0   nm@gmail.com  Narendra      Modi\n",
       "1   rg@yahoo.com     Rahul    Gandhi\n",
       "2  mdg@gmail.com     Mohan  DasGupta\n",
       "3  niv@gmail.com     Nirav      Modi"
      ]
     },
     "execution_count": 69,
     "metadata": {},
     "output_type": "execute_result"
    }
   ],
   "source": [
    "#The values did not change. Warning clearly mentions that we should use .loc instead of doing it on a slice\n",
    "df.loc[filt1,\"Last\"]=\"DasGupta\"\n",
    "df\n",
    "#This will work great! Never ignore the warnings"
   ]
  },
  {
   "cell_type": "code",
   "execution_count": 70,
   "id": "822e2a70",
   "metadata": {},
   "outputs": [
    {
     "data": {
      "text/html": [
       "<div>\n",
       "<style scoped>\n",
       "    .dataframe tbody tr th:only-of-type {\n",
       "        vertical-align: middle;\n",
       "    }\n",
       "\n",
       "    .dataframe tbody tr th {\n",
       "        vertical-align: top;\n",
       "    }\n",
       "\n",
       "    .dataframe thead th {\n",
       "        text-align: right;\n",
       "    }\n",
       "</style>\n",
       "<table border=\"1\" class=\"dataframe\">\n",
       "  <thead>\n",
       "    <tr style=\"text-align: right;\">\n",
       "      <th></th>\n",
       "      <th>email</th>\n",
       "      <th>First</th>\n",
       "      <th>Last</th>\n",
       "    </tr>\n",
       "  </thead>\n",
       "  <tbody>\n",
       "    <tr>\n",
       "      <th>0</th>\n",
       "      <td>NM@GMAIL.COM</td>\n",
       "      <td>Narendra</td>\n",
       "      <td>Modi</td>\n",
       "    </tr>\n",
       "    <tr>\n",
       "      <th>1</th>\n",
       "      <td>RG@YAHOO.COM</td>\n",
       "      <td>Rahul</td>\n",
       "      <td>Gandhi</td>\n",
       "    </tr>\n",
       "    <tr>\n",
       "      <th>2</th>\n",
       "      <td>MDG@GMAIL.COM</td>\n",
       "      <td>Mohan</td>\n",
       "      <td>DasGupta</td>\n",
       "    </tr>\n",
       "    <tr>\n",
       "      <th>3</th>\n",
       "      <td>NIV@GMAIL.COM</td>\n",
       "      <td>Nirav</td>\n",
       "      <td>Modi</td>\n",
       "    </tr>\n",
       "  </tbody>\n",
       "</table>\n",
       "</div>"
      ],
      "text/plain": [
       "           email     First      Last\n",
       "0   NM@GMAIL.COM  Narendra      Modi\n",
       "1   RG@YAHOO.COM     Rahul    Gandhi\n",
       "2  MDG@GMAIL.COM     Mohan  DasGupta\n",
       "3  NIV@GMAIL.COM     Nirav      Modi"
      ]
     },
     "execution_count": 70,
     "metadata": {},
     "output_type": "execute_result"
    }
   ],
   "source": [
    "#Updating multiple rows of data\n",
    "df[\"email\"]=df[\"email\"].str.upper()\n",
    "df"
   ]
  },
  {
   "cell_type": "code",
   "execution_count": 71,
   "id": "899dc234",
   "metadata": {},
   "outputs": [
    {
     "data": {
      "text/html": [
       "<div>\n",
       "<style scoped>\n",
       "    .dataframe tbody tr th:only-of-type {\n",
       "        vertical-align: middle;\n",
       "    }\n",
       "\n",
       "    .dataframe tbody tr th {\n",
       "        vertical-align: top;\n",
       "    }\n",
       "\n",
       "    .dataframe thead th {\n",
       "        text-align: right;\n",
       "    }\n",
       "</style>\n",
       "<table border=\"1\" class=\"dataframe\">\n",
       "  <thead>\n",
       "    <tr style=\"text-align: right;\">\n",
       "      <th></th>\n",
       "      <th>email</th>\n",
       "      <th>First</th>\n",
       "      <th>Last</th>\n",
       "    </tr>\n",
       "  </thead>\n",
       "  <tbody>\n",
       "    <tr>\n",
       "      <th>0</th>\n",
       "      <td>nm@gmail.com</td>\n",
       "      <td>Narendra</td>\n",
       "      <td>Modi</td>\n",
       "    </tr>\n",
       "    <tr>\n",
       "      <th>1</th>\n",
       "      <td>rg@yahoo.com</td>\n",
       "      <td>Rahul</td>\n",
       "      <td>Gandhi</td>\n",
       "    </tr>\n",
       "    <tr>\n",
       "      <th>2</th>\n",
       "      <td>mdg@gmail.com</td>\n",
       "      <td>Mohan</td>\n",
       "      <td>DasGupta</td>\n",
       "    </tr>\n",
       "    <tr>\n",
       "      <th>3</th>\n",
       "      <td>niv@gmail.com</td>\n",
       "      <td>Nirav</td>\n",
       "      <td>Modi</td>\n",
       "    </tr>\n",
       "  </tbody>\n",
       "</table>\n",
       "</div>"
      ],
      "text/plain": [
       "           email     First      Last\n",
       "0   nm@gmail.com  Narendra      Modi\n",
       "1   rg@yahoo.com     Rahul    Gandhi\n",
       "2  mdg@gmail.com     Mohan  DasGupta\n",
       "3  niv@gmail.com     Nirav      Modi"
      ]
     },
     "execution_count": 71,
     "metadata": {},
     "output_type": "execute_result"
    }
   ],
   "source": [
    "df[\"email\"]=df[\"email\"].str.lower()\n",
    "df"
   ]
  },
  {
   "cell_type": "code",
   "execution_count": 72,
   "id": "5eab125d",
   "metadata": {},
   "outputs": [],
   "source": [
    "#Four important methods we can regularly use in pandas:-\n",
    "#apply\n",
    "#map\n",
    "#applymap\n",
    "#replace"
   ]
  },
  {
   "cell_type": "code",
   "execution_count": 73,
   "id": "12799663",
   "metadata": {},
   "outputs": [],
   "source": [
    "#1.apply - it works on both series and dataframe"
   ]
  },
  {
   "cell_type": "code",
   "execution_count": 74,
   "id": "bbffb063",
   "metadata": {},
   "outputs": [
    {
     "data": {
      "text/plain": [
       "0    12\n",
       "1    12\n",
       "2    13\n",
       "3    13\n",
       "Name: email, dtype: int64"
      ]
     },
     "execution_count": 74,
     "metadata": {},
     "output_type": "execute_result"
    }
   ],
   "source": [
    "#a.Series\n",
    "df[\"email\"].apply(len)\n",
    "#What this apply does is that it will apply the function give to every element of the given series"
   ]
  },
  {
   "cell_type": "code",
   "execution_count": 75,
   "id": "e7b58cf7",
   "metadata": {},
   "outputs": [],
   "source": [
    "def update_email(email):\n",
    "    return email.upper()"
   ]
  },
  {
   "cell_type": "code",
   "execution_count": 76,
   "id": "1be04c09",
   "metadata": {},
   "outputs": [
    {
     "data": {
      "text/plain": [
       "0     NM@GMAIL.COM\n",
       "1     RG@YAHOO.COM\n",
       "2    MDG@GMAIL.COM\n",
       "3    NIV@GMAIL.COM\n",
       "Name: email, dtype: object"
      ]
     },
     "execution_count": 76,
     "metadata": {},
     "output_type": "execute_result"
    }
   ],
   "source": [
    "df[\"email\"].apply(update_email)"
   ]
  },
  {
   "cell_type": "code",
   "execution_count": 77,
   "id": "75189eae",
   "metadata": {},
   "outputs": [
    {
     "data": {
      "text/html": [
       "<div>\n",
       "<style scoped>\n",
       "    .dataframe tbody tr th:only-of-type {\n",
       "        vertical-align: middle;\n",
       "    }\n",
       "\n",
       "    .dataframe tbody tr th {\n",
       "        vertical-align: top;\n",
       "    }\n",
       "\n",
       "    .dataframe thead th {\n",
       "        text-align: right;\n",
       "    }\n",
       "</style>\n",
       "<table border=\"1\" class=\"dataframe\">\n",
       "  <thead>\n",
       "    <tr style=\"text-align: right;\">\n",
       "      <th></th>\n",
       "      <th>email</th>\n",
       "      <th>First</th>\n",
       "      <th>Last</th>\n",
       "    </tr>\n",
       "  </thead>\n",
       "  <tbody>\n",
       "    <tr>\n",
       "      <th>0</th>\n",
       "      <td>nm@gmail.com</td>\n",
       "      <td>Narendra</td>\n",
       "      <td>Modi</td>\n",
       "    </tr>\n",
       "    <tr>\n",
       "      <th>1</th>\n",
       "      <td>rg@yahoo.com</td>\n",
       "      <td>Rahul</td>\n",
       "      <td>Gandhi</td>\n",
       "    </tr>\n",
       "    <tr>\n",
       "      <th>2</th>\n",
       "      <td>mdg@gmail.com</td>\n",
       "      <td>Mohan</td>\n",
       "      <td>DasGupta</td>\n",
       "    </tr>\n",
       "    <tr>\n",
       "      <th>3</th>\n",
       "      <td>niv@gmail.com</td>\n",
       "      <td>Nirav</td>\n",
       "      <td>Modi</td>\n",
       "    </tr>\n",
       "  </tbody>\n",
       "</table>\n",
       "</div>"
      ],
      "text/plain": [
       "           email     First      Last\n",
       "0   nm@gmail.com  Narendra      Modi\n",
       "1   rg@yahoo.com     Rahul    Gandhi\n",
       "2  mdg@gmail.com     Mohan  DasGupta\n",
       "3  niv@gmail.com     Nirav      Modi"
      ]
     },
     "execution_count": 77,
     "metadata": {},
     "output_type": "execute_result"
    }
   ],
   "source": [
    "df"
   ]
  },
  {
   "cell_type": "code",
   "execution_count": 78,
   "id": "a20161af",
   "metadata": {},
   "outputs": [],
   "source": [
    "df[\"email\"]=df[\"email\"].apply(update_email)"
   ]
  },
  {
   "cell_type": "code",
   "execution_count": 79,
   "id": "23af417d",
   "metadata": {},
   "outputs": [
    {
     "data": {
      "text/html": [
       "<div>\n",
       "<style scoped>\n",
       "    .dataframe tbody tr th:only-of-type {\n",
       "        vertical-align: middle;\n",
       "    }\n",
       "\n",
       "    .dataframe tbody tr th {\n",
       "        vertical-align: top;\n",
       "    }\n",
       "\n",
       "    .dataframe thead th {\n",
       "        text-align: right;\n",
       "    }\n",
       "</style>\n",
       "<table border=\"1\" class=\"dataframe\">\n",
       "  <thead>\n",
       "    <tr style=\"text-align: right;\">\n",
       "      <th></th>\n",
       "      <th>email</th>\n",
       "      <th>First</th>\n",
       "      <th>Last</th>\n",
       "    </tr>\n",
       "  </thead>\n",
       "  <tbody>\n",
       "    <tr>\n",
       "      <th>0</th>\n",
       "      <td>NM@GMAIL.COM</td>\n",
       "      <td>Narendra</td>\n",
       "      <td>Modi</td>\n",
       "    </tr>\n",
       "    <tr>\n",
       "      <th>1</th>\n",
       "      <td>RG@YAHOO.COM</td>\n",
       "      <td>Rahul</td>\n",
       "      <td>Gandhi</td>\n",
       "    </tr>\n",
       "    <tr>\n",
       "      <th>2</th>\n",
       "      <td>MDG@GMAIL.COM</td>\n",
       "      <td>Mohan</td>\n",
       "      <td>DasGupta</td>\n",
       "    </tr>\n",
       "    <tr>\n",
       "      <th>3</th>\n",
       "      <td>NIV@GMAIL.COM</td>\n",
       "      <td>Nirav</td>\n",
       "      <td>Modi</td>\n",
       "    </tr>\n",
       "  </tbody>\n",
       "</table>\n",
       "</div>"
      ],
      "text/plain": [
       "           email     First      Last\n",
       "0   NM@GMAIL.COM  Narendra      Modi\n",
       "1   RG@YAHOO.COM     Rahul    Gandhi\n",
       "2  MDG@GMAIL.COM     Mohan  DasGupta\n",
       "3  NIV@GMAIL.COM     Nirav      Modi"
      ]
     },
     "execution_count": 79,
     "metadata": {},
     "output_type": "execute_result"
    }
   ],
   "source": [
    "df"
   ]
  },
  {
   "cell_type": "code",
   "execution_count": 80,
   "id": "8f003879",
   "metadata": {},
   "outputs": [
    {
     "data": {
      "text/html": [
       "<div>\n",
       "<style scoped>\n",
       "    .dataframe tbody tr th:only-of-type {\n",
       "        vertical-align: middle;\n",
       "    }\n",
       "\n",
       "    .dataframe tbody tr th {\n",
       "        vertical-align: top;\n",
       "    }\n",
       "\n",
       "    .dataframe thead th {\n",
       "        text-align: right;\n",
       "    }\n",
       "</style>\n",
       "<table border=\"1\" class=\"dataframe\">\n",
       "  <thead>\n",
       "    <tr style=\"text-align: right;\">\n",
       "      <th></th>\n",
       "      <th>email</th>\n",
       "      <th>First</th>\n",
       "      <th>Last</th>\n",
       "    </tr>\n",
       "  </thead>\n",
       "  <tbody>\n",
       "    <tr>\n",
       "      <th>0</th>\n",
       "      <td>nm@gmail.com</td>\n",
       "      <td>Narendra</td>\n",
       "      <td>Modi</td>\n",
       "    </tr>\n",
       "    <tr>\n",
       "      <th>1</th>\n",
       "      <td>rg@yahoo.com</td>\n",
       "      <td>Rahul</td>\n",
       "      <td>Gandhi</td>\n",
       "    </tr>\n",
       "    <tr>\n",
       "      <th>2</th>\n",
       "      <td>mdg@gmail.com</td>\n",
       "      <td>Mohan</td>\n",
       "      <td>DasGupta</td>\n",
       "    </tr>\n",
       "    <tr>\n",
       "      <th>3</th>\n",
       "      <td>niv@gmail.com</td>\n",
       "      <td>Nirav</td>\n",
       "      <td>Modi</td>\n",
       "    </tr>\n",
       "  </tbody>\n",
       "</table>\n",
       "</div>"
      ],
      "text/plain": [
       "           email     First      Last\n",
       "0   nm@gmail.com  Narendra      Modi\n",
       "1   rg@yahoo.com     Rahul    Gandhi\n",
       "2  mdg@gmail.com     Mohan  DasGupta\n",
       "3  niv@gmail.com     Nirav      Modi"
      ]
     },
     "execution_count": 80,
     "metadata": {},
     "output_type": "execute_result"
    }
   ],
   "source": [
    "df[\"email\"]=df[\"email\"].apply(lambda x : x.lower())\n",
    "df\n",
    "#x = lambda input : output. x becomes a function"
   ]
  },
  {
   "cell_type": "code",
   "execution_count": 81,
   "id": "ea20fbe4",
   "metadata": {},
   "outputs": [
    {
     "data": {
      "text/plain": [
       "email    4\n",
       "First    4\n",
       "Last     4\n",
       "dtype: int64"
      ]
     },
     "execution_count": 81,
     "metadata": {},
     "output_type": "execute_result"
    }
   ],
   "source": [
    "#b.Dataframe\n",
    "df.apply(len)#It is applying it to each series in the dataframe. It is giving us the length of each series"
   ]
  },
  {
   "cell_type": "code",
   "execution_count": 82,
   "id": "1a7702df",
   "metadata": {},
   "outputs": [
    {
     "data": {
      "text/plain": [
       "email    4\n",
       "First    4\n",
       "Last     4\n",
       "dtype: int64"
      ]
     },
     "execution_count": 82,
     "metadata": {},
     "output_type": "execute_result"
    }
   ],
   "source": [
    "#axis=0 means applying it to rows, axis=1 means applying it to columns\n",
    "df.apply(len,axis=\"rows\")"
   ]
  },
  {
   "cell_type": "code",
   "execution_count": 83,
   "id": "82e4a913",
   "metadata": {},
   "outputs": [
    {
     "data": {
      "text/plain": [
       "0    3\n",
       "1    3\n",
       "2    3\n",
       "3    3\n",
       "dtype: int64"
      ]
     },
     "execution_count": 83,
     "metadata": {},
     "output_type": "execute_result"
    }
   ],
   "source": [
    "df.apply(len,axis=\"columns\")#giving us the length columnwise "
   ]
  },
  {
   "cell_type": "code",
   "execution_count": 84,
   "id": "11de341f",
   "metadata": {},
   "outputs": [
    {
     "data": {
      "text/html": [
       "<div>\n",
       "<style scoped>\n",
       "    .dataframe tbody tr th:only-of-type {\n",
       "        vertical-align: middle;\n",
       "    }\n",
       "\n",
       "    .dataframe tbody tr th {\n",
       "        vertical-align: top;\n",
       "    }\n",
       "\n",
       "    .dataframe thead th {\n",
       "        text-align: right;\n",
       "    }\n",
       "</style>\n",
       "<table border=\"1\" class=\"dataframe\">\n",
       "  <thead>\n",
       "    <tr style=\"text-align: right;\">\n",
       "      <th></th>\n",
       "      <th>email</th>\n",
       "      <th>First</th>\n",
       "      <th>Last</th>\n",
       "    </tr>\n",
       "  </thead>\n",
       "  <tbody>\n",
       "    <tr>\n",
       "      <th>0</th>\n",
       "      <td>12</td>\n",
       "      <td>8</td>\n",
       "      <td>4</td>\n",
       "    </tr>\n",
       "    <tr>\n",
       "      <th>1</th>\n",
       "      <td>12</td>\n",
       "      <td>5</td>\n",
       "      <td>6</td>\n",
       "    </tr>\n",
       "    <tr>\n",
       "      <th>2</th>\n",
       "      <td>13</td>\n",
       "      <td>5</td>\n",
       "      <td>8</td>\n",
       "    </tr>\n",
       "    <tr>\n",
       "      <th>3</th>\n",
       "      <td>13</td>\n",
       "      <td>5</td>\n",
       "      <td>4</td>\n",
       "    </tr>\n",
       "  </tbody>\n",
       "</table>\n",
       "</div>"
      ],
      "text/plain": [
       "   email  First  Last\n",
       "0     12      8     4\n",
       "1     12      5     6\n",
       "2     13      5     8\n",
       "3     13      5     4"
      ]
     },
     "execution_count": 84,
     "metadata": {},
     "output_type": "execute_result"
    }
   ],
   "source": [
    "#2. applymap -  works only for dataframes. useless with series as we can use apply\n",
    "df.applymap(len)#This function applies the function to each and every element of the dataframe.\n",
    "#tip:-use apply for series and applymap for dataframe"
   ]
  },
  {
   "cell_type": "code",
   "execution_count": 85,
   "id": "6d0ac77e",
   "metadata": {},
   "outputs": [
    {
     "data": {
      "text/html": [
       "<div>\n",
       "<style scoped>\n",
       "    .dataframe tbody tr th:only-of-type {\n",
       "        vertical-align: middle;\n",
       "    }\n",
       "\n",
       "    .dataframe tbody tr th {\n",
       "        vertical-align: top;\n",
       "    }\n",
       "\n",
       "    .dataframe thead th {\n",
       "        text-align: right;\n",
       "    }\n",
       "</style>\n",
       "<table border=\"1\" class=\"dataframe\">\n",
       "  <thead>\n",
       "    <tr style=\"text-align: right;\">\n",
       "      <th></th>\n",
       "      <th>email</th>\n",
       "      <th>First</th>\n",
       "      <th>Last</th>\n",
       "    </tr>\n",
       "  </thead>\n",
       "  <tbody>\n",
       "    <tr>\n",
       "      <th>0</th>\n",
       "      <td>nm@gmail.com</td>\n",
       "      <td>narendra</td>\n",
       "      <td>modi</td>\n",
       "    </tr>\n",
       "    <tr>\n",
       "      <th>1</th>\n",
       "      <td>rg@yahoo.com</td>\n",
       "      <td>rahul</td>\n",
       "      <td>gandhi</td>\n",
       "    </tr>\n",
       "    <tr>\n",
       "      <th>2</th>\n",
       "      <td>mdg@gmail.com</td>\n",
       "      <td>mohan</td>\n",
       "      <td>dasgupta</td>\n",
       "    </tr>\n",
       "    <tr>\n",
       "      <th>3</th>\n",
       "      <td>niv@gmail.com</td>\n",
       "      <td>nirav</td>\n",
       "      <td>modi</td>\n",
       "    </tr>\n",
       "  </tbody>\n",
       "</table>\n",
       "</div>"
      ],
      "text/plain": [
       "           email     First      Last\n",
       "0   nm@gmail.com  narendra      modi\n",
       "1   rg@yahoo.com     rahul    gandhi\n",
       "2  mdg@gmail.com     mohan  dasgupta\n",
       "3  niv@gmail.com     nirav      modi"
      ]
     },
     "execution_count": 85,
     "metadata": {},
     "output_type": "execute_result"
    }
   ],
   "source": [
    "df.applymap(str.lower)"
   ]
  },
  {
   "cell_type": "code",
   "execution_count": 86,
   "id": "26d6b2e5",
   "metadata": {},
   "outputs": [
    {
     "data": {
      "text/html": [
       "<div>\n",
       "<style scoped>\n",
       "    .dataframe tbody tr th:only-of-type {\n",
       "        vertical-align: middle;\n",
       "    }\n",
       "\n",
       "    .dataframe tbody tr th {\n",
       "        vertical-align: top;\n",
       "    }\n",
       "\n",
       "    .dataframe thead th {\n",
       "        text-align: right;\n",
       "    }\n",
       "</style>\n",
       "<table border=\"1\" class=\"dataframe\">\n",
       "  <thead>\n",
       "    <tr style=\"text-align: right;\">\n",
       "      <th></th>\n",
       "      <th>email</th>\n",
       "      <th>First</th>\n",
       "      <th>Last</th>\n",
       "    </tr>\n",
       "  </thead>\n",
       "  <tbody>\n",
       "    <tr>\n",
       "      <th>0</th>\n",
       "      <td>nm@gmail.com</td>\n",
       "      <td>Narendra</td>\n",
       "      <td>Modi</td>\n",
       "    </tr>\n",
       "    <tr>\n",
       "      <th>1</th>\n",
       "      <td>rg@yahoo.com</td>\n",
       "      <td>Rahul</td>\n",
       "      <td>Gandhi</td>\n",
       "    </tr>\n",
       "    <tr>\n",
       "      <th>2</th>\n",
       "      <td>mdg@gmail.com</td>\n",
       "      <td>Mohan</td>\n",
       "      <td>DasGupta</td>\n",
       "    </tr>\n",
       "    <tr>\n",
       "      <th>3</th>\n",
       "      <td>niv@gmail.com</td>\n",
       "      <td>Nirav</td>\n",
       "      <td>Modi</td>\n",
       "    </tr>\n",
       "  </tbody>\n",
       "</table>\n",
       "</div>"
      ],
      "text/plain": [
       "           email     First      Last\n",
       "0   nm@gmail.com  Narendra      Modi\n",
       "1   rg@yahoo.com     Rahul    Gandhi\n",
       "2  mdg@gmail.com     Mohan  DasGupta\n",
       "3  niv@gmail.com     Nirav      Modi"
      ]
     },
     "execution_count": 86,
     "metadata": {},
     "output_type": "execute_result"
    }
   ],
   "source": [
    "#3.map - works only with series\n",
    "df"
   ]
  },
  {
   "cell_type": "code",
   "execution_count": 87,
   "id": "d866df6b",
   "metadata": {},
   "outputs": [
    {
     "data": {
      "text/plain": [
       "0        NaN\n",
       "1      Sonia\n",
       "2    Krishna\n",
       "3        NaN\n",
       "Name: First, dtype: object"
      ]
     },
     "execution_count": 87,
     "metadata": {},
     "output_type": "execute_result"
    }
   ],
   "source": [
    "df['First'].map({\"Rahul\":\"Sonia\",\"Mohan\":\"Krishna\"})"
   ]
  },
  {
   "cell_type": "code",
   "execution_count": 88,
   "id": "c72d6c04",
   "metadata": {},
   "outputs": [],
   "source": [
    "#Values that we substituted turned into what we wanted but others turned into NaN"
   ]
  },
  {
   "cell_type": "code",
   "execution_count": 89,
   "id": "250c664b",
   "metadata": {},
   "outputs": [
    {
     "data": {
      "text/plain": [
       "0    Narendra\n",
       "1       Sonia\n",
       "2     Krishna\n",
       "3       Nirav\n",
       "Name: First, dtype: object"
      ]
     },
     "execution_count": 89,
     "metadata": {},
     "output_type": "execute_result"
    }
   ],
   "source": [
    "#4.replace\n",
    "df['First'].replace({\"Rahul\":\"Sonia\",\"Mohan\":\"Krishna\"})"
   ]
  },
  {
   "cell_type": "code",
   "execution_count": 90,
   "id": "3a6a49ac",
   "metadata": {},
   "outputs": [],
   "source": [
    "#Most common method we use is replace as it is simpler\n",
    "df['First']=df['First'].replace({\"Rahul\":\"Sonia\",\"Mohan\":\"Krishna\"})"
   ]
  },
  {
   "cell_type": "code",
   "execution_count": 91,
   "id": "adeb7bb4",
   "metadata": {},
   "outputs": [
    {
     "data": {
      "text/html": [
       "<div>\n",
       "<style scoped>\n",
       "    .dataframe tbody tr th:only-of-type {\n",
       "        vertical-align: middle;\n",
       "    }\n",
       "\n",
       "    .dataframe tbody tr th {\n",
       "        vertical-align: top;\n",
       "    }\n",
       "\n",
       "    .dataframe thead th {\n",
       "        text-align: right;\n",
       "    }\n",
       "</style>\n",
       "<table border=\"1\" class=\"dataframe\">\n",
       "  <thead>\n",
       "    <tr style=\"text-align: right;\">\n",
       "      <th></th>\n",
       "      <th>email</th>\n",
       "      <th>First</th>\n",
       "      <th>Last</th>\n",
       "    </tr>\n",
       "  </thead>\n",
       "  <tbody>\n",
       "    <tr>\n",
       "      <th>0</th>\n",
       "      <td>nm@gmail.com</td>\n",
       "      <td>Narendra</td>\n",
       "      <td>Modi</td>\n",
       "    </tr>\n",
       "    <tr>\n",
       "      <th>1</th>\n",
       "      <td>rg@yahoo.com</td>\n",
       "      <td>Sonia</td>\n",
       "      <td>Gandhi</td>\n",
       "    </tr>\n",
       "    <tr>\n",
       "      <th>2</th>\n",
       "      <td>mdg@gmail.com</td>\n",
       "      <td>Krishna</td>\n",
       "      <td>DasGupta</td>\n",
       "    </tr>\n",
       "    <tr>\n",
       "      <th>3</th>\n",
       "      <td>niv@gmail.com</td>\n",
       "      <td>Nirav</td>\n",
       "      <td>Modi</td>\n",
       "    </tr>\n",
       "  </tbody>\n",
       "</table>\n",
       "</div>"
      ],
      "text/plain": [
       "           email     First      Last\n",
       "0   nm@gmail.com  Narendra      Modi\n",
       "1   rg@yahoo.com     Sonia    Gandhi\n",
       "2  mdg@gmail.com   Krishna  DasGupta\n",
       "3  niv@gmail.com     Nirav      Modi"
      ]
     },
     "execution_count": 91,
     "metadata": {},
     "output_type": "execute_result"
    }
   ],
   "source": [
    "df"
   ]
  },
  {
   "cell_type": "code",
   "execution_count": 92,
   "id": "6b553f06",
   "metadata": {},
   "outputs": [],
   "source": [
    "#6)Adding and removing rows,columns from Dataframes"
   ]
  },
  {
   "cell_type": "code",
   "execution_count": 93,
   "id": "819de57b",
   "metadata": {},
   "outputs": [
    {
     "data": {
      "text/plain": [
       "0       Narendra Modi\n",
       "1        Sonia Gandhi\n",
       "2    Krishna DasGupta\n",
       "3          Nirav Modi\n",
       "dtype: object"
      ]
     },
     "execution_count": 93,
     "metadata": {},
     "output_type": "execute_result"
    }
   ],
   "source": [
    "#Adding first name + ' ' + last name\n",
    "df[\"First\"]+' '+df[\"Last\"]"
   ]
  },
  {
   "cell_type": "code",
   "execution_count": 94,
   "id": "a780ddae",
   "metadata": {},
   "outputs": [],
   "source": [
    "df[\"Full name\"]=df[\"First\"]+' '+df[\"Last\"]"
   ]
  },
  {
   "cell_type": "code",
   "execution_count": 95,
   "id": "48a55539",
   "metadata": {},
   "outputs": [],
   "source": [
    "df.rename(columns={\"email\":\"Email\"},inplace=True)"
   ]
  },
  {
   "cell_type": "code",
   "execution_count": 96,
   "id": "13bf05b2",
   "metadata": {},
   "outputs": [
    {
     "data": {
      "text/html": [
       "<div>\n",
       "<style scoped>\n",
       "    .dataframe tbody tr th:only-of-type {\n",
       "        vertical-align: middle;\n",
       "    }\n",
       "\n",
       "    .dataframe tbody tr th {\n",
       "        vertical-align: top;\n",
       "    }\n",
       "\n",
       "    .dataframe thead th {\n",
       "        text-align: right;\n",
       "    }\n",
       "</style>\n",
       "<table border=\"1\" class=\"dataframe\">\n",
       "  <thead>\n",
       "    <tr style=\"text-align: right;\">\n",
       "      <th></th>\n",
       "      <th>Email</th>\n",
       "      <th>First</th>\n",
       "      <th>Last</th>\n",
       "      <th>Full name</th>\n",
       "    </tr>\n",
       "  </thead>\n",
       "  <tbody>\n",
       "    <tr>\n",
       "      <th>0</th>\n",
       "      <td>nm@gmail.com</td>\n",
       "      <td>Narendra</td>\n",
       "      <td>Modi</td>\n",
       "      <td>Narendra Modi</td>\n",
       "    </tr>\n",
       "    <tr>\n",
       "      <th>1</th>\n",
       "      <td>rg@yahoo.com</td>\n",
       "      <td>Sonia</td>\n",
       "      <td>Gandhi</td>\n",
       "      <td>Sonia Gandhi</td>\n",
       "    </tr>\n",
       "    <tr>\n",
       "      <th>2</th>\n",
       "      <td>mdg@gmail.com</td>\n",
       "      <td>Krishna</td>\n",
       "      <td>DasGupta</td>\n",
       "      <td>Krishna DasGupta</td>\n",
       "    </tr>\n",
       "    <tr>\n",
       "      <th>3</th>\n",
       "      <td>niv@gmail.com</td>\n",
       "      <td>Nirav</td>\n",
       "      <td>Modi</td>\n",
       "      <td>Nirav Modi</td>\n",
       "    </tr>\n",
       "  </tbody>\n",
       "</table>\n",
       "</div>"
      ],
      "text/plain": [
       "           Email     First      Last         Full name\n",
       "0   nm@gmail.com  Narendra      Modi     Narendra Modi\n",
       "1   rg@yahoo.com     Sonia    Gandhi      Sonia Gandhi\n",
       "2  mdg@gmail.com   Krishna  DasGupta  Krishna DasGupta\n",
       "3  niv@gmail.com     Nirav      Modi        Nirav Modi"
      ]
     },
     "execution_count": 96,
     "metadata": {},
     "output_type": "execute_result"
    }
   ],
   "source": [
    "df"
   ]
  },
  {
   "cell_type": "code",
   "execution_count": 97,
   "id": "80eafe1f",
   "metadata": {},
   "outputs": [
    {
     "data": {
      "text/html": [
       "<div>\n",
       "<style scoped>\n",
       "    .dataframe tbody tr th:only-of-type {\n",
       "        vertical-align: middle;\n",
       "    }\n",
       "\n",
       "    .dataframe tbody tr th {\n",
       "        vertical-align: top;\n",
       "    }\n",
       "\n",
       "    .dataframe thead th {\n",
       "        text-align: right;\n",
       "    }\n",
       "</style>\n",
       "<table border=\"1\" class=\"dataframe\">\n",
       "  <thead>\n",
       "    <tr style=\"text-align: right;\">\n",
       "      <th></th>\n",
       "      <th>Email</th>\n",
       "      <th>Full name</th>\n",
       "    </tr>\n",
       "  </thead>\n",
       "  <tbody>\n",
       "    <tr>\n",
       "      <th>0</th>\n",
       "      <td>nm@gmail.com</td>\n",
       "      <td>Narendra Modi</td>\n",
       "    </tr>\n",
       "    <tr>\n",
       "      <th>1</th>\n",
       "      <td>rg@yahoo.com</td>\n",
       "      <td>Sonia Gandhi</td>\n",
       "    </tr>\n",
       "    <tr>\n",
       "      <th>2</th>\n",
       "      <td>mdg@gmail.com</td>\n",
       "      <td>Krishna DasGupta</td>\n",
       "    </tr>\n",
       "    <tr>\n",
       "      <th>3</th>\n",
       "      <td>niv@gmail.com</td>\n",
       "      <td>Nirav Modi</td>\n",
       "    </tr>\n",
       "  </tbody>\n",
       "</table>\n",
       "</div>"
      ],
      "text/plain": [
       "           Email         Full name\n",
       "0   nm@gmail.com     Narendra Modi\n",
       "1   rg@yahoo.com      Sonia Gandhi\n",
       "2  mdg@gmail.com  Krishna DasGupta\n",
       "3  niv@gmail.com        Nirav Modi"
      ]
     },
     "execution_count": 97,
     "metadata": {},
     "output_type": "execute_result"
    }
   ],
   "source": [
    "#Removing columns\n",
    "df.drop(columns=[\"First\",\"Last\"])"
   ]
  },
  {
   "cell_type": "code",
   "execution_count": 98,
   "id": "7db2e3c8",
   "metadata": {},
   "outputs": [],
   "source": [
    "df.drop(columns=[\"First\",\"Last\"],inplace=True)"
   ]
  },
  {
   "cell_type": "code",
   "execution_count": 99,
   "id": "90584775",
   "metadata": {},
   "outputs": [
    {
     "data": {
      "text/html": [
       "<div>\n",
       "<style scoped>\n",
       "    .dataframe tbody tr th:only-of-type {\n",
       "        vertical-align: middle;\n",
       "    }\n",
       "\n",
       "    .dataframe tbody tr th {\n",
       "        vertical-align: top;\n",
       "    }\n",
       "\n",
       "    .dataframe thead th {\n",
       "        text-align: right;\n",
       "    }\n",
       "</style>\n",
       "<table border=\"1\" class=\"dataframe\">\n",
       "  <thead>\n",
       "    <tr style=\"text-align: right;\">\n",
       "      <th></th>\n",
       "      <th>Email</th>\n",
       "      <th>Full name</th>\n",
       "    </tr>\n",
       "  </thead>\n",
       "  <tbody>\n",
       "    <tr>\n",
       "      <th>0</th>\n",
       "      <td>nm@gmail.com</td>\n",
       "      <td>Narendra Modi</td>\n",
       "    </tr>\n",
       "    <tr>\n",
       "      <th>1</th>\n",
       "      <td>rg@yahoo.com</td>\n",
       "      <td>Sonia Gandhi</td>\n",
       "    </tr>\n",
       "    <tr>\n",
       "      <th>2</th>\n",
       "      <td>mdg@gmail.com</td>\n",
       "      <td>Krishna DasGupta</td>\n",
       "    </tr>\n",
       "    <tr>\n",
       "      <th>3</th>\n",
       "      <td>niv@gmail.com</td>\n",
       "      <td>Nirav Modi</td>\n",
       "    </tr>\n",
       "  </tbody>\n",
       "</table>\n",
       "</div>"
      ],
      "text/plain": [
       "           Email         Full name\n",
       "0   nm@gmail.com     Narendra Modi\n",
       "1   rg@yahoo.com      Sonia Gandhi\n",
       "2  mdg@gmail.com  Krishna DasGupta\n",
       "3  niv@gmail.com        Nirav Modi"
      ]
     },
     "execution_count": 99,
     "metadata": {},
     "output_type": "execute_result"
    }
   ],
   "source": [
    "df"
   ]
  },
  {
   "cell_type": "code",
   "execution_count": 100,
   "id": "0beb81f3",
   "metadata": {},
   "outputs": [],
   "source": [
    "#Getting back our firstname and lastname"
   ]
  },
  {
   "cell_type": "code",
   "execution_count": 101,
   "id": "4ac74c5a",
   "metadata": {},
   "outputs": [
    {
     "data": {
      "text/plain": [
       "0       [Narendra, Modi]\n",
       "1        [Sonia, Gandhi]\n",
       "2    [Krishna, DasGupta]\n",
       "3          [Nirav, Modi]\n",
       "Name: Full name, dtype: object"
      ]
     },
     "execution_count": 101,
     "metadata": {},
     "output_type": "execute_result"
    }
   ],
   "source": [
    "df[\"Full name\"].str.split(\" \")"
   ]
  },
  {
   "cell_type": "code",
   "execution_count": 102,
   "id": "bf12c9b4",
   "metadata": {},
   "outputs": [
    {
     "data": {
      "text/html": [
       "<div>\n",
       "<style scoped>\n",
       "    .dataframe tbody tr th:only-of-type {\n",
       "        vertical-align: middle;\n",
       "    }\n",
       "\n",
       "    .dataframe tbody tr th {\n",
       "        vertical-align: top;\n",
       "    }\n",
       "\n",
       "    .dataframe thead th {\n",
       "        text-align: right;\n",
       "    }\n",
       "</style>\n",
       "<table border=\"1\" class=\"dataframe\">\n",
       "  <thead>\n",
       "    <tr style=\"text-align: right;\">\n",
       "      <th></th>\n",
       "      <th>0</th>\n",
       "      <th>1</th>\n",
       "    </tr>\n",
       "  </thead>\n",
       "  <tbody>\n",
       "    <tr>\n",
       "      <th>0</th>\n",
       "      <td>Narendra</td>\n",
       "      <td>Modi</td>\n",
       "    </tr>\n",
       "    <tr>\n",
       "      <th>1</th>\n",
       "      <td>Sonia</td>\n",
       "      <td>Gandhi</td>\n",
       "    </tr>\n",
       "    <tr>\n",
       "      <th>2</th>\n",
       "      <td>Krishna</td>\n",
       "      <td>DasGupta</td>\n",
       "    </tr>\n",
       "    <tr>\n",
       "      <th>3</th>\n",
       "      <td>Nirav</td>\n",
       "      <td>Modi</td>\n",
       "    </tr>\n",
       "  </tbody>\n",
       "</table>\n",
       "</div>"
      ],
      "text/plain": [
       "          0         1\n",
       "0  Narendra      Modi\n",
       "1     Sonia    Gandhi\n",
       "2   Krishna  DasGupta\n",
       "3     Nirav      Modi"
      ]
     },
     "execution_count": 102,
     "metadata": {},
     "output_type": "execute_result"
    }
   ],
   "source": [
    "df[\"Full name\"].str.split(\" \",expand=True)"
   ]
  },
  {
   "cell_type": "code",
   "execution_count": 103,
   "id": "cd5b5d37",
   "metadata": {},
   "outputs": [],
   "source": [
    "df[[\"First\",\"Last\"]]=df[\"Full name\"].str.split(\" \",expand=True)"
   ]
  },
  {
   "cell_type": "code",
   "execution_count": 104,
   "id": "4ba4d321",
   "metadata": {},
   "outputs": [
    {
     "data": {
      "text/html": [
       "<div>\n",
       "<style scoped>\n",
       "    .dataframe tbody tr th:only-of-type {\n",
       "        vertical-align: middle;\n",
       "    }\n",
       "\n",
       "    .dataframe tbody tr th {\n",
       "        vertical-align: top;\n",
       "    }\n",
       "\n",
       "    .dataframe thead th {\n",
       "        text-align: right;\n",
       "    }\n",
       "</style>\n",
       "<table border=\"1\" class=\"dataframe\">\n",
       "  <thead>\n",
       "    <tr style=\"text-align: right;\">\n",
       "      <th></th>\n",
       "      <th>Email</th>\n",
       "      <th>Full name</th>\n",
       "      <th>First</th>\n",
       "      <th>Last</th>\n",
       "    </tr>\n",
       "  </thead>\n",
       "  <tbody>\n",
       "    <tr>\n",
       "      <th>0</th>\n",
       "      <td>nm@gmail.com</td>\n",
       "      <td>Narendra Modi</td>\n",
       "      <td>Narendra</td>\n",
       "      <td>Modi</td>\n",
       "    </tr>\n",
       "    <tr>\n",
       "      <th>1</th>\n",
       "      <td>rg@yahoo.com</td>\n",
       "      <td>Sonia Gandhi</td>\n",
       "      <td>Sonia</td>\n",
       "      <td>Gandhi</td>\n",
       "    </tr>\n",
       "    <tr>\n",
       "      <th>2</th>\n",
       "      <td>mdg@gmail.com</td>\n",
       "      <td>Krishna DasGupta</td>\n",
       "      <td>Krishna</td>\n",
       "      <td>DasGupta</td>\n",
       "    </tr>\n",
       "    <tr>\n",
       "      <th>3</th>\n",
       "      <td>niv@gmail.com</td>\n",
       "      <td>Nirav Modi</td>\n",
       "      <td>Nirav</td>\n",
       "      <td>Modi</td>\n",
       "    </tr>\n",
       "  </tbody>\n",
       "</table>\n",
       "</div>"
      ],
      "text/plain": [
       "           Email         Full name     First      Last\n",
       "0   nm@gmail.com     Narendra Modi  Narendra      Modi\n",
       "1   rg@yahoo.com      Sonia Gandhi     Sonia    Gandhi\n",
       "2  mdg@gmail.com  Krishna DasGupta   Krishna  DasGupta\n",
       "3  niv@gmail.com        Nirav Modi     Nirav      Modi"
      ]
     },
     "execution_count": 104,
     "metadata": {},
     "output_type": "execute_result"
    }
   ],
   "source": [
    "df"
   ]
  },
  {
   "cell_type": "code",
   "execution_count": 105,
   "id": "aba2d1ef",
   "metadata": {},
   "outputs": [
    {
     "data": {
      "text/html": [
       "<div>\n",
       "<style scoped>\n",
       "    .dataframe tbody tr th:only-of-type {\n",
       "        vertical-align: middle;\n",
       "    }\n",
       "\n",
       "    .dataframe tbody tr th {\n",
       "        vertical-align: top;\n",
       "    }\n",
       "\n",
       "    .dataframe thead th {\n",
       "        text-align: right;\n",
       "    }\n",
       "</style>\n",
       "<table border=\"1\" class=\"dataframe\">\n",
       "  <thead>\n",
       "    <tr style=\"text-align: right;\">\n",
       "      <th></th>\n",
       "      <th>Email</th>\n",
       "      <th>Full name</th>\n",
       "      <th>First</th>\n",
       "      <th>Last</th>\n",
       "    </tr>\n",
       "  </thead>\n",
       "  <tbody>\n",
       "    <tr>\n",
       "      <th>0</th>\n",
       "      <td>nm@gmail.com</td>\n",
       "      <td>Narendra Modi</td>\n",
       "      <td>Narendra</td>\n",
       "      <td>Modi</td>\n",
       "    </tr>\n",
       "    <tr>\n",
       "      <th>1</th>\n",
       "      <td>rg@yahoo.com</td>\n",
       "      <td>Sonia Gandhi</td>\n",
       "      <td>Sonia</td>\n",
       "      <td>Gandhi</td>\n",
       "    </tr>\n",
       "    <tr>\n",
       "      <th>2</th>\n",
       "      <td>mdg@gmail.com</td>\n",
       "      <td>Krishna DasGupta</td>\n",
       "      <td>Krishna</td>\n",
       "      <td>DasGupta</td>\n",
       "    </tr>\n",
       "    <tr>\n",
       "      <th>3</th>\n",
       "      <td>niv@gmail.com</td>\n",
       "      <td>Nirav Modi</td>\n",
       "      <td>Nirav</td>\n",
       "      <td>Modi</td>\n",
       "    </tr>\n",
       "    <tr>\n",
       "      <th>4</th>\n",
       "      <td>NaN</td>\n",
       "      <td>NaN</td>\n",
       "      <td>Khabib</td>\n",
       "      <td>NaN</td>\n",
       "    </tr>\n",
       "  </tbody>\n",
       "</table>\n",
       "</div>"
      ],
      "text/plain": [
       "           Email         Full name     First      Last\n",
       "0   nm@gmail.com     Narendra Modi  Narendra      Modi\n",
       "1   rg@yahoo.com      Sonia Gandhi     Sonia    Gandhi\n",
       "2  mdg@gmail.com  Krishna DasGupta   Krishna  DasGupta\n",
       "3  niv@gmail.com        Nirav Modi     Nirav      Modi\n",
       "4            NaN               NaN    Khabib       NaN"
      ]
     },
     "execution_count": 105,
     "metadata": {},
     "output_type": "execute_result"
    }
   ],
   "source": [
    "#Adding single row\n",
    "df.append({\"First\":\"Khabib\"},ignore_index=True)"
   ]
  },
  {
   "cell_type": "code",
   "execution_count": 106,
   "id": "86502247",
   "metadata": {},
   "outputs": [],
   "source": [
    "people={\n",
    "    \"First\":[\"Mohan\",\"Kiran\",\"Ross\",\"Joseph\"],\n",
    "    \"Last\":[\"Das\",\"Ralli\",\"Bran\",\"Tribiani\"],\n",
    "    \"Email\":[\"md@gmail.com\",\"kr@yahoo.com\",\"rb@hotmail.com\",\"jt@gmail.com\"],\n",
    "}"
   ]
  },
  {
   "cell_type": "code",
   "execution_count": 107,
   "id": "0198a46f",
   "metadata": {},
   "outputs": [],
   "source": [
    "df2=pd.DataFrame(people)"
   ]
  },
  {
   "cell_type": "code",
   "execution_count": 108,
   "id": "5f1cc7c6",
   "metadata": {},
   "outputs": [
    {
     "data": {
      "text/html": [
       "<div>\n",
       "<style scoped>\n",
       "    .dataframe tbody tr th:only-of-type {\n",
       "        vertical-align: middle;\n",
       "    }\n",
       "\n",
       "    .dataframe tbody tr th {\n",
       "        vertical-align: top;\n",
       "    }\n",
       "\n",
       "    .dataframe thead th {\n",
       "        text-align: right;\n",
       "    }\n",
       "</style>\n",
       "<table border=\"1\" class=\"dataframe\">\n",
       "  <thead>\n",
       "    <tr style=\"text-align: right;\">\n",
       "      <th></th>\n",
       "      <th>First</th>\n",
       "      <th>Last</th>\n",
       "      <th>Email</th>\n",
       "    </tr>\n",
       "  </thead>\n",
       "  <tbody>\n",
       "    <tr>\n",
       "      <th>0</th>\n",
       "      <td>Mohan</td>\n",
       "      <td>Das</td>\n",
       "      <td>md@gmail.com</td>\n",
       "    </tr>\n",
       "    <tr>\n",
       "      <th>1</th>\n",
       "      <td>Kiran</td>\n",
       "      <td>Ralli</td>\n",
       "      <td>kr@yahoo.com</td>\n",
       "    </tr>\n",
       "    <tr>\n",
       "      <th>2</th>\n",
       "      <td>Ross</td>\n",
       "      <td>Bran</td>\n",
       "      <td>rb@hotmail.com</td>\n",
       "    </tr>\n",
       "    <tr>\n",
       "      <th>3</th>\n",
       "      <td>Joseph</td>\n",
       "      <td>Tribiani</td>\n",
       "      <td>jt@gmail.com</td>\n",
       "    </tr>\n",
       "  </tbody>\n",
       "</table>\n",
       "</div>"
      ],
      "text/plain": [
       "    First      Last           Email\n",
       "0   Mohan       Das    md@gmail.com\n",
       "1   Kiran     Ralli    kr@yahoo.com\n",
       "2    Ross      Bran  rb@hotmail.com\n",
       "3  Joseph  Tribiani    jt@gmail.com"
      ]
     },
     "execution_count": 108,
     "metadata": {},
     "output_type": "execute_result"
    }
   ],
   "source": [
    "df2"
   ]
  },
  {
   "cell_type": "code",
   "execution_count": 109,
   "id": "01c95e63",
   "metadata": {},
   "outputs": [],
   "source": [
    "#Concatination of two dataframes"
   ]
  },
  {
   "cell_type": "code",
   "execution_count": 110,
   "id": "a16236dd",
   "metadata": {},
   "outputs": [
    {
     "data": {
      "text/html": [
       "<div>\n",
       "<style scoped>\n",
       "    .dataframe tbody tr th:only-of-type {\n",
       "        vertical-align: middle;\n",
       "    }\n",
       "\n",
       "    .dataframe tbody tr th {\n",
       "        vertical-align: top;\n",
       "    }\n",
       "\n",
       "    .dataframe thead th {\n",
       "        text-align: right;\n",
       "    }\n",
       "</style>\n",
       "<table border=\"1\" class=\"dataframe\">\n",
       "  <thead>\n",
       "    <tr style=\"text-align: right;\">\n",
       "      <th></th>\n",
       "      <th>Email</th>\n",
       "      <th>Full name</th>\n",
       "      <th>First</th>\n",
       "      <th>Last</th>\n",
       "    </tr>\n",
       "  </thead>\n",
       "  <tbody>\n",
       "    <tr>\n",
       "      <th>0</th>\n",
       "      <td>nm@gmail.com</td>\n",
       "      <td>Narendra Modi</td>\n",
       "      <td>Narendra</td>\n",
       "      <td>Modi</td>\n",
       "    </tr>\n",
       "    <tr>\n",
       "      <th>1</th>\n",
       "      <td>rg@yahoo.com</td>\n",
       "      <td>Sonia Gandhi</td>\n",
       "      <td>Sonia</td>\n",
       "      <td>Gandhi</td>\n",
       "    </tr>\n",
       "    <tr>\n",
       "      <th>2</th>\n",
       "      <td>mdg@gmail.com</td>\n",
       "      <td>Krishna DasGupta</td>\n",
       "      <td>Krishna</td>\n",
       "      <td>DasGupta</td>\n",
       "    </tr>\n",
       "    <tr>\n",
       "      <th>3</th>\n",
       "      <td>niv@gmail.com</td>\n",
       "      <td>Nirav Modi</td>\n",
       "      <td>Nirav</td>\n",
       "      <td>Modi</td>\n",
       "    </tr>\n",
       "    <tr>\n",
       "      <th>4</th>\n",
       "      <td>md@gmail.com</td>\n",
       "      <td>NaN</td>\n",
       "      <td>Mohan</td>\n",
       "      <td>Das</td>\n",
       "    </tr>\n",
       "    <tr>\n",
       "      <th>5</th>\n",
       "      <td>kr@yahoo.com</td>\n",
       "      <td>NaN</td>\n",
       "      <td>Kiran</td>\n",
       "      <td>Ralli</td>\n",
       "    </tr>\n",
       "    <tr>\n",
       "      <th>6</th>\n",
       "      <td>rb@hotmail.com</td>\n",
       "      <td>NaN</td>\n",
       "      <td>Ross</td>\n",
       "      <td>Bran</td>\n",
       "    </tr>\n",
       "    <tr>\n",
       "      <th>7</th>\n",
       "      <td>jt@gmail.com</td>\n",
       "      <td>NaN</td>\n",
       "      <td>Joseph</td>\n",
       "      <td>Tribiani</td>\n",
       "    </tr>\n",
       "  </tbody>\n",
       "</table>\n",
       "</div>"
      ],
      "text/plain": [
       "            Email         Full name     First      Last\n",
       "0    nm@gmail.com     Narendra Modi  Narendra      Modi\n",
       "1    rg@yahoo.com      Sonia Gandhi     Sonia    Gandhi\n",
       "2   mdg@gmail.com  Krishna DasGupta   Krishna  DasGupta\n",
       "3   niv@gmail.com        Nirav Modi     Nirav      Modi\n",
       "4    md@gmail.com               NaN     Mohan       Das\n",
       "5    kr@yahoo.com               NaN     Kiran     Ralli\n",
       "6  rb@hotmail.com               NaN      Ross      Bran\n",
       "7    jt@gmail.com               NaN    Joseph  Tribiani"
      ]
     },
     "execution_count": 110,
     "metadata": {},
     "output_type": "execute_result"
    }
   ],
   "source": [
    "#ignore_index=True will make a new index row with unique serial numbers\n",
    "df.append(df2,ignore_index=True)"
   ]
  },
  {
   "cell_type": "code",
   "execution_count": 111,
   "id": "50a4c5d2",
   "metadata": {},
   "outputs": [
    {
     "data": {
      "text/html": [
       "<div>\n",
       "<style scoped>\n",
       "    .dataframe tbody tr th:only-of-type {\n",
       "        vertical-align: middle;\n",
       "    }\n",
       "\n",
       "    .dataframe tbody tr th {\n",
       "        vertical-align: top;\n",
       "    }\n",
       "\n",
       "    .dataframe thead th {\n",
       "        text-align: right;\n",
       "    }\n",
       "</style>\n",
       "<table border=\"1\" class=\"dataframe\">\n",
       "  <thead>\n",
       "    <tr style=\"text-align: right;\">\n",
       "      <th></th>\n",
       "      <th>Email</th>\n",
       "      <th>Full name</th>\n",
       "      <th>First</th>\n",
       "      <th>Last</th>\n",
       "    </tr>\n",
       "  </thead>\n",
       "  <tbody>\n",
       "    <tr>\n",
       "      <th>0</th>\n",
       "      <td>nm@gmail.com</td>\n",
       "      <td>Narendra Modi</td>\n",
       "      <td>Narendra</td>\n",
       "      <td>Modi</td>\n",
       "    </tr>\n",
       "    <tr>\n",
       "      <th>1</th>\n",
       "      <td>rg@yahoo.com</td>\n",
       "      <td>Sonia Gandhi</td>\n",
       "      <td>Sonia</td>\n",
       "      <td>Gandhi</td>\n",
       "    </tr>\n",
       "    <tr>\n",
       "      <th>2</th>\n",
       "      <td>mdg@gmail.com</td>\n",
       "      <td>Krishna DasGupta</td>\n",
       "      <td>Krishna</td>\n",
       "      <td>DasGupta</td>\n",
       "    </tr>\n",
       "    <tr>\n",
       "      <th>3</th>\n",
       "      <td>niv@gmail.com</td>\n",
       "      <td>Nirav Modi</td>\n",
       "      <td>Nirav</td>\n",
       "      <td>Modi</td>\n",
       "    </tr>\n",
       "    <tr>\n",
       "      <th>0</th>\n",
       "      <td>md@gmail.com</td>\n",
       "      <td>NaN</td>\n",
       "      <td>Mohan</td>\n",
       "      <td>Das</td>\n",
       "    </tr>\n",
       "    <tr>\n",
       "      <th>1</th>\n",
       "      <td>kr@yahoo.com</td>\n",
       "      <td>NaN</td>\n",
       "      <td>Kiran</td>\n",
       "      <td>Ralli</td>\n",
       "    </tr>\n",
       "    <tr>\n",
       "      <th>2</th>\n",
       "      <td>rb@hotmail.com</td>\n",
       "      <td>NaN</td>\n",
       "      <td>Ross</td>\n",
       "      <td>Bran</td>\n",
       "    </tr>\n",
       "    <tr>\n",
       "      <th>3</th>\n",
       "      <td>jt@gmail.com</td>\n",
       "      <td>NaN</td>\n",
       "      <td>Joseph</td>\n",
       "      <td>Tribiani</td>\n",
       "    </tr>\n",
       "  </tbody>\n",
       "</table>\n",
       "</div>"
      ],
      "text/plain": [
       "            Email         Full name     First      Last\n",
       "0    nm@gmail.com     Narendra Modi  Narendra      Modi\n",
       "1    rg@yahoo.com      Sonia Gandhi     Sonia    Gandhi\n",
       "2   mdg@gmail.com  Krishna DasGupta   Krishna  DasGupta\n",
       "3   niv@gmail.com        Nirav Modi     Nirav      Modi\n",
       "0    md@gmail.com               NaN     Mohan       Das\n",
       "1    kr@yahoo.com               NaN     Kiran     Ralli\n",
       "2  rb@hotmail.com               NaN      Ross      Bran\n",
       "3    jt@gmail.com               NaN    Joseph  Tribiani"
      ]
     },
     "execution_count": 111,
     "metadata": {},
     "output_type": "execute_result"
    }
   ],
   "source": [
    "#This will repeat the index of both the dataframes\n",
    "df.append(df2)"
   ]
  },
  {
   "cell_type": "code",
   "execution_count": 112,
   "id": "a1f20b07",
   "metadata": {},
   "outputs": [],
   "source": [
    "df=df.append(df2,ignore_index=True)"
   ]
  },
  {
   "cell_type": "code",
   "execution_count": 113,
   "id": "50441590",
   "metadata": {},
   "outputs": [
    {
     "data": {
      "text/html": [
       "<div>\n",
       "<style scoped>\n",
       "    .dataframe tbody tr th:only-of-type {\n",
       "        vertical-align: middle;\n",
       "    }\n",
       "\n",
       "    .dataframe tbody tr th {\n",
       "        vertical-align: top;\n",
       "    }\n",
       "\n",
       "    .dataframe thead th {\n",
       "        text-align: right;\n",
       "    }\n",
       "</style>\n",
       "<table border=\"1\" class=\"dataframe\">\n",
       "  <thead>\n",
       "    <tr style=\"text-align: right;\">\n",
       "      <th></th>\n",
       "      <th>Email</th>\n",
       "      <th>Full name</th>\n",
       "      <th>First</th>\n",
       "      <th>Last</th>\n",
       "    </tr>\n",
       "  </thead>\n",
       "  <tbody>\n",
       "    <tr>\n",
       "      <th>0</th>\n",
       "      <td>nm@gmail.com</td>\n",
       "      <td>Narendra Modi</td>\n",
       "      <td>Narendra</td>\n",
       "      <td>Modi</td>\n",
       "    </tr>\n",
       "    <tr>\n",
       "      <th>1</th>\n",
       "      <td>rg@yahoo.com</td>\n",
       "      <td>Sonia Gandhi</td>\n",
       "      <td>Sonia</td>\n",
       "      <td>Gandhi</td>\n",
       "    </tr>\n",
       "    <tr>\n",
       "      <th>2</th>\n",
       "      <td>mdg@gmail.com</td>\n",
       "      <td>Krishna DasGupta</td>\n",
       "      <td>Krishna</td>\n",
       "      <td>DasGupta</td>\n",
       "    </tr>\n",
       "    <tr>\n",
       "      <th>3</th>\n",
       "      <td>niv@gmail.com</td>\n",
       "      <td>Nirav Modi</td>\n",
       "      <td>Nirav</td>\n",
       "      <td>Modi</td>\n",
       "    </tr>\n",
       "    <tr>\n",
       "      <th>4</th>\n",
       "      <td>md@gmail.com</td>\n",
       "      <td>NaN</td>\n",
       "      <td>Mohan</td>\n",
       "      <td>Das</td>\n",
       "    </tr>\n",
       "    <tr>\n",
       "      <th>5</th>\n",
       "      <td>kr@yahoo.com</td>\n",
       "      <td>NaN</td>\n",
       "      <td>Kiran</td>\n",
       "      <td>Ralli</td>\n",
       "    </tr>\n",
       "    <tr>\n",
       "      <th>6</th>\n",
       "      <td>rb@hotmail.com</td>\n",
       "      <td>NaN</td>\n",
       "      <td>Ross</td>\n",
       "      <td>Bran</td>\n",
       "    </tr>\n",
       "    <tr>\n",
       "      <th>7</th>\n",
       "      <td>jt@gmail.com</td>\n",
       "      <td>NaN</td>\n",
       "      <td>Joseph</td>\n",
       "      <td>Tribiani</td>\n",
       "    </tr>\n",
       "  </tbody>\n",
       "</table>\n",
       "</div>"
      ],
      "text/plain": [
       "            Email         Full name     First      Last\n",
       "0    nm@gmail.com     Narendra Modi  Narendra      Modi\n",
       "1    rg@yahoo.com      Sonia Gandhi     Sonia    Gandhi\n",
       "2   mdg@gmail.com  Krishna DasGupta   Krishna  DasGupta\n",
       "3   niv@gmail.com        Nirav Modi     Nirav      Modi\n",
       "4    md@gmail.com               NaN     Mohan       Das\n",
       "5    kr@yahoo.com               NaN     Kiran     Ralli\n",
       "6  rb@hotmail.com               NaN      Ross      Bran\n",
       "7    jt@gmail.com               NaN    Joseph  Tribiani"
      ]
     },
     "execution_count": 113,
     "metadata": {},
     "output_type": "execute_result"
    }
   ],
   "source": [
    "df"
   ]
  },
  {
   "cell_type": "code",
   "execution_count": 114,
   "id": "d426b24f",
   "metadata": {},
   "outputs": [
    {
     "data": {
      "text/html": [
       "<div>\n",
       "<style scoped>\n",
       "    .dataframe tbody tr th:only-of-type {\n",
       "        vertical-align: middle;\n",
       "    }\n",
       "\n",
       "    .dataframe tbody tr th {\n",
       "        vertical-align: top;\n",
       "    }\n",
       "\n",
       "    .dataframe thead th {\n",
       "        text-align: right;\n",
       "    }\n",
       "</style>\n",
       "<table border=\"1\" class=\"dataframe\">\n",
       "  <thead>\n",
       "    <tr style=\"text-align: right;\">\n",
       "      <th></th>\n",
       "      <th>Email</th>\n",
       "      <th>Full name</th>\n",
       "      <th>First</th>\n",
       "      <th>Last</th>\n",
       "    </tr>\n",
       "  </thead>\n",
       "  <tbody>\n",
       "    <tr>\n",
       "      <th>0</th>\n",
       "      <td>nm@gmail.com</td>\n",
       "      <td>Narendra Modi</td>\n",
       "      <td>Narendra</td>\n",
       "      <td>Modi</td>\n",
       "    </tr>\n",
       "    <tr>\n",
       "      <th>1</th>\n",
       "      <td>rg@yahoo.com</td>\n",
       "      <td>Sonia Gandhi</td>\n",
       "      <td>Sonia</td>\n",
       "      <td>Gandhi</td>\n",
       "    </tr>\n",
       "    <tr>\n",
       "      <th>2</th>\n",
       "      <td>mdg@gmail.com</td>\n",
       "      <td>Krishna DasGupta</td>\n",
       "      <td>Krishna</td>\n",
       "      <td>DasGupta</td>\n",
       "    </tr>\n",
       "    <tr>\n",
       "      <th>3</th>\n",
       "      <td>niv@gmail.com</td>\n",
       "      <td>Nirav Modi</td>\n",
       "      <td>Nirav</td>\n",
       "      <td>Modi</td>\n",
       "    </tr>\n",
       "    <tr>\n",
       "      <th>5</th>\n",
       "      <td>kr@yahoo.com</td>\n",
       "      <td>NaN</td>\n",
       "      <td>Kiran</td>\n",
       "      <td>Ralli</td>\n",
       "    </tr>\n",
       "    <tr>\n",
       "      <th>6</th>\n",
       "      <td>rb@hotmail.com</td>\n",
       "      <td>NaN</td>\n",
       "      <td>Ross</td>\n",
       "      <td>Bran</td>\n",
       "    </tr>\n",
       "    <tr>\n",
       "      <th>7</th>\n",
       "      <td>jt@gmail.com</td>\n",
       "      <td>NaN</td>\n",
       "      <td>Joseph</td>\n",
       "      <td>Tribiani</td>\n",
       "    </tr>\n",
       "  </tbody>\n",
       "</table>\n",
       "</div>"
      ],
      "text/plain": [
       "            Email         Full name     First      Last\n",
       "0    nm@gmail.com     Narendra Modi  Narendra      Modi\n",
       "1    rg@yahoo.com      Sonia Gandhi     Sonia    Gandhi\n",
       "2   mdg@gmail.com  Krishna DasGupta   Krishna  DasGupta\n",
       "3   niv@gmail.com        Nirav Modi     Nirav      Modi\n",
       "5    kr@yahoo.com               NaN     Kiran     Ralli\n",
       "6  rb@hotmail.com               NaN      Ross      Bran\n",
       "7    jt@gmail.com               NaN    Joseph  Tribiani"
      ]
     },
     "execution_count": 114,
     "metadata": {},
     "output_type": "execute_result"
    }
   ],
   "source": [
    "df.drop(index=4)#Deleting rows"
   ]
  },
  {
   "cell_type": "code",
   "execution_count": 115,
   "id": "39627deb",
   "metadata": {},
   "outputs": [
    {
     "data": {
      "text/html": [
       "<div>\n",
       "<style scoped>\n",
       "    .dataframe tbody tr th:only-of-type {\n",
       "        vertical-align: middle;\n",
       "    }\n",
       "\n",
       "    .dataframe tbody tr th {\n",
       "        vertical-align: top;\n",
       "    }\n",
       "\n",
       "    .dataframe thead th {\n",
       "        text-align: right;\n",
       "    }\n",
       "</style>\n",
       "<table border=\"1\" class=\"dataframe\">\n",
       "  <thead>\n",
       "    <tr style=\"text-align: right;\">\n",
       "      <th></th>\n",
       "      <th>Email</th>\n",
       "      <th>Full name</th>\n",
       "      <th>First</th>\n",
       "      <th>Last</th>\n",
       "    </tr>\n",
       "  </thead>\n",
       "  <tbody>\n",
       "    <tr>\n",
       "      <th>1</th>\n",
       "      <td>rg@yahoo.com</td>\n",
       "      <td>Sonia Gandhi</td>\n",
       "      <td>Sonia</td>\n",
       "      <td>Gandhi</td>\n",
       "    </tr>\n",
       "    <tr>\n",
       "      <th>2</th>\n",
       "      <td>mdg@gmail.com</td>\n",
       "      <td>Krishna DasGupta</td>\n",
       "      <td>Krishna</td>\n",
       "      <td>DasGupta</td>\n",
       "    </tr>\n",
       "    <tr>\n",
       "      <th>4</th>\n",
       "      <td>md@gmail.com</td>\n",
       "      <td>NaN</td>\n",
       "      <td>Mohan</td>\n",
       "      <td>Das</td>\n",
       "    </tr>\n",
       "    <tr>\n",
       "      <th>5</th>\n",
       "      <td>kr@yahoo.com</td>\n",
       "      <td>NaN</td>\n",
       "      <td>Kiran</td>\n",
       "      <td>Ralli</td>\n",
       "    </tr>\n",
       "    <tr>\n",
       "      <th>6</th>\n",
       "      <td>rb@hotmail.com</td>\n",
       "      <td>NaN</td>\n",
       "      <td>Ross</td>\n",
       "      <td>Bran</td>\n",
       "    </tr>\n",
       "    <tr>\n",
       "      <th>7</th>\n",
       "      <td>jt@gmail.com</td>\n",
       "      <td>NaN</td>\n",
       "      <td>Joseph</td>\n",
       "      <td>Tribiani</td>\n",
       "    </tr>\n",
       "  </tbody>\n",
       "</table>\n",
       "</div>"
      ],
      "text/plain": [
       "            Email         Full name    First      Last\n",
       "1    rg@yahoo.com      Sonia Gandhi    Sonia    Gandhi\n",
       "2   mdg@gmail.com  Krishna DasGupta  Krishna  DasGupta\n",
       "4    md@gmail.com               NaN    Mohan       Das\n",
       "5    kr@yahoo.com               NaN    Kiran     Ralli\n",
       "6  rb@hotmail.com               NaN     Ross      Bran\n",
       "7    jt@gmail.com               NaN   Joseph  Tribiani"
      ]
     },
     "execution_count": 115,
     "metadata": {},
     "output_type": "execute_result"
    }
   ],
   "source": [
    "df.drop(index=df[df[\"Last\"]==\"Modi\"].index)"
   ]
  },
  {
   "cell_type": "code",
   "execution_count": 116,
   "id": "355f31c3",
   "metadata": {},
   "outputs": [
    {
     "data": {
      "text/html": [
       "<div>\n",
       "<style scoped>\n",
       "    .dataframe tbody tr th:only-of-type {\n",
       "        vertical-align: middle;\n",
       "    }\n",
       "\n",
       "    .dataframe tbody tr th {\n",
       "        vertical-align: top;\n",
       "    }\n",
       "\n",
       "    .dataframe thead th {\n",
       "        text-align: right;\n",
       "    }\n",
       "</style>\n",
       "<table border=\"1\" class=\"dataframe\">\n",
       "  <thead>\n",
       "    <tr style=\"text-align: right;\">\n",
       "      <th></th>\n",
       "      <th>Email</th>\n",
       "      <th>Full name</th>\n",
       "      <th>First</th>\n",
       "      <th>Last</th>\n",
       "    </tr>\n",
       "  </thead>\n",
       "  <tbody>\n",
       "    <tr>\n",
       "      <th>0</th>\n",
       "      <td>nm@gmail.com</td>\n",
       "      <td>Narendra Modi</td>\n",
       "      <td>Narendra</td>\n",
       "      <td>Modi</td>\n",
       "    </tr>\n",
       "    <tr>\n",
       "      <th>3</th>\n",
       "      <td>niv@gmail.com</td>\n",
       "      <td>Nirav Modi</td>\n",
       "      <td>Nirav</td>\n",
       "      <td>Modi</td>\n",
       "    </tr>\n",
       "  </tbody>\n",
       "</table>\n",
       "</div>"
      ],
      "text/plain": [
       "           Email      Full name     First  Last\n",
       "0   nm@gmail.com  Narendra Modi  Narendra  Modi\n",
       "3  niv@gmail.com     Nirav Modi     Nirav  Modi"
      ]
     },
     "execution_count": 116,
     "metadata": {},
     "output_type": "execute_result"
    }
   ],
   "source": [
    "df[df[\"Last\"]==\"Modi\"]"
   ]
  },
  {
   "cell_type": "code",
   "execution_count": 117,
   "id": "a52c54f7",
   "metadata": {},
   "outputs": [
    {
     "data": {
      "text/html": [
       "<div>\n",
       "<style scoped>\n",
       "    .dataframe tbody tr th:only-of-type {\n",
       "        vertical-align: middle;\n",
       "    }\n",
       "\n",
       "    .dataframe tbody tr th {\n",
       "        vertical-align: top;\n",
       "    }\n",
       "\n",
       "    .dataframe thead th {\n",
       "        text-align: right;\n",
       "    }\n",
       "</style>\n",
       "<table border=\"1\" class=\"dataframe\">\n",
       "  <thead>\n",
       "    <tr style=\"text-align: right;\">\n",
       "      <th></th>\n",
       "      <th>Email</th>\n",
       "      <th>Full name</th>\n",
       "      <th>First</th>\n",
       "      <th>Last</th>\n",
       "    </tr>\n",
       "  </thead>\n",
       "  <tbody>\n",
       "    <tr>\n",
       "      <th>1</th>\n",
       "      <td>rg@yahoo.com</td>\n",
       "      <td>Sonia Gandhi</td>\n",
       "      <td>Sonia</td>\n",
       "      <td>Gandhi</td>\n",
       "    </tr>\n",
       "    <tr>\n",
       "      <th>2</th>\n",
       "      <td>mdg@gmail.com</td>\n",
       "      <td>Krishna DasGupta</td>\n",
       "      <td>Krishna</td>\n",
       "      <td>DasGupta</td>\n",
       "    </tr>\n",
       "    <tr>\n",
       "      <th>4</th>\n",
       "      <td>md@gmail.com</td>\n",
       "      <td>NaN</td>\n",
       "      <td>Mohan</td>\n",
       "      <td>Das</td>\n",
       "    </tr>\n",
       "    <tr>\n",
       "      <th>5</th>\n",
       "      <td>kr@yahoo.com</td>\n",
       "      <td>NaN</td>\n",
       "      <td>Kiran</td>\n",
       "      <td>Ralli</td>\n",
       "    </tr>\n",
       "    <tr>\n",
       "      <th>6</th>\n",
       "      <td>rb@hotmail.com</td>\n",
       "      <td>NaN</td>\n",
       "      <td>Ross</td>\n",
       "      <td>Bran</td>\n",
       "    </tr>\n",
       "    <tr>\n",
       "      <th>7</th>\n",
       "      <td>jt@gmail.com</td>\n",
       "      <td>NaN</td>\n",
       "      <td>Joseph</td>\n",
       "      <td>Tribiani</td>\n",
       "    </tr>\n",
       "  </tbody>\n",
       "</table>\n",
       "</div>"
      ],
      "text/plain": [
       "            Email         Full name    First      Last\n",
       "1    rg@yahoo.com      Sonia Gandhi    Sonia    Gandhi\n",
       "2   mdg@gmail.com  Krishna DasGupta  Krishna  DasGupta\n",
       "4    md@gmail.com               NaN    Mohan       Das\n",
       "5    kr@yahoo.com               NaN    Kiran     Ralli\n",
       "6  rb@hotmail.com               NaN     Ross      Bran\n",
       "7    jt@gmail.com               NaN   Joseph  Tribiani"
      ]
     },
     "execution_count": 117,
     "metadata": {},
     "output_type": "execute_result"
    }
   ],
   "source": [
    "filt = df['Last']=='Modi'\n",
    "df.drop(index=df[filt].index)"
   ]
  },
  {
   "cell_type": "code",
   "execution_count": 118,
   "id": "60b90fae",
   "metadata": {},
   "outputs": [],
   "source": [
    "#7)Sorting Data"
   ]
  },
  {
   "cell_type": "code",
   "execution_count": 119,
   "id": "88572f34",
   "metadata": {},
   "outputs": [],
   "source": [
    "people={\n",
    "    \"First name\":[\"Narendra\",\"Rahul\",\"Amit\",\"Nirav\",\"Arun\"],\n",
    "    \"Last name\":[\"Modi\",\"Gandhi\",\"Shah\",\"Modi\",\"Modi\"],\n",
    "    \"Email\":[\"nm@gmail.com\",\"rg@yahoo.com\",\"as@hotmail.com\",\"niv@gmail.com\",\"am@gmail.com\"],\n",
    "}"
   ]
  },
  {
   "cell_type": "code",
   "execution_count": 120,
   "id": "c293b8b9",
   "metadata": {},
   "outputs": [],
   "source": [
    "df=pd.DataFrame(people)"
   ]
  },
  {
   "cell_type": "code",
   "execution_count": 121,
   "id": "4fd89844",
   "metadata": {},
   "outputs": [
    {
     "data": {
      "text/html": [
       "<div>\n",
       "<style scoped>\n",
       "    .dataframe tbody tr th:only-of-type {\n",
       "        vertical-align: middle;\n",
       "    }\n",
       "\n",
       "    .dataframe tbody tr th {\n",
       "        vertical-align: top;\n",
       "    }\n",
       "\n",
       "    .dataframe thead th {\n",
       "        text-align: right;\n",
       "    }\n",
       "</style>\n",
       "<table border=\"1\" class=\"dataframe\">\n",
       "  <thead>\n",
       "    <tr style=\"text-align: right;\">\n",
       "      <th></th>\n",
       "      <th>First name</th>\n",
       "      <th>Last name</th>\n",
       "      <th>Email</th>\n",
       "    </tr>\n",
       "  </thead>\n",
       "  <tbody>\n",
       "    <tr>\n",
       "      <th>0</th>\n",
       "      <td>Narendra</td>\n",
       "      <td>Modi</td>\n",
       "      <td>nm@gmail.com</td>\n",
       "    </tr>\n",
       "    <tr>\n",
       "      <th>1</th>\n",
       "      <td>Rahul</td>\n",
       "      <td>Gandhi</td>\n",
       "      <td>rg@yahoo.com</td>\n",
       "    </tr>\n",
       "    <tr>\n",
       "      <th>2</th>\n",
       "      <td>Amit</td>\n",
       "      <td>Shah</td>\n",
       "      <td>as@hotmail.com</td>\n",
       "    </tr>\n",
       "    <tr>\n",
       "      <th>3</th>\n",
       "      <td>Nirav</td>\n",
       "      <td>Modi</td>\n",
       "      <td>niv@gmail.com</td>\n",
       "    </tr>\n",
       "    <tr>\n",
       "      <th>4</th>\n",
       "      <td>Arun</td>\n",
       "      <td>Modi</td>\n",
       "      <td>am@gmail.com</td>\n",
       "    </tr>\n",
       "  </tbody>\n",
       "</table>\n",
       "</div>"
      ],
      "text/plain": [
       "  First name Last name           Email\n",
       "0   Narendra      Modi    nm@gmail.com\n",
       "1      Rahul    Gandhi    rg@yahoo.com\n",
       "2       Amit      Shah  as@hotmail.com\n",
       "3      Nirav      Modi   niv@gmail.com\n",
       "4       Arun      Modi    am@gmail.com"
      ]
     },
     "execution_count": 121,
     "metadata": {},
     "output_type": "execute_result"
    }
   ],
   "source": [
    "df"
   ]
  },
  {
   "cell_type": "code",
   "execution_count": 122,
   "id": "32cf68ea",
   "metadata": {},
   "outputs": [
    {
     "data": {
      "text/html": [
       "<div>\n",
       "<style scoped>\n",
       "    .dataframe tbody tr th:only-of-type {\n",
       "        vertical-align: middle;\n",
       "    }\n",
       "\n",
       "    .dataframe tbody tr th {\n",
       "        vertical-align: top;\n",
       "    }\n",
       "\n",
       "    .dataframe thead th {\n",
       "        text-align: right;\n",
       "    }\n",
       "</style>\n",
       "<table border=\"1\" class=\"dataframe\">\n",
       "  <thead>\n",
       "    <tr style=\"text-align: right;\">\n",
       "      <th></th>\n",
       "      <th>First name</th>\n",
       "      <th>Last name</th>\n",
       "      <th>Email</th>\n",
       "    </tr>\n",
       "  </thead>\n",
       "  <tbody>\n",
       "    <tr>\n",
       "      <th>1</th>\n",
       "      <td>Rahul</td>\n",
       "      <td>Gandhi</td>\n",
       "      <td>rg@yahoo.com</td>\n",
       "    </tr>\n",
       "    <tr>\n",
       "      <th>0</th>\n",
       "      <td>Narendra</td>\n",
       "      <td>Modi</td>\n",
       "      <td>nm@gmail.com</td>\n",
       "    </tr>\n",
       "    <tr>\n",
       "      <th>3</th>\n",
       "      <td>Nirav</td>\n",
       "      <td>Modi</td>\n",
       "      <td>niv@gmail.com</td>\n",
       "    </tr>\n",
       "    <tr>\n",
       "      <th>4</th>\n",
       "      <td>Arun</td>\n",
       "      <td>Modi</td>\n",
       "      <td>am@gmail.com</td>\n",
       "    </tr>\n",
       "    <tr>\n",
       "      <th>2</th>\n",
       "      <td>Amit</td>\n",
       "      <td>Shah</td>\n",
       "      <td>as@hotmail.com</td>\n",
       "    </tr>\n",
       "  </tbody>\n",
       "</table>\n",
       "</div>"
      ],
      "text/plain": [
       "  First name Last name           Email\n",
       "1      Rahul    Gandhi    rg@yahoo.com\n",
       "0   Narendra      Modi    nm@gmail.com\n",
       "3      Nirav      Modi   niv@gmail.com\n",
       "4       Arun      Modi    am@gmail.com\n",
       "2       Amit      Shah  as@hotmail.com"
      ]
     },
     "execution_count": 122,
     "metadata": {},
     "output_type": "execute_result"
    }
   ],
   "source": [
    "df.sort_values(by=\"Last name\")"
   ]
  },
  {
   "cell_type": "code",
   "execution_count": 123,
   "id": "f07aabd7",
   "metadata": {},
   "outputs": [
    {
     "data": {
      "text/html": [
       "<div>\n",
       "<style scoped>\n",
       "    .dataframe tbody tr th:only-of-type {\n",
       "        vertical-align: middle;\n",
       "    }\n",
       "\n",
       "    .dataframe tbody tr th {\n",
       "        vertical-align: top;\n",
       "    }\n",
       "\n",
       "    .dataframe thead th {\n",
       "        text-align: right;\n",
       "    }\n",
       "</style>\n",
       "<table border=\"1\" class=\"dataframe\">\n",
       "  <thead>\n",
       "    <tr style=\"text-align: right;\">\n",
       "      <th></th>\n",
       "      <th>First name</th>\n",
       "      <th>Last name</th>\n",
       "      <th>Email</th>\n",
       "    </tr>\n",
       "  </thead>\n",
       "  <tbody>\n",
       "    <tr>\n",
       "      <th>2</th>\n",
       "      <td>Amit</td>\n",
       "      <td>Shah</td>\n",
       "      <td>as@hotmail.com</td>\n",
       "    </tr>\n",
       "    <tr>\n",
       "      <th>0</th>\n",
       "      <td>Narendra</td>\n",
       "      <td>Modi</td>\n",
       "      <td>nm@gmail.com</td>\n",
       "    </tr>\n",
       "    <tr>\n",
       "      <th>3</th>\n",
       "      <td>Nirav</td>\n",
       "      <td>Modi</td>\n",
       "      <td>niv@gmail.com</td>\n",
       "    </tr>\n",
       "    <tr>\n",
       "      <th>4</th>\n",
       "      <td>Arun</td>\n",
       "      <td>Modi</td>\n",
       "      <td>am@gmail.com</td>\n",
       "    </tr>\n",
       "    <tr>\n",
       "      <th>1</th>\n",
       "      <td>Rahul</td>\n",
       "      <td>Gandhi</td>\n",
       "      <td>rg@yahoo.com</td>\n",
       "    </tr>\n",
       "  </tbody>\n",
       "</table>\n",
       "</div>"
      ],
      "text/plain": [
       "  First name Last name           Email\n",
       "2       Amit      Shah  as@hotmail.com\n",
       "0   Narendra      Modi    nm@gmail.com\n",
       "3      Nirav      Modi   niv@gmail.com\n",
       "4       Arun      Modi    am@gmail.com\n",
       "1      Rahul    Gandhi    rg@yahoo.com"
      ]
     },
     "execution_count": 123,
     "metadata": {},
     "output_type": "execute_result"
    }
   ],
   "source": [
    "df.sort_values(by=\"Last name\",ascending=False)"
   ]
  },
  {
   "cell_type": "code",
   "execution_count": 124,
   "id": "c8878be7",
   "metadata": {},
   "outputs": [
    {
     "data": {
      "text/html": [
       "<div>\n",
       "<style scoped>\n",
       "    .dataframe tbody tr th:only-of-type {\n",
       "        vertical-align: middle;\n",
       "    }\n",
       "\n",
       "    .dataframe tbody tr th {\n",
       "        vertical-align: top;\n",
       "    }\n",
       "\n",
       "    .dataframe thead th {\n",
       "        text-align: right;\n",
       "    }\n",
       "</style>\n",
       "<table border=\"1\" class=\"dataframe\">\n",
       "  <thead>\n",
       "    <tr style=\"text-align: right;\">\n",
       "      <th></th>\n",
       "      <th>First name</th>\n",
       "      <th>Last name</th>\n",
       "      <th>Email</th>\n",
       "    </tr>\n",
       "  </thead>\n",
       "  <tbody>\n",
       "    <tr>\n",
       "      <th>2</th>\n",
       "      <td>Amit</td>\n",
       "      <td>Shah</td>\n",
       "      <td>as@hotmail.com</td>\n",
       "    </tr>\n",
       "    <tr>\n",
       "      <th>3</th>\n",
       "      <td>Nirav</td>\n",
       "      <td>Modi</td>\n",
       "      <td>niv@gmail.com</td>\n",
       "    </tr>\n",
       "    <tr>\n",
       "      <th>0</th>\n",
       "      <td>Narendra</td>\n",
       "      <td>Modi</td>\n",
       "      <td>nm@gmail.com</td>\n",
       "    </tr>\n",
       "    <tr>\n",
       "      <th>4</th>\n",
       "      <td>Arun</td>\n",
       "      <td>Modi</td>\n",
       "      <td>am@gmail.com</td>\n",
       "    </tr>\n",
       "    <tr>\n",
       "      <th>1</th>\n",
       "      <td>Rahul</td>\n",
       "      <td>Gandhi</td>\n",
       "      <td>rg@yahoo.com</td>\n",
       "    </tr>\n",
       "  </tbody>\n",
       "</table>\n",
       "</div>"
      ],
      "text/plain": [
       "  First name Last name           Email\n",
       "2       Amit      Shah  as@hotmail.com\n",
       "3      Nirav      Modi   niv@gmail.com\n",
       "0   Narendra      Modi    nm@gmail.com\n",
       "4       Arun      Modi    am@gmail.com\n",
       "1      Rahul    Gandhi    rg@yahoo.com"
      ]
     },
     "execution_count": 124,
     "metadata": {},
     "output_type": "execute_result"
    }
   ],
   "source": [
    "df.sort_values(by=[\"Last name\",\"First name\"],ascending=False)"
   ]
  },
  {
   "cell_type": "code",
   "execution_count": 125,
   "id": "27ca1432",
   "metadata": {},
   "outputs": [],
   "source": [
    "#Lastname in Descending order and Firstname in Ascending order"
   ]
  },
  {
   "cell_type": "code",
   "execution_count": 126,
   "id": "4f6537fb",
   "metadata": {},
   "outputs": [
    {
     "data": {
      "text/html": [
       "<div>\n",
       "<style scoped>\n",
       "    .dataframe tbody tr th:only-of-type {\n",
       "        vertical-align: middle;\n",
       "    }\n",
       "\n",
       "    .dataframe tbody tr th {\n",
       "        vertical-align: top;\n",
       "    }\n",
       "\n",
       "    .dataframe thead th {\n",
       "        text-align: right;\n",
       "    }\n",
       "</style>\n",
       "<table border=\"1\" class=\"dataframe\">\n",
       "  <thead>\n",
       "    <tr style=\"text-align: right;\">\n",
       "      <th></th>\n",
       "      <th>First name</th>\n",
       "      <th>Last name</th>\n",
       "      <th>Email</th>\n",
       "    </tr>\n",
       "  </thead>\n",
       "  <tbody>\n",
       "    <tr>\n",
       "      <th>2</th>\n",
       "      <td>Amit</td>\n",
       "      <td>Shah</td>\n",
       "      <td>as@hotmail.com</td>\n",
       "    </tr>\n",
       "    <tr>\n",
       "      <th>4</th>\n",
       "      <td>Arun</td>\n",
       "      <td>Modi</td>\n",
       "      <td>am@gmail.com</td>\n",
       "    </tr>\n",
       "    <tr>\n",
       "      <th>0</th>\n",
       "      <td>Narendra</td>\n",
       "      <td>Modi</td>\n",
       "      <td>nm@gmail.com</td>\n",
       "    </tr>\n",
       "    <tr>\n",
       "      <th>3</th>\n",
       "      <td>Nirav</td>\n",
       "      <td>Modi</td>\n",
       "      <td>niv@gmail.com</td>\n",
       "    </tr>\n",
       "    <tr>\n",
       "      <th>1</th>\n",
       "      <td>Rahul</td>\n",
       "      <td>Gandhi</td>\n",
       "      <td>rg@yahoo.com</td>\n",
       "    </tr>\n",
       "  </tbody>\n",
       "</table>\n",
       "</div>"
      ],
      "text/plain": [
       "  First name Last name           Email\n",
       "2       Amit      Shah  as@hotmail.com\n",
       "4       Arun      Modi    am@gmail.com\n",
       "0   Narendra      Modi    nm@gmail.com\n",
       "3      Nirav      Modi   niv@gmail.com\n",
       "1      Rahul    Gandhi    rg@yahoo.com"
      ]
     },
     "execution_count": 126,
     "metadata": {},
     "output_type": "execute_result"
    }
   ],
   "source": [
    "df.sort_values(by=[\"Last name\",\"First name\"],ascending=[False,True])"
   ]
  },
  {
   "cell_type": "code",
   "execution_count": 127,
   "id": "55805bea",
   "metadata": {},
   "outputs": [],
   "source": [
    "df.sort_values(by=[\"Last name\",\"First name\"],ascending=[False,True],inplace=True)"
   ]
  },
  {
   "cell_type": "code",
   "execution_count": 128,
   "id": "ff404b7d",
   "metadata": {},
   "outputs": [
    {
     "data": {
      "text/html": [
       "<div>\n",
       "<style scoped>\n",
       "    .dataframe tbody tr th:only-of-type {\n",
       "        vertical-align: middle;\n",
       "    }\n",
       "\n",
       "    .dataframe tbody tr th {\n",
       "        vertical-align: top;\n",
       "    }\n",
       "\n",
       "    .dataframe thead th {\n",
       "        text-align: right;\n",
       "    }\n",
       "</style>\n",
       "<table border=\"1\" class=\"dataframe\">\n",
       "  <thead>\n",
       "    <tr style=\"text-align: right;\">\n",
       "      <th></th>\n",
       "      <th>First name</th>\n",
       "      <th>Last name</th>\n",
       "      <th>Email</th>\n",
       "    </tr>\n",
       "  </thead>\n",
       "  <tbody>\n",
       "    <tr>\n",
       "      <th>2</th>\n",
       "      <td>Amit</td>\n",
       "      <td>Shah</td>\n",
       "      <td>as@hotmail.com</td>\n",
       "    </tr>\n",
       "    <tr>\n",
       "      <th>4</th>\n",
       "      <td>Arun</td>\n",
       "      <td>Modi</td>\n",
       "      <td>am@gmail.com</td>\n",
       "    </tr>\n",
       "    <tr>\n",
       "      <th>0</th>\n",
       "      <td>Narendra</td>\n",
       "      <td>Modi</td>\n",
       "      <td>nm@gmail.com</td>\n",
       "    </tr>\n",
       "    <tr>\n",
       "      <th>3</th>\n",
       "      <td>Nirav</td>\n",
       "      <td>Modi</td>\n",
       "      <td>niv@gmail.com</td>\n",
       "    </tr>\n",
       "    <tr>\n",
       "      <th>1</th>\n",
       "      <td>Rahul</td>\n",
       "      <td>Gandhi</td>\n",
       "      <td>rg@yahoo.com</td>\n",
       "    </tr>\n",
       "  </tbody>\n",
       "</table>\n",
       "</div>"
      ],
      "text/plain": [
       "  First name Last name           Email\n",
       "2       Amit      Shah  as@hotmail.com\n",
       "4       Arun      Modi    am@gmail.com\n",
       "0   Narendra      Modi    nm@gmail.com\n",
       "3      Nirav      Modi   niv@gmail.com\n",
       "1      Rahul    Gandhi    rg@yahoo.com"
      ]
     },
     "execution_count": 128,
     "metadata": {},
     "output_type": "execute_result"
    }
   ],
   "source": [
    "df"
   ]
  },
  {
   "cell_type": "code",
   "execution_count": 129,
   "id": "88476522",
   "metadata": {},
   "outputs": [
    {
     "data": {
      "text/html": [
       "<div>\n",
       "<style scoped>\n",
       "    .dataframe tbody tr th:only-of-type {\n",
       "        vertical-align: middle;\n",
       "    }\n",
       "\n",
       "    .dataframe tbody tr th {\n",
       "        vertical-align: top;\n",
       "    }\n",
       "\n",
       "    .dataframe thead th {\n",
       "        text-align: right;\n",
       "    }\n",
       "</style>\n",
       "<table border=\"1\" class=\"dataframe\">\n",
       "  <thead>\n",
       "    <tr style=\"text-align: right;\">\n",
       "      <th></th>\n",
       "      <th>First name</th>\n",
       "      <th>Last name</th>\n",
       "      <th>Email</th>\n",
       "    </tr>\n",
       "  </thead>\n",
       "  <tbody>\n",
       "    <tr>\n",
       "      <th>0</th>\n",
       "      <td>Narendra</td>\n",
       "      <td>Modi</td>\n",
       "      <td>nm@gmail.com</td>\n",
       "    </tr>\n",
       "    <tr>\n",
       "      <th>1</th>\n",
       "      <td>Rahul</td>\n",
       "      <td>Gandhi</td>\n",
       "      <td>rg@yahoo.com</td>\n",
       "    </tr>\n",
       "    <tr>\n",
       "      <th>2</th>\n",
       "      <td>Amit</td>\n",
       "      <td>Shah</td>\n",
       "      <td>as@hotmail.com</td>\n",
       "    </tr>\n",
       "    <tr>\n",
       "      <th>3</th>\n",
       "      <td>Nirav</td>\n",
       "      <td>Modi</td>\n",
       "      <td>niv@gmail.com</td>\n",
       "    </tr>\n",
       "    <tr>\n",
       "      <th>4</th>\n",
       "      <td>Arun</td>\n",
       "      <td>Modi</td>\n",
       "      <td>am@gmail.com</td>\n",
       "    </tr>\n",
       "  </tbody>\n",
       "</table>\n",
       "</div>"
      ],
      "text/plain": [
       "  First name Last name           Email\n",
       "0   Narendra      Modi    nm@gmail.com\n",
       "1      Rahul    Gandhi    rg@yahoo.com\n",
       "2       Amit      Shah  as@hotmail.com\n",
       "3      Nirav      Modi   niv@gmail.com\n",
       "4       Arun      Modi    am@gmail.com"
      ]
     },
     "execution_count": 129,
     "metadata": {},
     "output_type": "execute_result"
    }
   ],
   "source": [
    "#To get back our normal dataframe\n",
    "df.sort_index()"
   ]
  },
  {
   "cell_type": "code",
   "execution_count": 130,
   "id": "66b3c4c4",
   "metadata": {},
   "outputs": [
    {
     "data": {
      "text/plain": [
       "1    Gandhi\n",
       "4      Modi\n",
       "0      Modi\n",
       "3      Modi\n",
       "2      Shah\n",
       "Name: Last name, dtype: object"
      ]
     },
     "execution_count": 130,
     "metadata": {},
     "output_type": "execute_result"
    }
   ],
   "source": [
    "df[\"Last name\"].sort_values()"
   ]
  },
  {
   "cell_type": "code",
   "execution_count": 144,
   "id": "37d088e8",
   "metadata": {},
   "outputs": [],
   "source": [
    "#Cleaning the data\n",
    "import numpy as np\n",
    "people={\n",
    "    \"First name\":[\"Narendra\",\"Rahul\",\"Amit\",\"Nirav\",np.nan,None,'NA'],\n",
    "    \"Last name\":[\"Modi\",\"Gandhi\",\"Shah\",\"Modi\",np.nan,np.nan,'missing'],\n",
    "    \"Email\":[\"nm@gmail.com\",\"rg@yahoo.com\",\"as@hotmail.com\",\"niv@gmail.com\",None,np.nan,'missing'],\n",
    "    \"age\" : ['65','50','68','49',None,'missing','missing'],\n",
    "    \"grandparent\":[np.nan,np.nan,np.nan,np.nan,np.nan,np.nan,np.nan]\n",
    "}"
   ]
  },
  {
   "cell_type": "code",
   "execution_count": 145,
   "id": "5eedf298",
   "metadata": {},
   "outputs": [],
   "source": [
    "df = pd.DataFrame(people)"
   ]
  },
  {
   "cell_type": "code",
   "execution_count": 146,
   "id": "9fd5c61b",
   "metadata": {},
   "outputs": [
    {
     "data": {
      "text/html": [
       "<div>\n",
       "<style scoped>\n",
       "    .dataframe tbody tr th:only-of-type {\n",
       "        vertical-align: middle;\n",
       "    }\n",
       "\n",
       "    .dataframe tbody tr th {\n",
       "        vertical-align: top;\n",
       "    }\n",
       "\n",
       "    .dataframe thead th {\n",
       "        text-align: right;\n",
       "    }\n",
       "</style>\n",
       "<table border=\"1\" class=\"dataframe\">\n",
       "  <thead>\n",
       "    <tr style=\"text-align: right;\">\n",
       "      <th></th>\n",
       "      <th>First name</th>\n",
       "      <th>Last name</th>\n",
       "      <th>Email</th>\n",
       "      <th>age</th>\n",
       "      <th>grandparent</th>\n",
       "    </tr>\n",
       "  </thead>\n",
       "  <tbody>\n",
       "    <tr>\n",
       "      <th>0</th>\n",
       "      <td>Narendra</td>\n",
       "      <td>Modi</td>\n",
       "      <td>nm@gmail.com</td>\n",
       "      <td>65</td>\n",
       "      <td>NaN</td>\n",
       "    </tr>\n",
       "    <tr>\n",
       "      <th>1</th>\n",
       "      <td>Rahul</td>\n",
       "      <td>Gandhi</td>\n",
       "      <td>rg@yahoo.com</td>\n",
       "      <td>50</td>\n",
       "      <td>NaN</td>\n",
       "    </tr>\n",
       "    <tr>\n",
       "      <th>2</th>\n",
       "      <td>Amit</td>\n",
       "      <td>Shah</td>\n",
       "      <td>as@hotmail.com</td>\n",
       "      <td>68</td>\n",
       "      <td>NaN</td>\n",
       "    </tr>\n",
       "    <tr>\n",
       "      <th>3</th>\n",
       "      <td>Nirav</td>\n",
       "      <td>Modi</td>\n",
       "      <td>niv@gmail.com</td>\n",
       "      <td>49</td>\n",
       "      <td>NaN</td>\n",
       "    </tr>\n",
       "    <tr>\n",
       "      <th>4</th>\n",
       "      <td>NaN</td>\n",
       "      <td>NaN</td>\n",
       "      <td>None</td>\n",
       "      <td>None</td>\n",
       "      <td>NaN</td>\n",
       "    </tr>\n",
       "    <tr>\n",
       "      <th>5</th>\n",
       "      <td>None</td>\n",
       "      <td>NaN</td>\n",
       "      <td>NaN</td>\n",
       "      <td>missing</td>\n",
       "      <td>NaN</td>\n",
       "    </tr>\n",
       "    <tr>\n",
       "      <th>6</th>\n",
       "      <td>NA</td>\n",
       "      <td>missing</td>\n",
       "      <td>missing</td>\n",
       "      <td>missing</td>\n",
       "      <td>NaN</td>\n",
       "    </tr>\n",
       "  </tbody>\n",
       "</table>\n",
       "</div>"
      ],
      "text/plain": [
       "  First name Last name           Email      age  grandparent\n",
       "0   Narendra      Modi    nm@gmail.com       65          NaN\n",
       "1      Rahul    Gandhi    rg@yahoo.com       50          NaN\n",
       "2       Amit      Shah  as@hotmail.com       68          NaN\n",
       "3      Nirav      Modi   niv@gmail.com       49          NaN\n",
       "4        NaN       NaN            None     None          NaN\n",
       "5       None       NaN             NaN  missing          NaN\n",
       "6         NA   missing         missing  missing          NaN"
      ]
     },
     "execution_count": 146,
     "metadata": {},
     "output_type": "execute_result"
    }
   ],
   "source": [
    "df"
   ]
  },
  {
   "cell_type": "code",
   "execution_count": 147,
   "id": "7c883e97",
   "metadata": {},
   "outputs": [
    {
     "data": {
      "text/html": [
       "<div>\n",
       "<style scoped>\n",
       "    .dataframe tbody tr th:only-of-type {\n",
       "        vertical-align: middle;\n",
       "    }\n",
       "\n",
       "    .dataframe tbody tr th {\n",
       "        vertical-align: top;\n",
       "    }\n",
       "\n",
       "    .dataframe thead th {\n",
       "        text-align: right;\n",
       "    }\n",
       "</style>\n",
       "<table border=\"1\" class=\"dataframe\">\n",
       "  <thead>\n",
       "    <tr style=\"text-align: right;\">\n",
       "      <th></th>\n",
       "      <th>First name</th>\n",
       "      <th>Last name</th>\n",
       "      <th>Email</th>\n",
       "      <th>age</th>\n",
       "      <th>grandparent</th>\n",
       "    </tr>\n",
       "  </thead>\n",
       "  <tbody>\n",
       "  </tbody>\n",
       "</table>\n",
       "</div>"
      ],
      "text/plain": [
       "Empty DataFrame\n",
       "Columns: [First name, Last name, Email, age, grandparent]\n",
       "Index: []"
      ]
     },
     "execution_count": 147,
     "metadata": {},
     "output_type": "execute_result"
    }
   ],
   "source": [
    "df.dropna()#it will catch np.nan or None"
   ]
  },
  {
   "cell_type": "code",
   "execution_count": 148,
   "id": "ccf3523c",
   "metadata": {},
   "outputs": [
    {
     "data": {
      "text/html": [
       "<div>\n",
       "<style scoped>\n",
       "    .dataframe tbody tr th:only-of-type {\n",
       "        vertical-align: middle;\n",
       "    }\n",
       "\n",
       "    .dataframe tbody tr th {\n",
       "        vertical-align: top;\n",
       "    }\n",
       "\n",
       "    .dataframe thead th {\n",
       "        text-align: right;\n",
       "    }\n",
       "</style>\n",
       "<table border=\"1\" class=\"dataframe\">\n",
       "  <thead>\n",
       "    <tr style=\"text-align: right;\">\n",
       "      <th></th>\n",
       "      <th>First name</th>\n",
       "      <th>Last name</th>\n",
       "      <th>Email</th>\n",
       "      <th>age</th>\n",
       "      <th>grandparent</th>\n",
       "    </tr>\n",
       "  </thead>\n",
       "  <tbody>\n",
       "  </tbody>\n",
       "</table>\n",
       "</div>"
      ],
      "text/plain": [
       "Empty DataFrame\n",
       "Columns: [First name, Last name, Email, age, grandparent]\n",
       "Index: []"
      ]
     },
     "execution_count": 148,
     "metadata": {},
     "output_type": "execute_result"
    }
   ],
   "source": [
    "#default\n",
    "df.dropna(axis=0,how='any')"
   ]
  },
  {
   "cell_type": "code",
   "execution_count": 149,
   "id": "3f2f70fe",
   "metadata": {},
   "outputs": [
    {
     "data": {
      "text/html": [
       "<div>\n",
       "<style scoped>\n",
       "    .dataframe tbody tr th:only-of-type {\n",
       "        vertical-align: middle;\n",
       "    }\n",
       "\n",
       "    .dataframe tbody tr th {\n",
       "        vertical-align: top;\n",
       "    }\n",
       "\n",
       "    .dataframe thead th {\n",
       "        text-align: right;\n",
       "    }\n",
       "</style>\n",
       "<table border=\"1\" class=\"dataframe\">\n",
       "  <thead>\n",
       "    <tr style=\"text-align: right;\">\n",
       "      <th></th>\n",
       "      <th>First name</th>\n",
       "      <th>Last name</th>\n",
       "      <th>Email</th>\n",
       "      <th>age</th>\n",
       "      <th>grandparent</th>\n",
       "    </tr>\n",
       "  </thead>\n",
       "  <tbody>\n",
       "    <tr>\n",
       "      <th>0</th>\n",
       "      <td>Narendra</td>\n",
       "      <td>Modi</td>\n",
       "      <td>nm@gmail.com</td>\n",
       "      <td>65</td>\n",
       "      <td>NaN</td>\n",
       "    </tr>\n",
       "    <tr>\n",
       "      <th>1</th>\n",
       "      <td>Rahul</td>\n",
       "      <td>Gandhi</td>\n",
       "      <td>rg@yahoo.com</td>\n",
       "      <td>50</td>\n",
       "      <td>NaN</td>\n",
       "    </tr>\n",
       "    <tr>\n",
       "      <th>2</th>\n",
       "      <td>Amit</td>\n",
       "      <td>Shah</td>\n",
       "      <td>as@hotmail.com</td>\n",
       "      <td>68</td>\n",
       "      <td>NaN</td>\n",
       "    </tr>\n",
       "    <tr>\n",
       "      <th>3</th>\n",
       "      <td>Nirav</td>\n",
       "      <td>Modi</td>\n",
       "      <td>niv@gmail.com</td>\n",
       "      <td>49</td>\n",
       "      <td>NaN</td>\n",
       "    </tr>\n",
       "    <tr>\n",
       "      <th>5</th>\n",
       "      <td>None</td>\n",
       "      <td>NaN</td>\n",
       "      <td>NaN</td>\n",
       "      <td>missing</td>\n",
       "      <td>NaN</td>\n",
       "    </tr>\n",
       "    <tr>\n",
       "      <th>6</th>\n",
       "      <td>NA</td>\n",
       "      <td>missing</td>\n",
       "      <td>missing</td>\n",
       "      <td>missing</td>\n",
       "      <td>NaN</td>\n",
       "    </tr>\n",
       "  </tbody>\n",
       "</table>\n",
       "</div>"
      ],
      "text/plain": [
       "  First name Last name           Email      age  grandparent\n",
       "0   Narendra      Modi    nm@gmail.com       65          NaN\n",
       "1      Rahul    Gandhi    rg@yahoo.com       50          NaN\n",
       "2       Amit      Shah  as@hotmail.com       68          NaN\n",
       "3      Nirav      Modi   niv@gmail.com       49          NaN\n",
       "5       None       NaN             NaN  missing          NaN\n",
       "6         NA   missing         missing  missing          NaN"
      ]
     },
     "execution_count": 149,
     "metadata": {},
     "output_type": "execute_result"
    }
   ],
   "source": [
    "df.dropna(axis=0,how='all')"
   ]
  },
  {
   "cell_type": "code",
   "execution_count": 150,
   "id": "7faf6e48",
   "metadata": {},
   "outputs": [
    {
     "data": {
      "text/html": [
       "<div>\n",
       "<style scoped>\n",
       "    .dataframe tbody tr th:only-of-type {\n",
       "        vertical-align: middle;\n",
       "    }\n",
       "\n",
       "    .dataframe tbody tr th {\n",
       "        vertical-align: top;\n",
       "    }\n",
       "\n",
       "    .dataframe thead th {\n",
       "        text-align: right;\n",
       "    }\n",
       "</style>\n",
       "<table border=\"1\" class=\"dataframe\">\n",
       "  <thead>\n",
       "    <tr style=\"text-align: right;\">\n",
       "      <th></th>\n",
       "      <th>First name</th>\n",
       "      <th>Last name</th>\n",
       "      <th>Email</th>\n",
       "      <th>age</th>\n",
       "    </tr>\n",
       "  </thead>\n",
       "  <tbody>\n",
       "    <tr>\n",
       "      <th>0</th>\n",
       "      <td>Narendra</td>\n",
       "      <td>Modi</td>\n",
       "      <td>nm@gmail.com</td>\n",
       "      <td>65</td>\n",
       "    </tr>\n",
       "    <tr>\n",
       "      <th>1</th>\n",
       "      <td>Rahul</td>\n",
       "      <td>Gandhi</td>\n",
       "      <td>rg@yahoo.com</td>\n",
       "      <td>50</td>\n",
       "    </tr>\n",
       "    <tr>\n",
       "      <th>2</th>\n",
       "      <td>Amit</td>\n",
       "      <td>Shah</td>\n",
       "      <td>as@hotmail.com</td>\n",
       "      <td>68</td>\n",
       "    </tr>\n",
       "    <tr>\n",
       "      <th>3</th>\n",
       "      <td>Nirav</td>\n",
       "      <td>Modi</td>\n",
       "      <td>niv@gmail.com</td>\n",
       "      <td>49</td>\n",
       "    </tr>\n",
       "    <tr>\n",
       "      <th>4</th>\n",
       "      <td>NaN</td>\n",
       "      <td>NaN</td>\n",
       "      <td>None</td>\n",
       "      <td>None</td>\n",
       "    </tr>\n",
       "    <tr>\n",
       "      <th>5</th>\n",
       "      <td>None</td>\n",
       "      <td>NaN</td>\n",
       "      <td>NaN</td>\n",
       "      <td>missing</td>\n",
       "    </tr>\n",
       "    <tr>\n",
       "      <th>6</th>\n",
       "      <td>NA</td>\n",
       "      <td>missing</td>\n",
       "      <td>missing</td>\n",
       "      <td>missing</td>\n",
       "    </tr>\n",
       "  </tbody>\n",
       "</table>\n",
       "</div>"
      ],
      "text/plain": [
       "  First name Last name           Email      age\n",
       "0   Narendra      Modi    nm@gmail.com       65\n",
       "1      Rahul    Gandhi    rg@yahoo.com       50\n",
       "2       Amit      Shah  as@hotmail.com       68\n",
       "3      Nirav      Modi   niv@gmail.com       49\n",
       "4        NaN       NaN            None     None\n",
       "5       None       NaN             NaN  missing\n",
       "6         NA   missing         missing  missing"
      ]
     },
     "execution_count": 150,
     "metadata": {},
     "output_type": "execute_result"
    }
   ],
   "source": [
    "df.dropna(axis=1,how='all')"
   ]
  },
  {
   "cell_type": "code",
   "execution_count": 151,
   "id": "ae433aae",
   "metadata": {},
   "outputs": [
    {
     "data": {
      "text/html": [
       "<div>\n",
       "<style scoped>\n",
       "    .dataframe tbody tr th:only-of-type {\n",
       "        vertical-align: middle;\n",
       "    }\n",
       "\n",
       "    .dataframe tbody tr th {\n",
       "        vertical-align: top;\n",
       "    }\n",
       "\n",
       "    .dataframe thead th {\n",
       "        text-align: right;\n",
       "    }\n",
       "</style>\n",
       "<table border=\"1\" class=\"dataframe\">\n",
       "  <thead>\n",
       "    <tr style=\"text-align: right;\">\n",
       "      <th></th>\n",
       "    </tr>\n",
       "  </thead>\n",
       "  <tbody>\n",
       "    <tr>\n",
       "      <th>0</th>\n",
       "    </tr>\n",
       "    <tr>\n",
       "      <th>1</th>\n",
       "    </tr>\n",
       "    <tr>\n",
       "      <th>2</th>\n",
       "    </tr>\n",
       "    <tr>\n",
       "      <th>3</th>\n",
       "    </tr>\n",
       "    <tr>\n",
       "      <th>4</th>\n",
       "    </tr>\n",
       "    <tr>\n",
       "      <th>5</th>\n",
       "    </tr>\n",
       "    <tr>\n",
       "      <th>6</th>\n",
       "    </tr>\n",
       "  </tbody>\n",
       "</table>\n",
       "</div>"
      ],
      "text/plain": [
       "Empty DataFrame\n",
       "Columns: []\n",
       "Index: [0, 1, 2, 3, 4, 5, 6]"
      ]
     },
     "execution_count": 151,
     "metadata": {},
     "output_type": "execute_result"
    }
   ],
   "source": [
    "df.dropna(axis=1,how='any')"
   ]
  },
  {
   "cell_type": "code",
   "execution_count": 154,
   "id": "16c5f8bf",
   "metadata": {},
   "outputs": [
    {
     "data": {
      "text/html": [
       "<div>\n",
       "<style scoped>\n",
       "    .dataframe tbody tr th:only-of-type {\n",
       "        vertical-align: middle;\n",
       "    }\n",
       "\n",
       "    .dataframe tbody tr th {\n",
       "        vertical-align: top;\n",
       "    }\n",
       "\n",
       "    .dataframe thead th {\n",
       "        text-align: right;\n",
       "    }\n",
       "</style>\n",
       "<table border=\"1\" class=\"dataframe\">\n",
       "  <thead>\n",
       "    <tr style=\"text-align: right;\">\n",
       "      <th></th>\n",
       "      <th>First name</th>\n",
       "      <th>Last name</th>\n",
       "      <th>Email</th>\n",
       "      <th>age</th>\n",
       "      <th>grandparent</th>\n",
       "    </tr>\n",
       "  </thead>\n",
       "  <tbody>\n",
       "    <tr>\n",
       "      <th>0</th>\n",
       "      <td>Narendra</td>\n",
       "      <td>Modi</td>\n",
       "      <td>nm@gmail.com</td>\n",
       "      <td>65</td>\n",
       "      <td>NaN</td>\n",
       "    </tr>\n",
       "    <tr>\n",
       "      <th>1</th>\n",
       "      <td>Rahul</td>\n",
       "      <td>Gandhi</td>\n",
       "      <td>rg@yahoo.com</td>\n",
       "      <td>50</td>\n",
       "      <td>NaN</td>\n",
       "    </tr>\n",
       "    <tr>\n",
       "      <th>2</th>\n",
       "      <td>Amit</td>\n",
       "      <td>Shah</td>\n",
       "      <td>as@hotmail.com</td>\n",
       "      <td>68</td>\n",
       "      <td>NaN</td>\n",
       "    </tr>\n",
       "    <tr>\n",
       "      <th>3</th>\n",
       "      <td>Nirav</td>\n",
       "      <td>Modi</td>\n",
       "      <td>niv@gmail.com</td>\n",
       "      <td>49</td>\n",
       "      <td>NaN</td>\n",
       "    </tr>\n",
       "    <tr>\n",
       "      <th>6</th>\n",
       "      <td>NA</td>\n",
       "      <td>missing</td>\n",
       "      <td>missing</td>\n",
       "      <td>missing</td>\n",
       "      <td>NaN</td>\n",
       "    </tr>\n",
       "  </tbody>\n",
       "</table>\n",
       "</div>"
      ],
      "text/plain": [
       "  First name Last name           Email      age  grandparent\n",
       "0   Narendra      Modi    nm@gmail.com       65          NaN\n",
       "1      Rahul    Gandhi    rg@yahoo.com       50          NaN\n",
       "2       Amit      Shah  as@hotmail.com       68          NaN\n",
       "3      Nirav      Modi   niv@gmail.com       49          NaN\n",
       "6         NA   missing         missing  missing          NaN"
      ]
     },
     "execution_count": 154,
     "metadata": {},
     "output_type": "execute_result"
    }
   ],
   "source": [
    "df.dropna(axis=0,how='any',subset=['Email'])"
   ]
  },
  {
   "cell_type": "code",
   "execution_count": 157,
   "id": "33a2e3db",
   "metadata": {},
   "outputs": [
    {
     "data": {
      "text/html": [
       "<div>\n",
       "<style scoped>\n",
       "    .dataframe tbody tr th:only-of-type {\n",
       "        vertical-align: middle;\n",
       "    }\n",
       "\n",
       "    .dataframe tbody tr th {\n",
       "        vertical-align: top;\n",
       "    }\n",
       "\n",
       "    .dataframe thead th {\n",
       "        text-align: right;\n",
       "    }\n",
       "</style>\n",
       "<table border=\"1\" class=\"dataframe\">\n",
       "  <thead>\n",
       "    <tr style=\"text-align: right;\">\n",
       "      <th></th>\n",
       "      <th>First name</th>\n",
       "      <th>Last name</th>\n",
       "      <th>Email</th>\n",
       "      <th>age</th>\n",
       "      <th>grandparent</th>\n",
       "    </tr>\n",
       "  </thead>\n",
       "  <tbody>\n",
       "    <tr>\n",
       "      <th>0</th>\n",
       "      <td>Narendra</td>\n",
       "      <td>Modi</td>\n",
       "      <td>nm@gmail.com</td>\n",
       "      <td>65</td>\n",
       "      <td>NaN</td>\n",
       "    </tr>\n",
       "    <tr>\n",
       "      <th>1</th>\n",
       "      <td>Rahul</td>\n",
       "      <td>Gandhi</td>\n",
       "      <td>rg@yahoo.com</td>\n",
       "      <td>50</td>\n",
       "      <td>NaN</td>\n",
       "    </tr>\n",
       "    <tr>\n",
       "      <th>2</th>\n",
       "      <td>Amit</td>\n",
       "      <td>Shah</td>\n",
       "      <td>as@hotmail.com</td>\n",
       "      <td>68</td>\n",
       "      <td>NaN</td>\n",
       "    </tr>\n",
       "    <tr>\n",
       "      <th>3</th>\n",
       "      <td>Nirav</td>\n",
       "      <td>Modi</td>\n",
       "      <td>niv@gmail.com</td>\n",
       "      <td>49</td>\n",
       "      <td>NaN</td>\n",
       "    </tr>\n",
       "    <tr>\n",
       "      <th>6</th>\n",
       "      <td>NA</td>\n",
       "      <td>missing</td>\n",
       "      <td>missing</td>\n",
       "      <td>missing</td>\n",
       "      <td>NaN</td>\n",
       "    </tr>\n",
       "  </tbody>\n",
       "</table>\n",
       "</div>"
      ],
      "text/plain": [
       "  First name Last name           Email      age  grandparent\n",
       "0   Narendra      Modi    nm@gmail.com       65          NaN\n",
       "1      Rahul    Gandhi    rg@yahoo.com       50          NaN\n",
       "2       Amit      Shah  as@hotmail.com       68          NaN\n",
       "3      Nirav      Modi   niv@gmail.com       49          NaN\n",
       "6         NA   missing         missing  missing          NaN"
      ]
     },
     "execution_count": 157,
     "metadata": {},
     "output_type": "execute_result"
    }
   ],
   "source": [
    "df.dropna(axis=0,how='all',subset=['First name','Last name'])#As long as we have first name and last name we dont drop the rows"
   ]
  },
  {
   "cell_type": "code",
   "execution_count": 159,
   "id": "ff436669",
   "metadata": {},
   "outputs": [],
   "source": [
    "df = pd.DataFrame(people)"
   ]
  },
  {
   "cell_type": "code",
   "execution_count": 160,
   "id": "7a7ff496",
   "metadata": {},
   "outputs": [
    {
     "data": {
      "text/html": [
       "<div>\n",
       "<style scoped>\n",
       "    .dataframe tbody tr th:only-of-type {\n",
       "        vertical-align: middle;\n",
       "    }\n",
       "\n",
       "    .dataframe tbody tr th {\n",
       "        vertical-align: top;\n",
       "    }\n",
       "\n",
       "    .dataframe thead th {\n",
       "        text-align: right;\n",
       "    }\n",
       "</style>\n",
       "<table border=\"1\" class=\"dataframe\">\n",
       "  <thead>\n",
       "    <tr style=\"text-align: right;\">\n",
       "      <th></th>\n",
       "      <th>First name</th>\n",
       "      <th>Last name</th>\n",
       "      <th>Email</th>\n",
       "      <th>age</th>\n",
       "      <th>grandparent</th>\n",
       "    </tr>\n",
       "  </thead>\n",
       "  <tbody>\n",
       "    <tr>\n",
       "      <th>0</th>\n",
       "      <td>Narendra</td>\n",
       "      <td>Modi</td>\n",
       "      <td>nm@gmail.com</td>\n",
       "      <td>65</td>\n",
       "      <td>NaN</td>\n",
       "    </tr>\n",
       "    <tr>\n",
       "      <th>1</th>\n",
       "      <td>Rahul</td>\n",
       "      <td>Gandhi</td>\n",
       "      <td>rg@yahoo.com</td>\n",
       "      <td>50</td>\n",
       "      <td>NaN</td>\n",
       "    </tr>\n",
       "    <tr>\n",
       "      <th>2</th>\n",
       "      <td>Amit</td>\n",
       "      <td>Shah</td>\n",
       "      <td>as@hotmail.com</td>\n",
       "      <td>68</td>\n",
       "      <td>NaN</td>\n",
       "    </tr>\n",
       "    <tr>\n",
       "      <th>3</th>\n",
       "      <td>Nirav</td>\n",
       "      <td>Modi</td>\n",
       "      <td>niv@gmail.com</td>\n",
       "      <td>49</td>\n",
       "      <td>NaN</td>\n",
       "    </tr>\n",
       "    <tr>\n",
       "      <th>4</th>\n",
       "      <td>NaN</td>\n",
       "      <td>NaN</td>\n",
       "      <td>None</td>\n",
       "      <td>None</td>\n",
       "      <td>NaN</td>\n",
       "    </tr>\n",
       "    <tr>\n",
       "      <th>5</th>\n",
       "      <td>None</td>\n",
       "      <td>NaN</td>\n",
       "      <td>NaN</td>\n",
       "      <td>NaN</td>\n",
       "      <td>NaN</td>\n",
       "    </tr>\n",
       "    <tr>\n",
       "      <th>6</th>\n",
       "      <td>NaN</td>\n",
       "      <td>NaN</td>\n",
       "      <td>NaN</td>\n",
       "      <td>NaN</td>\n",
       "      <td>NaN</td>\n",
       "    </tr>\n",
       "  </tbody>\n",
       "</table>\n",
       "</div>"
      ],
      "text/plain": [
       "  First name Last name           Email   age  grandparent\n",
       "0   Narendra      Modi    nm@gmail.com    65          NaN\n",
       "1      Rahul    Gandhi    rg@yahoo.com    50          NaN\n",
       "2       Amit      Shah  as@hotmail.com    68          NaN\n",
       "3      Nirav      Modi   niv@gmail.com    49          NaN\n",
       "4        NaN       NaN            None  None          NaN\n",
       "5       None       NaN             NaN   NaN          NaN\n",
       "6        NaN       NaN             NaN   NaN          NaN"
      ]
     },
     "execution_count": 160,
     "metadata": {},
     "output_type": "execute_result"
    }
   ],
   "source": [
    "df.replace(['NA','missing'],np.nan,inplace=True)\n",
    "df"
   ]
  },
  {
   "cell_type": "code",
   "execution_count": 161,
   "id": "84d71766",
   "metadata": {},
   "outputs": [
    {
     "data": {
      "text/html": [
       "<div>\n",
       "<style scoped>\n",
       "    .dataframe tbody tr th:only-of-type {\n",
       "        vertical-align: middle;\n",
       "    }\n",
       "\n",
       "    .dataframe tbody tr th {\n",
       "        vertical-align: top;\n",
       "    }\n",
       "\n",
       "    .dataframe thead th {\n",
       "        text-align: right;\n",
       "    }\n",
       "</style>\n",
       "<table border=\"1\" class=\"dataframe\">\n",
       "  <thead>\n",
       "    <tr style=\"text-align: right;\">\n",
       "      <th></th>\n",
       "      <th>First name</th>\n",
       "      <th>Last name</th>\n",
       "      <th>Email</th>\n",
       "      <th>age</th>\n",
       "      <th>grandparent</th>\n",
       "    </tr>\n",
       "  </thead>\n",
       "  <tbody>\n",
       "    <tr>\n",
       "      <th>0</th>\n",
       "      <td>False</td>\n",
       "      <td>False</td>\n",
       "      <td>False</td>\n",
       "      <td>False</td>\n",
       "      <td>True</td>\n",
       "    </tr>\n",
       "    <tr>\n",
       "      <th>1</th>\n",
       "      <td>False</td>\n",
       "      <td>False</td>\n",
       "      <td>False</td>\n",
       "      <td>False</td>\n",
       "      <td>True</td>\n",
       "    </tr>\n",
       "    <tr>\n",
       "      <th>2</th>\n",
       "      <td>False</td>\n",
       "      <td>False</td>\n",
       "      <td>False</td>\n",
       "      <td>False</td>\n",
       "      <td>True</td>\n",
       "    </tr>\n",
       "    <tr>\n",
       "      <th>3</th>\n",
       "      <td>False</td>\n",
       "      <td>False</td>\n",
       "      <td>False</td>\n",
       "      <td>False</td>\n",
       "      <td>True</td>\n",
       "    </tr>\n",
       "    <tr>\n",
       "      <th>4</th>\n",
       "      <td>True</td>\n",
       "      <td>True</td>\n",
       "      <td>True</td>\n",
       "      <td>True</td>\n",
       "      <td>True</td>\n",
       "    </tr>\n",
       "    <tr>\n",
       "      <th>5</th>\n",
       "      <td>True</td>\n",
       "      <td>True</td>\n",
       "      <td>True</td>\n",
       "      <td>True</td>\n",
       "      <td>True</td>\n",
       "    </tr>\n",
       "    <tr>\n",
       "      <th>6</th>\n",
       "      <td>True</td>\n",
       "      <td>True</td>\n",
       "      <td>True</td>\n",
       "      <td>True</td>\n",
       "      <td>True</td>\n",
       "    </tr>\n",
       "  </tbody>\n",
       "</table>\n",
       "</div>"
      ],
      "text/plain": [
       "   First name  Last name  Email    age  grandparent\n",
       "0       False      False  False  False         True\n",
       "1       False      False  False  False         True\n",
       "2       False      False  False  False         True\n",
       "3       False      False  False  False         True\n",
       "4        True       True   True   True         True\n",
       "5        True       True   True   True         True\n",
       "6        True       True   True   True         True"
      ]
     },
     "execution_count": 161,
     "metadata": {},
     "output_type": "execute_result"
    }
   ],
   "source": [
    "df.isna()"
   ]
  },
  {
   "cell_type": "code",
   "execution_count": 162,
   "id": "af3aba8a",
   "metadata": {},
   "outputs": [
    {
     "data": {
      "text/html": [
       "<div>\n",
       "<style scoped>\n",
       "    .dataframe tbody tr th:only-of-type {\n",
       "        vertical-align: middle;\n",
       "    }\n",
       "\n",
       "    .dataframe tbody tr th {\n",
       "        vertical-align: top;\n",
       "    }\n",
       "\n",
       "    .dataframe thead th {\n",
       "        text-align: right;\n",
       "    }\n",
       "</style>\n",
       "<table border=\"1\" class=\"dataframe\">\n",
       "  <thead>\n",
       "    <tr style=\"text-align: right;\">\n",
       "      <th></th>\n",
       "      <th>First name</th>\n",
       "      <th>Last name</th>\n",
       "      <th>Email</th>\n",
       "      <th>age</th>\n",
       "      <th>grandparent</th>\n",
       "    </tr>\n",
       "  </thead>\n",
       "  <tbody>\n",
       "    <tr>\n",
       "      <th>0</th>\n",
       "      <td>Narendra</td>\n",
       "      <td>Modi</td>\n",
       "      <td>nm@gmail.com</td>\n",
       "      <td>65</td>\n",
       "      <td>MISSING</td>\n",
       "    </tr>\n",
       "    <tr>\n",
       "      <th>1</th>\n",
       "      <td>Rahul</td>\n",
       "      <td>Gandhi</td>\n",
       "      <td>rg@yahoo.com</td>\n",
       "      <td>50</td>\n",
       "      <td>MISSING</td>\n",
       "    </tr>\n",
       "    <tr>\n",
       "      <th>2</th>\n",
       "      <td>Amit</td>\n",
       "      <td>Shah</td>\n",
       "      <td>as@hotmail.com</td>\n",
       "      <td>68</td>\n",
       "      <td>MISSING</td>\n",
       "    </tr>\n",
       "    <tr>\n",
       "      <th>3</th>\n",
       "      <td>Nirav</td>\n",
       "      <td>Modi</td>\n",
       "      <td>niv@gmail.com</td>\n",
       "      <td>49</td>\n",
       "      <td>MISSING</td>\n",
       "    </tr>\n",
       "    <tr>\n",
       "      <th>4</th>\n",
       "      <td>MISSING</td>\n",
       "      <td>MISSING</td>\n",
       "      <td>MISSING</td>\n",
       "      <td>MISSING</td>\n",
       "      <td>MISSING</td>\n",
       "    </tr>\n",
       "    <tr>\n",
       "      <th>5</th>\n",
       "      <td>MISSING</td>\n",
       "      <td>MISSING</td>\n",
       "      <td>MISSING</td>\n",
       "      <td>MISSING</td>\n",
       "      <td>MISSING</td>\n",
       "    </tr>\n",
       "    <tr>\n",
       "      <th>6</th>\n",
       "      <td>MISSING</td>\n",
       "      <td>MISSING</td>\n",
       "      <td>MISSING</td>\n",
       "      <td>MISSING</td>\n",
       "      <td>MISSING</td>\n",
       "    </tr>\n",
       "  </tbody>\n",
       "</table>\n",
       "</div>"
      ],
      "text/plain": [
       "  First name Last name           Email      age grandparent\n",
       "0   Narendra      Modi    nm@gmail.com       65     MISSING\n",
       "1      Rahul    Gandhi    rg@yahoo.com       50     MISSING\n",
       "2       Amit      Shah  as@hotmail.com       68     MISSING\n",
       "3      Nirav      Modi   niv@gmail.com       49     MISSING\n",
       "4    MISSING   MISSING         MISSING  MISSING     MISSING\n",
       "5    MISSING   MISSING         MISSING  MISSING     MISSING\n",
       "6    MISSING   MISSING         MISSING  MISSING     MISSING"
      ]
     },
     "execution_count": 162,
     "metadata": {},
     "output_type": "execute_result"
    }
   ],
   "source": [
    "df.fillna('MISSING')"
   ]
  },
  {
   "cell_type": "code",
   "execution_count": null,
   "id": "54481871",
   "metadata": {},
   "outputs": [],
   "source": []
  }
 ],
 "metadata": {
  "kernelspec": {
   "display_name": "Python 3",
   "language": "python",
   "name": "python3"
  },
  "language_info": {
   "codemirror_mode": {
    "name": "ipython",
    "version": 3
   },
   "file_extension": ".py",
   "mimetype": "text/x-python",
   "name": "python",
   "nbconvert_exporter": "python",
   "pygments_lexer": "ipython3",
   "version": "3.8.8"
  }
 },
 "nbformat": 4,
 "nbformat_minor": 5
}
