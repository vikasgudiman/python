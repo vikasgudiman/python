{
 "cells": [
  {
   "cell_type": "code",
   "execution_count": 1,
   "id": "19f81fbb",
   "metadata": {},
   "outputs": [],
   "source": [
    "class Employee:\n",
    "    number_of_emps=0\n",
    "    raise_percent=40\n",
    "    def __init__(self,first,last,pay):\n",
    "        self.first=first\n",
    "        self.last=last\n",
    "        self.pay=pay\n",
    "        self.email=first+last+\"@gmail.com\"\n",
    "        Employee.number_of_emps+=1\n",
    "    def full_name(self):\n",
    "        self.fullname=self.first+self.last\n",
    "        return self.fullname\n",
    "    def apply_raise(self):\n",
    "        self.pay= int(self.pay*(self.raise_percent+100)/100)"
   ]
  },
  {
   "cell_type": "code",
   "execution_count": 2,
   "id": "9f654536",
   "metadata": {},
   "outputs": [],
   "source": [
    "emp1=Employee(\"Mohan\",\"Das\",12345)"
   ]
  },
  {
   "cell_type": "code",
   "execution_count": 3,
   "id": "4de6bb90",
   "metadata": {},
   "outputs": [
    {
     "name": "stdout",
     "output_type": "stream",
     "text": [
      "Mohan\n",
      "Das\n",
      "12345\n",
      "MohanDas@gmail.com\n",
      "MohanDas\n"
     ]
    }
   ],
   "source": [
    "print(emp1.first)\n",
    "print(emp1.last)\n",
    "print(emp1.pay)\n",
    "print(emp1.email)\n",
    "print(emp1.full_name())"
   ]
  },
  {
   "cell_type": "code",
   "execution_count": 4,
   "id": "af153e80",
   "metadata": {},
   "outputs": [
    {
     "name": "stdout",
     "output_type": "stream",
     "text": [
      "Karan\n",
      "Das\n",
      "12345\n",
      "MohanDas@gmail.com\n",
      "KaranDas\n"
     ]
    }
   ],
   "source": [
    "emp1.first=\"Karan\"\n",
    "print(emp1.first)\n",
    "print(emp1.last)\n",
    "print(emp1.pay)\n",
    "print(emp1.email)#Email didnot change as the instance has been created already.\n",
    "print(emp1.full_name())#Full name changed as it always calculates t"
   ]
  },
  {
   "cell_type": "code",
   "execution_count": 6,
   "id": "dd763a10",
   "metadata": {},
   "outputs": [],
   "source": [
    "#email is accessed as a variable but we can see that fullname is a function"
   ]
  },
  {
   "cell_type": "code",
   "execution_count": 5,
   "id": "fe224adf",
   "metadata": {},
   "outputs": [],
   "source": [
    "#getter\n",
    "class Employee:\n",
    "    number_of_emps=0\n",
    "    raise_percent=40\n",
    "    def __init__(self,first,last,pay):\n",
    "        self.first=first\n",
    "        self.last=last\n",
    "        self.pay=pay\n",
    "        self.email=first+last+\"@gmail.com\"\n",
    "        Employee.number_of_emps+=1\n",
    "        \n",
    "    @property\n",
    "    def full_name(self):\n",
    "        self.fullname=self.first+self.last\n",
    "        return self.fullname\n",
    "\n",
    "    def apply_raise(self):\n",
    "        self.pay= int(self.pay*(self.raise_percent+100)/100)"
   ]
  },
  {
   "cell_type": "code",
   "execution_count": 6,
   "id": "b828fbb4",
   "metadata": {},
   "outputs": [],
   "source": [
    "emp1=Employee(\"Mohan\",\"Das\",12345)"
   ]
  },
  {
   "cell_type": "code",
   "execution_count": 9,
   "id": "b5d15e89",
   "metadata": {},
   "outputs": [
    {
     "name": "stdout",
     "output_type": "stream",
     "text": [
      "Mohan\n",
      "Das\n",
      "12345\n",
      "MohanDas@gmail.com\n",
      "MohanDas\n"
     ]
    }
   ],
   "source": [
    "print(emp1.first)\n",
    "print(emp1.last)\n",
    "print(emp1.pay)\n",
    "print(emp1.email)\n",
    "print(emp1.full_name)"
   ]
  },
  {
   "cell_type": "code",
   "execution_count": 10,
   "id": "60c621d3",
   "metadata": {},
   "outputs": [],
   "source": [
    "#setter\n",
    "class Employee:\n",
    "    number_of_emps=0\n",
    "    raise_percent=40\n",
    "    def __init__(self,first,last,pay):\n",
    "        self.first=first\n",
    "        self.last=last\n",
    "        self.pay=pay\n",
    "        self.email=first+last+\"@gmail.com\"\n",
    "        Employee.number_of_emps+=1\n",
    "        \n",
    "    @property\n",
    "    def full_name(self):\n",
    "        self.fullname=self.first+self.last\n",
    "        return self.fullname\n",
    "\n",
    "    def apply_raise(self):\n",
    "        self.pay= int(self.pay*(self.raise_percent+100)/100)\n",
    "        \n",
    "    #setter\n",
    "    @full_name.setter\n",
    "    def full_name(self,name):\n",
    "        first , last = name.split(' ')\n",
    "        self.first=first\n",
    "        self.last=last"
   ]
  },
  {
   "cell_type": "code",
   "execution_count": 11,
   "id": "b88bd82e",
   "metadata": {},
   "outputs": [
    {
     "name": "stdout",
     "output_type": "stream",
     "text": [
      "Mohan\n",
      "Das\n",
      "12345\n",
      "MohanDas@gmail.com\n",
      "MohanDas\n"
     ]
    }
   ],
   "source": [
    "emp1=Employee(\"Mohan\",\"Das\",12345)\n",
    "print(emp1.first)\n",
    "print(emp1.last)\n",
    "print(emp1.pay)\n",
    "print(emp1.email)\n",
    "print(emp1.full_name)"
   ]
  },
  {
   "cell_type": "code",
   "execution_count": 12,
   "id": "d829e87e",
   "metadata": {},
   "outputs": [
    {
     "name": "stdout",
     "output_type": "stream",
     "text": [
      "Karan\n",
      "Jain\n",
      "12345\n",
      "MohanDas@gmail.com\n",
      "KaranJain\n"
     ]
    }
   ],
   "source": [
    "emp1.full_name=\"Karan Jain\"\n",
    "print(emp1.first)\n",
    "print(emp1.last)\n",
    "print(emp1.pay)\n",
    "print(emp1.email)\n",
    "print(emp1.full_name)"
   ]
  },
  {
   "cell_type": "code",
   "execution_count": 13,
   "id": "a42785a8",
   "metadata": {},
   "outputs": [],
   "source": [
    "#deleter\n",
    "class Employee:\n",
    "    number_of_emps=0\n",
    "    raise_percent=40\n",
    "    def __init__(self,first,last,pay):\n",
    "        self.first=first\n",
    "        self.last=last\n",
    "        self.pay=pay\n",
    "        self.email=first+last+\"@gmail.com\"\n",
    "        Employee.number_of_emps+=1\n",
    "        \n",
    "    @property\n",
    "    def full_name(self):\n",
    "        self.fullname=self.first+self.last\n",
    "        return self.fullname\n",
    "\n",
    "    def apply_raise(self):\n",
    "        self.pay= int(self.pay*(self.raise_percent+100)/100)\n",
    "        \n",
    "    #setter\n",
    "    @full_name.setter\n",
    "    def full_name(self,name):\n",
    "        first , last = name.split(' ')\n",
    "        self.first=first\n",
    "        self.last=last\n",
    "     \n",
    "    #deleter\n",
    "    @full_name.deleter\n",
    "    def full_name(self):\n",
    "        print(\"To delete name\")\n",
    "        self.first=None\n",
    "        self.last=None"
   ]
  },
  {
   "cell_type": "code",
   "execution_count": 14,
   "id": "4a474d7b",
   "metadata": {},
   "outputs": [
    {
     "name": "stdout",
     "output_type": "stream",
     "text": [
      "Mohan\n",
      "Das\n",
      "12345\n",
      "MohanDas@gmail.com\n",
      "MohanDas\n"
     ]
    }
   ],
   "source": [
    "emp1=Employee(\"Mohan\",\"Das\",12345)\n",
    "print(emp1.first)\n",
    "print(emp1.last)\n",
    "print(emp1.pay)\n",
    "print(emp1.email)\n",
    "print(emp1.full_name)"
   ]
  },
  {
   "cell_type": "code",
   "execution_count": 15,
   "id": "acbe193f",
   "metadata": {},
   "outputs": [
    {
     "name": "stdout",
     "output_type": "stream",
     "text": [
      "To delete name\n"
     ]
    }
   ],
   "source": [
    "del emp1.full_name"
   ]
  },
  {
   "cell_type": "code",
   "execution_count": 18,
   "id": "c7aa410d",
   "metadata": {},
   "outputs": [
    {
     "name": "stdout",
     "output_type": "stream",
     "text": [
      "None\n",
      "None\n",
      "12345\n",
      "MohanDas@gmail.com\n"
     ]
    }
   ],
   "source": [
    "print(emp1.first)\n",
    "print(emp1.last)\n",
    "print(emp1.pay)\n",
    "print(emp1.email)\n",
    "#print(emp1.full_name)"
   ]
  },
  {
   "cell_type": "code",
   "execution_count": null,
   "id": "27632fd2",
   "metadata": {},
   "outputs": [],
   "source": []
  }
 ],
 "metadata": {
  "kernelspec": {
   "display_name": "Python 3",
   "language": "python",
   "name": "python3"
  },
  "language_info": {
   "codemirror_mode": {
    "name": "ipython",
    "version": 3
   },
   "file_extension": ".py",
   "mimetype": "text/x-python",
   "name": "python",
   "nbconvert_exporter": "python",
   "pygments_lexer": "ipython3",
   "version": "3.8.8"
  }
 },
 "nbformat": 4,
 "nbformat_minor": 5
}
