{
 "cells": [
  {
   "cell_type": "markdown",
   "id": "05df35ef",
   "metadata": {},
   "source": [
    "# Numpy"
   ]
  },
  {
   "cell_type": "code",
   "execution_count": 1,
   "id": "e830f2e6",
   "metadata": {},
   "outputs": [],
   "source": [
    "#Numpy stands for numerical python. Fundemental package for scientific programming in python\n",
    "#Deals with solving scientific problems using python(Mostly Mathematics)"
   ]
  },
  {
   "cell_type": "code",
   "execution_count": 2,
   "id": "3fe9a4be",
   "metadata": {},
   "outputs": [],
   "source": [
    "#Why Numpy?\n",
    "#Basic operations in scientific operations are arrays, matrices, Integraion, Differential equaltion solving, statistics and many other solving"
   ]
  },
  {
   "cell_type": "code",
   "execution_count": 3,
   "id": "ea9739a8",
   "metadata": {},
   "outputs": [],
   "source": [
    "#Installation:- pip install numpy"
   ]
  },
  {
   "cell_type": "code",
   "execution_count": 4,
   "id": "616b2be6",
   "metadata": {},
   "outputs": [],
   "source": [
    "#Arrays are similiar to lists but let's discuss on why we use numpy arrays"
   ]
  },
  {
   "cell_type": "code",
   "execution_count": 5,
   "id": "0810aa3b",
   "metadata": {},
   "outputs": [],
   "source": [
    "#Array is also a data structure like lists and dictionaries"
   ]
  },
  {
   "cell_type": "code",
   "execution_count": 6,
   "id": "86e34cf9",
   "metadata": {},
   "outputs": [],
   "source": [
    "#Arrays are used as containers for same datatypes\n",
    "#Array [1,2,3,4]\n",
    "#Array[\"a\",\"b\",\"c\",\"d\"]\n",
    "#XXXXX Array [1,2,\"a\"] XXXXX This is wrong. It will initialize it but not suitable for scientific calculations"
   ]
  },
  {
   "cell_type": "code",
   "execution_count": 7,
   "id": "c08df260",
   "metadata": {},
   "outputs": [],
   "source": [
    "#Importing numpy\n",
    "import numpy as np"
   ]
  },
  {
   "cell_type": "code",
   "execution_count": 8,
   "id": "3b2de82a",
   "metadata": {},
   "outputs": [],
   "source": [
    "a= [2,4,6,8,10]"
   ]
  },
  {
   "cell_type": "code",
   "execution_count": 9,
   "id": "8b8fe15b",
   "metadata": {},
   "outputs": [
    {
     "name": "stdout",
     "output_type": "stream",
     "text": [
      "[ 2  4  6  8 10]\n"
     ]
    }
   ],
   "source": [
    "b=np.array(a)\n",
    "print(b)"
   ]
  },
  {
   "cell_type": "code",
   "execution_count": 10,
   "id": "cf48734a",
   "metadata": {},
   "outputs": [
    {
     "name": "stdout",
     "output_type": "stream",
     "text": [
      "[1. 2. 3. 4. 5.]\n"
     ]
    }
   ],
   "source": [
    "print(b/2)"
   ]
  },
  {
   "cell_type": "code",
   "execution_count": 11,
   "id": "950b782d",
   "metadata": {},
   "outputs": [],
   "source": [
    "#print(a/2)#We cannot perform these operations with lists"
   ]
  },
  {
   "cell_type": "code",
   "execution_count": 12,
   "id": "b213cd5e",
   "metadata": {},
   "outputs": [
    {
     "name": "stdout",
     "output_type": "stream",
     "text": [
      "[2, 4, 6, 8, 10, 2, 4, 6, 8, 10]\n"
     ]
    }
   ],
   "source": [
    "print(a*2)#It will concatinate the lists"
   ]
  },
  {
   "cell_type": "code",
   "execution_count": 13,
   "id": "ab89c52f",
   "metadata": {},
   "outputs": [
    {
     "name": "stdout",
     "output_type": "stream",
     "text": [
      "[ 4  8 12 16 20]\n"
     ]
    }
   ],
   "source": [
    "print(b*2)#It will perform operation for each element of the array"
   ]
  },
  {
   "cell_type": "code",
   "execution_count": 14,
   "id": "263e8f8a",
   "metadata": {},
   "outputs": [
    {
     "name": "stdout",
     "output_type": "stream",
     "text": [
      "[2, 4, 6, 8, 10, 2, 4, 6, 8, 10]\n"
     ]
    }
   ],
   "source": [
    "print(a+a)"
   ]
  },
  {
   "cell_type": "code",
   "execution_count": 15,
   "id": "235f05e3",
   "metadata": {},
   "outputs": [
    {
     "name": "stdout",
     "output_type": "stream",
     "text": [
      "[ 4  8 12 16 20]\n"
     ]
    }
   ],
   "source": [
    "print(b+b)"
   ]
  },
  {
   "cell_type": "code",
   "execution_count": 16,
   "id": "f55c91c4",
   "metadata": {},
   "outputs": [],
   "source": [
    "#print(a-a)#Doesnt work"
   ]
  },
  {
   "cell_type": "code",
   "execution_count": 17,
   "id": "392637fd",
   "metadata": {},
   "outputs": [
    {
     "name": "stdout",
     "output_type": "stream",
     "text": [
      "[0 0 0 0 0]\n"
     ]
    }
   ],
   "source": [
    "print(b-b)"
   ]
  },
  {
   "cell_type": "code",
   "execution_count": 18,
   "id": "df77fb22",
   "metadata": {},
   "outputs": [],
   "source": [
    "#Arrays take less memory for storage as compared to lists. Time taken for operations is faster for arrays than lists"
   ]
  },
  {
   "cell_type": "code",
   "execution_count": 19,
   "id": "a27c2eff",
   "metadata": {},
   "outputs": [],
   "source": [
    "#By definition array means collection of elements of same data type"
   ]
  },
  {
   "cell_type": "code",
   "execution_count": 20,
   "id": "10b54007",
   "metadata": {},
   "outputs": [],
   "source": [
    "import array#we can use this module to create arrays but numpy has many functions along with arrays so we use numpy"
   ]
  },
  {
   "cell_type": "code",
   "execution_count": 21,
   "id": "8b628f98",
   "metadata": {},
   "outputs": [],
   "source": [
    "#Most common functions which we use to create arrays in numpy are:-\n",
    "#array()\n",
    "#arange()\n",
    "#zeros()\n",
    "#ones()\n",
    "#linspace()\n",
    "#eye()\n",
    "#random()"
   ]
  },
  {
   "cell_type": "code",
   "execution_count": 22,
   "id": "326ae469",
   "metadata": {},
   "outputs": [],
   "source": [
    "#We can create arrays from lists and tuples\n",
    "#Array"
   ]
  },
  {
   "cell_type": "code",
   "execution_count": 23,
   "id": "0145a5ba",
   "metadata": {},
   "outputs": [
    {
     "data": {
      "text/plain": [
       "array([1, 2, 3])"
      ]
     },
     "execution_count": 23,
     "metadata": {},
     "output_type": "execute_result"
    }
   ],
   "source": [
    "np.array([1,2,3])#This will create a normal integer array"
   ]
  },
  {
   "cell_type": "code",
   "execution_count": 24,
   "id": "50da216f",
   "metadata": {},
   "outputs": [
    {
     "data": {
      "text/plain": [
       "array([1., 2., 4.])"
      ]
     },
     "execution_count": 24,
     "metadata": {},
     "output_type": "execute_result"
    }
   ],
   "source": [
    "np.array([1,2,4.0])#Array will automatically change all the values to float if one among them is float. This is called upcasting"
   ]
  },
  {
   "cell_type": "code",
   "execution_count": 25,
   "id": "4ce12f76",
   "metadata": {},
   "outputs": [],
   "source": [
    "c=np.array([[1,2,3],[4,5,6]])"
   ]
  },
  {
   "cell_type": "code",
   "execution_count": 26,
   "id": "b4c4e313",
   "metadata": {},
   "outputs": [
    {
     "data": {
      "text/plain": [
       "array([[1, 2, 3],\n",
       "       [4, 5, 6]])"
      ]
     },
     "execution_count": 26,
     "metadata": {},
     "output_type": "execute_result"
    }
   ],
   "source": [
    "c"
   ]
  },
  {
   "cell_type": "code",
   "execution_count": 27,
   "id": "bab90bdb",
   "metadata": {},
   "outputs": [],
   "source": [
    "c=np.array([1,2,3],ndmin=2)"
   ]
  },
  {
   "cell_type": "code",
   "execution_count": 28,
   "id": "77689bfb",
   "metadata": {},
   "outputs": [
    {
     "data": {
      "text/plain": [
       "array([[1, 2, 3]])"
      ]
     },
     "execution_count": 28,
     "metadata": {},
     "output_type": "execute_result"
    }
   ],
   "source": [
    "c"
   ]
  },
  {
   "cell_type": "code",
   "execution_count": 29,
   "id": "89692539",
   "metadata": {},
   "outputs": [
    {
     "data": {
      "text/plain": [
       "array([1.+0.j, 2.+0.j, 3.+0.j])"
      ]
     },
     "execution_count": 29,
     "metadata": {},
     "output_type": "execute_result"
    }
   ],
   "source": [
    "c=np.array([1,2,3],dtype=complex)\n",
    "c"
   ]
  },
  {
   "cell_type": "code",
   "execution_count": 30,
   "id": "fa24d830",
   "metadata": {},
   "outputs": [
    {
     "data": {
      "text/plain": [
       "[2, 4, 6, 8, 10]"
      ]
     },
     "execution_count": 30,
     "metadata": {},
     "output_type": "execute_result"
    }
   ],
   "source": [
    "a"
   ]
  },
  {
   "cell_type": "markdown",
   "id": "ad775191",
   "metadata": {},
   "source": [
    "## Arange"
   ]
  },
  {
   "cell_type": "code",
   "execution_count": 31,
   "id": "d996386a",
   "metadata": {},
   "outputs": [],
   "source": [
    "#Creates array of evenly spaced values"
   ]
  },
  {
   "cell_type": "code",
   "execution_count": 32,
   "id": "2045347d",
   "metadata": {},
   "outputs": [
    {
     "data": {
      "text/plain": [
       "array([1, 2, 3, 4, 5, 6, 7, 8, 9])"
      ]
     },
     "execution_count": 32,
     "metadata": {},
     "output_type": "execute_result"
    }
   ],
   "source": [
    "np.arange(1,10)"
   ]
  },
  {
   "cell_type": "code",
   "execution_count": 33,
   "id": "4f80e1a7",
   "metadata": {},
   "outputs": [
    {
     "data": {
      "text/plain": [
       "range(1, 10)"
      ]
     },
     "execution_count": 33,
     "metadata": {},
     "output_type": "execute_result"
    }
   ],
   "source": [
    "range(1,10)"
   ]
  },
  {
   "cell_type": "code",
   "execution_count": 34,
   "id": "e8d35c8c",
   "metadata": {},
   "outputs": [],
   "source": [
    "#range(1.0,10.0) doesnt work. will not create a range of float values"
   ]
  },
  {
   "cell_type": "code",
   "execution_count": 35,
   "id": "38464d0e",
   "metadata": {},
   "outputs": [
    {
     "data": {
      "text/plain": [
       "array([1., 2., 3., 4., 5., 6., 7., 8., 9.])"
      ]
     },
     "execution_count": 35,
     "metadata": {},
     "output_type": "execute_result"
    }
   ],
   "source": [
    "np.arange(1.0,10.0)"
   ]
  },
  {
   "cell_type": "code",
   "execution_count": 36,
   "id": "e5b421ae",
   "metadata": {},
   "outputs": [
    {
     "data": {
      "text/plain": [
       "array([1., 2., 3., 4.])"
      ]
     },
     "execution_count": 36,
     "metadata": {},
     "output_type": "execute_result"
    }
   ],
   "source": [
    "np.arange(1.0,4.5)"
   ]
  },
  {
   "cell_type": "code",
   "execution_count": 37,
   "id": "030114db",
   "metadata": {},
   "outputs": [
    {
     "data": {
      "text/plain": [
       "array([1. , 1.5, 2. , 2.5, 3. , 3.5, 4. , 4.5, 5. , 5.5, 6. , 6.5, 7. ,\n",
       "       7.5, 8. , 8.5, 9. , 9.5])"
      ]
     },
     "execution_count": 37,
     "metadata": {},
     "output_type": "execute_result"
    }
   ],
   "source": [
    "np.arange(1,10,0.5)"
   ]
  },
  {
   "cell_type": "code",
   "execution_count": 38,
   "id": "91b76f2c",
   "metadata": {},
   "outputs": [],
   "source": [
    "#range(1,10,0.5)#Doesnt work"
   ]
  },
  {
   "cell_type": "code",
   "execution_count": 39,
   "id": "8a22aeab",
   "metadata": {},
   "outputs": [
    {
     "name": "stdout",
     "output_type": "stream",
     "text": [
      "[0 1 2 3 4 5 6 7 8 9]\n",
      "[0. 1. 2. 3. 4. 5. 6. 7. 8. 9.]\n",
      "[0.+0.j 1.+0.j 2.+0.j 3.+0.j 4.+0.j 5.+0.j 6.+0.j 7.+0.j 8.+0.j 9.+0.j]\n"
     ]
    }
   ],
   "source": [
    "print(np.arange(10,dtype=int))\n",
    "print(np.arange(10,dtype=float))\n",
    "print(np.arange(10,dtype=complex))"
   ]
  },
  {
   "cell_type": "code",
   "execution_count": 40,
   "id": "87d0dfb4",
   "metadata": {},
   "outputs": [
    {
     "data": {
      "text/plain": [
       "array([1. +0.j, 1.1+0.j, 1.2+0.j, 1.3+0.j, 1.4+0.j, 1.5+0.j, 1.6+0.j,\n",
       "       1.7+0.j, 1.8+0.j, 1.9+0.j])"
      ]
     },
     "execution_count": 40,
     "metadata": {},
     "output_type": "execute_result"
    }
   ],
   "source": [
    "np.arange(1,2,0.1,dtype=complex)"
   ]
  },
  {
   "cell_type": "markdown",
   "id": "b13d849b",
   "metadata": {},
   "source": [
    "## Zeros"
   ]
  },
  {
   "cell_type": "code",
   "execution_count": 41,
   "id": "df76d3ae",
   "metadata": {},
   "outputs": [
    {
     "data": {
      "text/plain": [
       "array([0., 0., 0., 0., 0., 0., 0., 0., 0., 0.])"
      ]
     },
     "execution_count": 41,
     "metadata": {},
     "output_type": "execute_result"
    }
   ],
   "source": [
    "np.zeros(10)#Default is float form"
   ]
  },
  {
   "cell_type": "code",
   "execution_count": 42,
   "id": "1750e70d",
   "metadata": {},
   "outputs": [
    {
     "data": {
      "text/plain": [
       "array([0, 0, 0, 0, 0, 0, 0, 0, 0, 0])"
      ]
     },
     "execution_count": 42,
     "metadata": {},
     "output_type": "execute_result"
    }
   ],
   "source": [
    "np.zeros(10,dtype=int)"
   ]
  },
  {
   "cell_type": "code",
   "execution_count": 43,
   "id": "1508e315",
   "metadata": {},
   "outputs": [
    {
     "data": {
      "text/plain": [
       "array([[0, 0, 0],\n",
       "       [0, 0, 0]])"
      ]
     },
     "execution_count": 43,
     "metadata": {},
     "output_type": "execute_result"
    }
   ],
   "source": [
    "np.zeros((2,3),dtype=int)"
   ]
  },
  {
   "cell_type": "markdown",
   "id": "697a2f0d",
   "metadata": {},
   "source": [
    "## Ones"
   ]
  },
  {
   "cell_type": "code",
   "execution_count": 44,
   "id": "e81ea5c6",
   "metadata": {},
   "outputs": [
    {
     "data": {
      "text/plain": [
       "array([1., 1., 1., 1., 1., 1., 1., 1., 1., 1.])"
      ]
     },
     "execution_count": 44,
     "metadata": {},
     "output_type": "execute_result"
    }
   ],
   "source": [
    "np.ones(10)"
   ]
  },
  {
   "cell_type": "code",
   "execution_count": 45,
   "id": "231fbc02",
   "metadata": {},
   "outputs": [
    {
     "data": {
      "text/plain": [
       "array([1, 1, 1, 1, 1, 1, 1, 1, 1, 1])"
      ]
     },
     "execution_count": 45,
     "metadata": {},
     "output_type": "execute_result"
    }
   ],
   "source": [
    "np.ones(10,dtype=int)"
   ]
  },
  {
   "cell_type": "code",
   "execution_count": 46,
   "id": "8172abbc",
   "metadata": {},
   "outputs": [
    {
     "data": {
      "text/plain": [
       "array([[1., 1., 1., 1., 1.],\n",
       "       [1., 1., 1., 1., 1.],\n",
       "       [1., 1., 1., 1., 1.],\n",
       "       [1., 1., 1., 1., 1.]])"
      ]
     },
     "execution_count": 46,
     "metadata": {},
     "output_type": "execute_result"
    }
   ],
   "source": [
    "np.ones((4,5))"
   ]
  },
  {
   "cell_type": "code",
   "execution_count": 47,
   "id": "cb7216de",
   "metadata": {},
   "outputs": [
    {
     "data": {
      "text/plain": [
       "array([[1, 1, 1, 1, 1],\n",
       "       [1, 1, 1, 1, 1],\n",
       "       [1, 1, 1, 1, 1],\n",
       "       [1, 1, 1, 1, 1]])"
      ]
     },
     "execution_count": 47,
     "metadata": {},
     "output_type": "execute_result"
    }
   ],
   "source": [
    "np.ones((4,5),dtype=int)"
   ]
  },
  {
   "cell_type": "markdown",
   "id": "120d156e",
   "metadata": {},
   "source": [
    "## Linspace"
   ]
  },
  {
   "cell_type": "code",
   "execution_count": 48,
   "id": "d8e8fe6d",
   "metadata": {},
   "outputs": [],
   "source": [
    "#It is similar to arange function"
   ]
  },
  {
   "cell_type": "code",
   "execution_count": 49,
   "id": "5dc6ef8e",
   "metadata": {},
   "outputs": [
    {
     "data": {
      "text/plain": [
       "array([ 1.  ,  3.25,  5.5 ,  7.75, 10.  ])"
      ]
     },
     "execution_count": 49,
     "metadata": {},
     "output_type": "execute_result"
    }
   ],
   "source": [
    "np.linspace(1,10,5)"
   ]
  },
  {
   "cell_type": "code",
   "execution_count": 50,
   "id": "26025bef",
   "metadata": {},
   "outputs": [
    {
     "data": {
      "text/plain": [
       "array([ 1,  3,  5,  7, 10])"
      ]
     },
     "execution_count": 50,
     "metadata": {},
     "output_type": "execute_result"
    }
   ],
   "source": [
    "np.linspace(1,10,5,dtype=int)"
   ]
  },
  {
   "cell_type": "code",
   "execution_count": 51,
   "id": "70523e46",
   "metadata": {},
   "outputs": [
    {
     "data": {
      "text/plain": [
       "array([1. , 2.8, 4.6, 6.4, 8.2])"
      ]
     },
     "execution_count": 51,
     "metadata": {},
     "output_type": "execute_result"
    }
   ],
   "source": [
    "np.linspace(1,10,5,endpoint=False)#Last value is not included"
   ]
  },
  {
   "cell_type": "code",
   "execution_count": 52,
   "id": "28a11866",
   "metadata": {},
   "outputs": [
    {
     "data": {
      "text/plain": [
       "(array([ 1.  ,  3.25,  5.5 ,  7.75, 10.  ]), 2.25)"
      ]
     },
     "execution_count": 52,
     "metadata": {},
     "output_type": "execute_result"
    }
   ],
   "source": [
    "np.linspace(1,10,5,retstep=True)#Step value is also returned"
   ]
  },
  {
   "cell_type": "markdown",
   "id": "b2a81d42",
   "metadata": {},
   "source": [
    "## eye"
   ]
  },
  {
   "cell_type": "code",
   "execution_count": 62,
   "id": "b3ae34a1",
   "metadata": {},
   "outputs": [
    {
     "data": {
      "text/plain": [
       "array([[1., 0., 0., 0., 0.],\n",
       "       [0., 1., 0., 0., 0.],\n",
       "       [0., 0., 1., 0., 0.],\n",
       "       [0., 0., 0., 1., 0.],\n",
       "       [0., 0., 0., 0., 1.]])"
      ]
     },
     "execution_count": 62,
     "metadata": {},
     "output_type": "execute_result"
    }
   ],
   "source": [
    "np.eye(5)"
   ]
  },
  {
   "cell_type": "code",
   "execution_count": 69,
   "id": "77654419",
   "metadata": {},
   "outputs": [
    {
     "data": {
      "text/plain": [
       "array([[1., 0., 0.],\n",
       "       [0., 1., 0.],\n",
       "       [0., 0., 1.],\n",
       "       [0., 0., 0.],\n",
       "       [0., 0., 0.]])"
      ]
     },
     "execution_count": 69,
     "metadata": {},
     "output_type": "execute_result"
    }
   ],
   "source": [
    "np.eye(5,3)"
   ]
  },
  {
   "cell_type": "code",
   "execution_count": 72,
   "id": "0c794297",
   "metadata": {},
   "outputs": [
    {
     "data": {
      "text/plain": [
       "array([[0., 0., 0., 0.],\n",
       "       [1., 0., 0., 0.],\n",
       "       [0., 1., 0., 0.],\n",
       "       [0., 0., 1., 0.]])"
      ]
     },
     "execution_count": 72,
     "metadata": {},
     "output_type": "execute_result"
    }
   ],
   "source": [
    "np.eye(4,4,-1)#np.eye(4,k=-1)"
   ]
  },
  {
   "cell_type": "code",
   "execution_count": 73,
   "id": "9ba1c720",
   "metadata": {},
   "outputs": [
    {
     "data": {
      "text/plain": [
       "array([[0., 0., 1., 0.],\n",
       "       [0., 0., 0., 1.],\n",
       "       [0., 0., 0., 0.],\n",
       "       [0., 0., 0., 0.]])"
      ]
     },
     "execution_count": 73,
     "metadata": {},
     "output_type": "execute_result"
    }
   ],
   "source": [
    "np.eye(4,4,2)#np.eye(4,k=2)"
   ]
  },
  {
   "cell_type": "code",
   "execution_count": 74,
   "id": "706fcf04",
   "metadata": {},
   "outputs": [
    {
     "data": {
      "text/plain": [
       "array([[0, 0, 1, 0],\n",
       "       [0, 0, 0, 1],\n",
       "       [0, 0, 0, 0],\n",
       "       [0, 0, 0, 0]])"
      ]
     },
     "execution_count": 74,
     "metadata": {},
     "output_type": "execute_result"
    }
   ],
   "source": [
    "#To get them as int\n",
    "np.eye(4,4,2,dtype=int)"
   ]
  },
  {
   "cell_type": "markdown",
   "id": "d9aa7d53",
   "metadata": {},
   "source": [
    "## identity"
   ]
  },
  {
   "cell_type": "code",
   "execution_count": 76,
   "id": "d794e2d4",
   "metadata": {},
   "outputs": [
    {
     "data": {
      "text/plain": [
       "array([[1., 0., 0., 0.],\n",
       "       [0., 1., 0., 0.],\n",
       "       [0., 0., 1., 0.],\n",
       "       [0., 0., 0., 1.]])"
      ]
     },
     "execution_count": 76,
     "metadata": {},
     "output_type": "execute_result"
    }
   ],
   "source": [
    "np.identity(4)#Exactly same as eye"
   ]
  },
  {
   "cell_type": "code",
   "execution_count": 84,
   "id": "e3f45d6a",
   "metadata": {},
   "outputs": [
    {
     "name": "stdout",
     "output_type": "stream",
     "text": [
      "[[0. 0. 0. 1.]\n",
      " [0. 0. 1. 0.]\n",
      " [0. 1. 0. 0.]\n",
      " [1. 0. 0. 0.]]\n"
     ]
    }
   ],
   "source": [
    "print(np.array(list(reversed(np.identity(4)))))#This is a custom array"
   ]
  },
  {
   "cell_type": "markdown",
   "id": "9e684782",
   "metadata": {},
   "source": []
  },
  {
   "cell_type": "code",
   "execution_count": null,
   "id": "29bf14e3",
   "metadata": {},
   "outputs": [],
   "source": []
  },
  {
   "cell_type": "code",
   "execution_count": null,
   "id": "b6de26c7",
   "metadata": {},
   "outputs": [],
   "source": []
  },
  {
   "cell_type": "code",
   "execution_count": null,
   "id": "751850cc",
   "metadata": {},
   "outputs": [],
   "source": []
  }
 ],
 "metadata": {
  "kernelspec": {
   "display_name": "Python 3",
   "language": "python",
   "name": "python3"
  },
  "language_info": {
   "codemirror_mode": {
    "name": "ipython",
    "version": 3
   },
   "file_extension": ".py",
   "mimetype": "text/x-python",
   "name": "python",
   "nbconvert_exporter": "python",
   "pygments_lexer": "ipython3",
   "version": "3.8.8"
  }
 },
 "nbformat": 4,
 "nbformat_minor": 5
}
