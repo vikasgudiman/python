{
 "cells": [
  {
   "cell_type": "code",
   "execution_count": 1,
   "id": "f5db2977",
   "metadata": {},
   "outputs": [],
   "source": [
    "#first,last,pay,email are the instance variables. They are specific to an instance.\n",
    "class Employee:\n",
    "    def __init__(self,first,last,pay):\n",
    "        self.first=first\n",
    "        self.last=last\n",
    "        self.pay=pay\n",
    "        self.email=first+last+\"@gmail.com\"\n",
    "    \n",
    "    def full_name(self):\n",
    "        self.full_name=self.first+self.last\n",
    "        return self.full_name\n",
    "\n"
   ]
  },
  {
   "cell_type": "code",
   "execution_count": 2,
   "id": "b9e24f08",
   "metadata": {},
   "outputs": [],
   "source": [
    "class Employee:\n",
    "    def __init__(self,first,last,pay):\n",
    "        self.first=first\n",
    "        self.last=last\n",
    "        self.pay=pay\n",
    "        self.email=first+last+\"@gmail.com\"\n",
    "    \n",
    "    def full_name(self):\n",
    "        self.full_name=self.email=self.first+self.last\n",
    "        return self.full_name\n",
    "\n",
    "    def apply_raise(self):\n",
    "        self.pay= int(self.pay*1.04)"
   ]
  },
  {
   "cell_type": "code",
   "execution_count": 3,
   "id": "edce1bab",
   "metadata": {},
   "outputs": [],
   "source": [
    "emp1=Employee(\"Mohan\",\"Das\",12000)"
   ]
  },
  {
   "cell_type": "code",
   "execution_count": 4,
   "id": "cad66e95",
   "metadata": {},
   "outputs": [
    {
     "name": "stdout",
     "output_type": "stream",
     "text": [
      "12000\n",
      "12480\n"
     ]
    }
   ],
   "source": [
    "print(emp1.pay)\n",
    "emp1.apply_raise()\n",
    "print(emp1.pay)"
   ]
  },
  {
   "cell_type": "code",
   "execution_count": 5,
   "id": "3453eac6",
   "metadata": {},
   "outputs": [],
   "source": [
    "class Employee:\n",
    "    raise_percent=40\n",
    "    def __init__(self,first,last,pay):\n",
    "        self.first=first\n",
    "        self.last=last\n",
    "        self.pay=pay\n",
    "        self.email=first+last+\"@gmail.com\"\n",
    "    \n",
    "    def full_name(self):\n",
    "        self.full_name=self.email=self.first+self.last\n",
    "        return self.full_name\n",
    "\n",
    "    def apply_raise(self):\n",
    "        self.pay= int(self.pay*(self.raise_percent+100)/100)\n",
    "emp1=Employee(\"Mohan\",\"Das\",12000)"
   ]
  },
  {
   "cell_type": "code",
   "execution_count": 6,
   "id": "8c48970b",
   "metadata": {},
   "outputs": [
    {
     "name": "stdout",
     "output_type": "stream",
     "text": [
      "12000\n",
      "16800\n",
      "40\n",
      "40\n"
     ]
    }
   ],
   "source": [
    "print(emp1.pay)\n",
    "emp1.apply_raise()\n",
    "print(emp1.pay)\n",
    "print(Employee.raise_percent)\n",
    "print(emp1.raise_percent)\n"
   ]
  },
  {
   "cell_type": "code",
   "execution_count": 7,
   "id": "7579a8a0",
   "metadata": {},
   "outputs": [
    {
     "data": {
      "text/plain": [
       "{'first': 'Mohan', 'last': 'Das', 'pay': 16800, 'email': 'MohanDas@gmail.com'}"
      ]
     },
     "execution_count": 7,
     "metadata": {},
     "output_type": "execute_result"
    }
   ],
   "source": [
    "emp1.__dict__#Everything specific to the instace is printed"
   ]
  },
  {
   "cell_type": "code",
   "execution_count": 8,
   "id": "e34fca78",
   "metadata": {},
   "outputs": [
    {
     "data": {
      "text/plain": [
       "mappingproxy({'__module__': '__main__',\n",
       "              'raise_percent': 40,\n",
       "              '__init__': <function __main__.Employee.__init__(self, first, last, pay)>,\n",
       "              'full_name': <function __main__.Employee.full_name(self)>,\n",
       "              'apply_raise': <function __main__.Employee.apply_raise(self)>,\n",
       "              '__dict__': <attribute '__dict__' of 'Employee' objects>,\n",
       "              '__weakref__': <attribute '__weakref__' of 'Employee' objects>,\n",
       "              '__doc__': None})"
      ]
     },
     "execution_count": 8,
     "metadata": {},
     "output_type": "execute_result"
    }
   ],
   "source": [
    "Employee.__dict__#Everything specific to the class is printed"
   ]
  },
  {
   "cell_type": "code",
   "execution_count": 7,
   "id": "3b669ade",
   "metadata": {},
   "outputs": [
    {
     "name": "stdout",
     "output_type": "stream",
     "text": [
      "16800\n",
      "29400\n",
      "75\n",
      "75\n"
     ]
    }
   ],
   "source": [
    "#changing raise amount for the employee class\n",
    "Employee.raise_percent=75\n",
    "print(emp1.pay)\n",
    "emp1.apply_raise()\n",
    "print(emp1.pay)\n",
    "print(Employee.raise_percent)\n",
    "print(emp1.raise_percent)\n"
   ]
  },
  {
   "cell_type": "code",
   "execution_count": 8,
   "id": "58bd2415",
   "metadata": {},
   "outputs": [
    {
     "name": "stdout",
     "output_type": "stream",
     "text": [
      "29400\n",
      "38220\n",
      "75\n",
      "30\n"
     ]
    }
   ],
   "source": [
    "#changing raise amount for the emp1 instance\n",
    "emp1.raise_percent=30\n",
    "print(emp1.pay)\n",
    "emp1.apply_raise()\n",
    "print(emp1.pay)\n",
    "print(Employee.raise_percent)\n",
    "print(emp1.raise_percent)\n"
   ]
  },
  {
   "cell_type": "code",
   "execution_count": 11,
   "id": "5bcaaff8",
   "metadata": {},
   "outputs": [],
   "source": [
    "#Creating attributes for entire class"
   ]
  },
  {
   "cell_type": "code",
   "execution_count": 9,
   "id": "1e7f867c",
   "metadata": {},
   "outputs": [
    {
     "name": "stdout",
     "output_type": "stream",
     "text": [
      "0\n"
     ]
    }
   ],
   "source": [
    "class Employee:\n",
    "    number_of_emps=0\n",
    "    raise_percent=40\n",
    "    def __init__(self,first,last,pay):\n",
    "        self.first=first\n",
    "        self.last=last\n",
    "        self.pay=pay\n",
    "        self.email=first+last+\"@gmail.com\"\n",
    "        Employee.number_of_emps+=1\n",
    "    def full_name(self):\n",
    "        self.full_name=self.email=self.first+self.last\n",
    "        return self.full_name\n",
    "\n",
    "    def apply_raise(self):\n",
    "        self.pay= int(self.pay*(self.raise_percent+100)/100)\n",
    "print(Employee.number_of_emps)\n",
    "emp1=Employee(\"Mohan\",\"Das\",12000)"
   ]
  },
  {
   "cell_type": "code",
   "execution_count": 10,
   "id": "ef12aadf",
   "metadata": {},
   "outputs": [
    {
     "data": {
      "text/plain": [
       "1"
      ]
     },
     "execution_count": 10,
     "metadata": {},
     "output_type": "execute_result"
    }
   ],
   "source": [
    "Employee.number_of_emps"
   ]
  },
  {
   "cell_type": "code",
   "execution_count": 11,
   "id": "04de6263",
   "metadata": {},
   "outputs": [],
   "source": [
    "emp2=Employee(\"sanjay\",\"patil\",12000)"
   ]
  },
  {
   "cell_type": "code",
   "execution_count": 12,
   "id": "051752dd",
   "metadata": {},
   "outputs": [
    {
     "data": {
      "text/plain": [
       "2"
      ]
     },
     "execution_count": 12,
     "metadata": {},
     "output_type": "execute_result"
    }
   ],
   "source": [
    "Employee.number_of_emps"
   ]
  },
  {
   "cell_type": "code",
   "execution_count": null,
   "id": "cf2a5ad1",
   "metadata": {},
   "outputs": [],
   "source": []
  }
 ],
 "metadata": {
  "kernelspec": {
   "display_name": "Python 3",
   "language": "python",
   "name": "python3"
  },
  "language_info": {
   "codemirror_mode": {
    "name": "ipython",
    "version": 3
   },
   "file_extension": ".py",
   "mimetype": "text/x-python",
   "name": "python",
   "nbconvert_exporter": "python",
   "pygments_lexer": "ipython3",
   "version": "3.8.8"
  }
 },
 "nbformat": 4,
 "nbformat_minor": 5
}
