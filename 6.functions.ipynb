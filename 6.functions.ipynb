{
 "cells": [
  {
   "cell_type": "code",
   "execution_count": 1,
   "id": "bfa01594",
   "metadata": {},
   "outputs": [],
   "source": [
    "def hello():\n",
    "    return \"Hello\""
   ]
  },
  {
   "cell_type": "code",
   "execution_count": 13,
   "id": "816ee99d",
   "metadata": {},
   "outputs": [
    {
     "name": "stdout",
     "output_type": "stream",
     "text": [
      "Hello\n"
     ]
    }
   ],
   "source": [
    "x=hello()\n",
    "x"
   ]
  },
  {
   "cell_type": "code",
   "execution_count": 14,
   "id": "33e21dc6",
   "metadata": {},
   "outputs": [],
   "source": [
    "def print_num(x):\n",
    "    return f\"it is {x}\"\n",
    "    "
   ]
  },
  {
   "cell_type": "code",
   "execution_count": 15,
   "id": "d486a42d",
   "metadata": {},
   "outputs": [
    {
     "data": {
      "text/plain": [
       "'it is 6'"
      ]
     },
     "execution_count": 15,
     "metadata": {},
     "output_type": "execute_result"
    }
   ],
   "source": [
    "print_num(6)"
   ]
  },
  {
   "cell_type": "code",
   "execution_count": 16,
   "id": "ebc43d73",
   "metadata": {},
   "outputs": [
    {
     "data": {
      "text/plain": [
       "'it is HI'"
      ]
     },
     "execution_count": 16,
     "metadata": {},
     "output_type": "execute_result"
    }
   ],
   "source": [
    "print_num('HI')"
   ]
  },
  {
   "cell_type": "code",
   "execution_count": 17,
   "id": "72fddde7",
   "metadata": {},
   "outputs": [
    {
     "name": "stdout",
     "output_type": "stream",
     "text": [
      "it is 5\n"
     ]
    }
   ],
   "source": [
    "print(print_num(5))"
   ]
  },
  {
   "cell_type": "code",
   "execution_count": 7,
   "id": "3b16e75e",
   "metadata": {},
   "outputs": [],
   "source": [
    "#Functions are used to not repeat a code multiple times"
   ]
  },
  {
   "cell_type": "code",
   "execution_count": 19,
   "id": "b6ecdd2d",
   "metadata": {},
   "outputs": [],
   "source": [
    "def return_add(x,y):\n",
    "    sum1=x+y\n",
    "    return sum1\n"
   ]
  },
  {
   "cell_type": "code",
   "execution_count": 20,
   "id": "e5022312",
   "metadata": {},
   "outputs": [
    {
     "data": {
      "text/plain": [
       "3"
      ]
     },
     "execution_count": 20,
     "metadata": {},
     "output_type": "execute_result"
    }
   ],
   "source": [
    "return_add(1,2)"
   ]
  },
  {
   "cell_type": "code",
   "execution_count": 21,
   "id": "1903270a",
   "metadata": {},
   "outputs": [
    {
     "data": {
      "text/plain": [
       "'Hi Mark'"
      ]
     },
     "execution_count": 21,
     "metadata": {},
     "output_type": "execute_result"
    }
   ],
   "source": [
    "return_add('Hi ','Mark')"
   ]
  },
  {
   "cell_type": "code",
   "execution_count": 23,
   "id": "3d0d8153",
   "metadata": {},
   "outputs": [],
   "source": [
    "def default(a,c,d,f,b=6):\n",
    "    sum=a+b\n",
    "    return sum"
   ]
  },
  {
   "cell_type": "code",
   "execution_count": 24,
   "id": "78a24155",
   "metadata": {},
   "outputs": [
    {
     "data": {
      "text/plain": [
       "7"
      ]
     },
     "execution_count": 24,
     "metadata": {},
     "output_type": "execute_result"
    }
   ],
   "source": [
    "default(1)"
   ]
  },
  {
   "cell_type": "code",
   "execution_count": 27,
   "id": "af4c3671",
   "metadata": {},
   "outputs": [
    {
     "data": {
      "text/plain": [
       "7"
      ]
     },
     "execution_count": 27,
     "metadata": {},
     "output_type": "execute_result"
    }
   ],
   "source": [
    "default(1,6)"
   ]
  },
  {
   "cell_type": "code",
   "execution_count": 28,
   "id": "cb6b945b",
   "metadata": {},
   "outputs": [],
   "source": [
    "def students(*args,**kwargs):\n",
    "    print(\"args\",args)\n",
    "    print(\"kwargs\",kwargs)"
   ]
  },
  {
   "cell_type": "code",
   "execution_count": 30,
   "id": "0fb40413",
   "metadata": {},
   "outputs": [
    {
     "name": "stdout",
     "output_type": "stream",
     "text": [
      "args (1, 2, 3, 4, 5, 6, 7, 8)\n",
      "kwargs {}\n"
     ]
    }
   ],
   "source": [
    "students(1,2,3,4,5,6,7,8)"
   ]
  },
  {
   "cell_type": "code",
   "execution_count": 31,
   "id": "e00c5023",
   "metadata": {},
   "outputs": [
    {
     "name": "stdout",
     "output_type": "stream",
     "text": [
      "args ()\n",
      "kwargs {'name': 'Hrithik', 'age': '30'}\n"
     ]
    }
   ],
   "source": [
    "students(name=\"Hrithik\",age=\"30\")"
   ]
  },
  {
   "cell_type": "code",
   "execution_count": 32,
   "id": "48baa4d6",
   "metadata": {},
   "outputs": [
    {
     "name": "stdout",
     "output_type": "stream",
     "text": [
      "args ([1, 2, 3, 4], {'name': 'Amitabh', 'age': 80})\n",
      "kwargs {}\n"
     ]
    }
   ],
   "source": [
    "lists=[1,2,3,4]\n",
    "names={\"name\":'Amitabh',\"age\":80}\n",
    "students(lists,names)"
   ]
  },
  {
   "cell_type": "code",
   "execution_count": 33,
   "id": "a8c6b947",
   "metadata": {},
   "outputs": [
    {
     "name": "stdout",
     "output_type": "stream",
     "text": [
      "args (1, 2, 3, 4)\n",
      "kwargs {'name': 'Amitabh', 'age': 80}\n"
     ]
    }
   ],
   "source": [
    "lists=[1,2,3,4]\n",
    "names={\"name\":'Amitabh',\"age\":80}\n",
    "students(*lists,**names)"
   ]
  },
  {
   "cell_type": "code",
   "execution_count": null,
   "id": "2d446fef",
   "metadata": {},
   "outputs": [],
   "source": []
  }
 ],
 "metadata": {
  "kernelspec": {
   "display_name": "Python 3",
   "language": "python",
   "name": "python3"
  },
  "language_info": {
   "codemirror_mode": {
    "name": "ipython",
    "version": 3
   },
   "file_extension": ".py",
   "mimetype": "text/x-python",
   "name": "python",
   "nbconvert_exporter": "python",
   "pygments_lexer": "ipython3",
   "version": "3.8.8"
  }
 },
 "nbformat": 4,
 "nbformat_minor": 5
}
