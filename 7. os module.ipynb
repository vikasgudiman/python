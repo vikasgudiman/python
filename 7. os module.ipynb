{
 "cells": [
  {
   "cell_type": "code",
   "execution_count": 1,
   "id": "d10faf44",
   "metadata": {},
   "outputs": [],
   "source": [
    "import os"
   ]
  },
  {
   "cell_type": "code",
   "execution_count": 5,
   "id": "73162cad",
   "metadata": {},
   "outputs": [
    {
     "data": {
      "text/plain": [
       "['DirEntry',\n",
       " 'F_OK',\n",
       " 'MutableMapping',\n",
       " 'O_APPEND',\n",
       " 'O_BINARY',\n",
       " 'O_CREAT',\n",
       " 'O_EXCL',\n",
       " 'O_NOINHERIT',\n",
       " 'O_RANDOM',\n",
       " 'O_RDONLY',\n",
       " 'O_RDWR',\n",
       " 'O_SEQUENTIAL',\n",
       " 'O_SHORT_LIVED',\n",
       " 'O_TEMPORARY',\n",
       " 'O_TEXT',\n",
       " 'O_TRUNC',\n",
       " 'O_WRONLY',\n",
       " 'P_DETACH',\n",
       " 'P_NOWAIT',\n",
       " 'P_NOWAITO',\n",
       " 'P_OVERLAY',\n",
       " 'P_WAIT',\n",
       " 'PathLike',\n",
       " 'R_OK',\n",
       " 'SEEK_CUR',\n",
       " 'SEEK_END',\n",
       " 'SEEK_SET',\n",
       " 'TMP_MAX',\n",
       " 'W_OK',\n",
       " 'X_OK',\n",
       " '_AddedDllDirectory',\n",
       " '_Environ',\n",
       " '__all__',\n",
       " '__builtins__',\n",
       " '__cached__',\n",
       " '__doc__',\n",
       " '__file__',\n",
       " '__loader__',\n",
       " '__name__',\n",
       " '__package__',\n",
       " '__spec__',\n",
       " '_check_methods',\n",
       " '_execvpe',\n",
       " '_exists',\n",
       " '_exit',\n",
       " '_fspath',\n",
       " '_get_exports_list',\n",
       " '_putenv',\n",
       " '_unsetenv',\n",
       " '_wrap_close',\n",
       " 'abc',\n",
       " 'abort',\n",
       " 'access',\n",
       " 'add_dll_directory',\n",
       " 'altsep',\n",
       " 'chdir',\n",
       " 'chmod',\n",
       " 'close',\n",
       " 'closerange',\n",
       " 'cpu_count',\n",
       " 'curdir',\n",
       " 'defpath',\n",
       " 'device_encoding',\n",
       " 'devnull',\n",
       " 'dup',\n",
       " 'dup2',\n",
       " 'environ',\n",
       " 'error',\n",
       " 'execl',\n",
       " 'execle',\n",
       " 'execlp',\n",
       " 'execlpe',\n",
       " 'execv',\n",
       " 'execve',\n",
       " 'execvp',\n",
       " 'execvpe',\n",
       " 'extsep',\n",
       " 'fdopen',\n",
       " 'fsdecode',\n",
       " 'fsencode',\n",
       " 'fspath',\n",
       " 'fstat',\n",
       " 'fsync',\n",
       " 'ftruncate',\n",
       " 'get_exec_path',\n",
       " 'get_handle_inheritable',\n",
       " 'get_inheritable',\n",
       " 'get_terminal_size',\n",
       " 'getcwd',\n",
       " 'getcwdb',\n",
       " 'getenv',\n",
       " 'getlogin',\n",
       " 'getpid',\n",
       " 'getppid',\n",
       " 'isatty',\n",
       " 'kill',\n",
       " 'linesep',\n",
       " 'link',\n",
       " 'listdir',\n",
       " 'lseek',\n",
       " 'lstat',\n",
       " 'makedirs',\n",
       " 'mkdir',\n",
       " 'name',\n",
       " 'open',\n",
       " 'pardir',\n",
       " 'path',\n",
       " 'pathsep',\n",
       " 'pipe',\n",
       " 'popen',\n",
       " 'putenv',\n",
       " 'read',\n",
       " 'readlink',\n",
       " 'remove',\n",
       " 'removedirs',\n",
       " 'rename',\n",
       " 'renames',\n",
       " 'replace',\n",
       " 'rmdir',\n",
       " 'scandir',\n",
       " 'sep',\n",
       " 'set_handle_inheritable',\n",
       " 'set_inheritable',\n",
       " 'spawnl',\n",
       " 'spawnle',\n",
       " 'spawnv',\n",
       " 'spawnve',\n",
       " 'st',\n",
       " 'startfile',\n",
       " 'stat',\n",
       " 'stat_result',\n",
       " 'statvfs_result',\n",
       " 'strerror',\n",
       " 'supports_bytes_environ',\n",
       " 'supports_dir_fd',\n",
       " 'supports_effective_ids',\n",
       " 'supports_fd',\n",
       " 'supports_follow_symlinks',\n",
       " 'symlink',\n",
       " 'sys',\n",
       " 'system',\n",
       " 'terminal_size',\n",
       " 'times',\n",
       " 'times_result',\n",
       " 'truncate',\n",
       " 'umask',\n",
       " 'uname_result',\n",
       " 'unlink',\n",
       " 'urandom',\n",
       " 'utime',\n",
       " 'waitpid',\n",
       " 'walk',\n",
       " 'write']"
      ]
     },
     "execution_count": 5,
     "metadata": {},
     "output_type": "execute_result"
    }
   ],
   "source": [
    "dir(os)#prints different methods and attributes of os module. We dont use all of them but we can check how important ones work."
   ]
  },
  {
   "cell_type": "code",
   "execution_count": 6,
   "id": "be3ac7f7",
   "metadata": {},
   "outputs": [
    {
     "data": {
      "text/plain": [
       "'C:\\\\Users\\\\vikas\\\\OneDrive\\\\Desktop\\\\JN\\\\python'"
      ]
     },
     "execution_count": 6,
     "metadata": {},
     "output_type": "execute_result"
    }
   ],
   "source": [
    "os.getcwd()#Used to find the current working directory"
   ]
  },
  {
   "cell_type": "code",
   "execution_count": 7,
   "id": "41a3ba68",
   "metadata": {},
   "outputs": [],
   "source": [
    "os.chdir(\"C:\\\\Users\\\\vikas\\\\OneDrive\\\\Desktop\")#Used to change the current working directory to another location"
   ]
  },
  {
   "cell_type": "code",
   "execution_count": 8,
   "id": "2354c830",
   "metadata": {},
   "outputs": [
    {
     "data": {
      "text/plain": [
       "'C:\\\\Users\\\\vikas\\\\OneDrive\\\\Desktop'"
      ]
     },
     "execution_count": 8,
     "metadata": {},
     "output_type": "execute_result"
    }
   ],
   "source": [
    "os.getcwd()"
   ]
  },
  {
   "cell_type": "code",
   "execution_count": 11,
   "id": "428f9a7d",
   "metadata": {},
   "outputs": [
    {
     "data": {
      "text/plain": [
       "['Atom.lnk',\n",
       " 'awsql.txt',\n",
       " 'blender.lnk',\n",
       " 'checkpoints',\n",
       " 'CodeBlocks.lnk',\n",
       " 'D',\n",
       " 'desktop.ini',\n",
       " 'Docker Desktop.lnk',\n",
       " 'Drive',\n",
       " 'E',\n",
       " 'Flask-Bootcamp-master',\n",
       " 'flask-vue-spa-master',\n",
       " 'gaurav.txt',\n",
       " 'h.txt',\n",
       " 'JN',\n",
       " 'Microsoft Teams.lnk',\n",
       " 'movies',\n",
       " 'New folder',\n",
       " 'New folder (2)',\n",
       " 'Postman.lnk',\n",
       " 'prj',\n",
       " 'prjs',\n",
       " 'Screencast-O-Matic.lnk',\n",
       " 'second.mp4',\n",
       " 'Solodare',\n",
       " 'sqldeveloper - Shortcut.lnk',\n",
       " 'trier',\n",
       " 'vue',\n",
       " 'vue-crash-2021-master',\n",
       " 'vue_crash_todolist-master',\n",
       " 'WhatsApp Image 2021-04-02 at 3.30.20 PM.jpeg',\n",
       " 'Zoom.lnk']"
      ]
     },
     "execution_count": 11,
     "metadata": {},
     "output_type": "execute_result"
    }
   ],
   "source": [
    "os.listdir()#Used to list all the files as folders in the current directory"
   ]
  },
  {
   "cell_type": "code",
   "execution_count": 7,
   "id": "9534fad0",
   "metadata": {},
   "outputs": [],
   "source": [
    "#Creating directory\n",
    "#os.mkdir is used to create a single directory without creating a tree of directory\n",
    "#os.makedirs is used to create an entire tree of directories"
   ]
  },
  {
   "cell_type": "code",
   "execution_count": 13,
   "id": "1e68556d",
   "metadata": {},
   "outputs": [],
   "source": [
    "os.mkdir(\"os-demo1\")"
   ]
  },
  {
   "cell_type": "code",
   "execution_count": 14,
   "id": "ac2f8202",
   "metadata": {},
   "outputs": [],
   "source": [
    "os.makedirs(\"os-demo/demo1/demo2\")"
   ]
  },
  {
   "cell_type": "code",
   "execution_count": 10,
   "id": "94dd9b1d",
   "metadata": {},
   "outputs": [],
   "source": [
    "#Removing directory\n",
    "#os.rmdir is used to delete a single directory without deleting a tree of directories. It will return an error if the file contains any other files\n",
    "#os.removedirs is used to delete an entire tree of directories"
   ]
  },
  {
   "cell_type": "code",
   "execution_count": 15,
   "id": "36c08ba4",
   "metadata": {},
   "outputs": [],
   "source": [
    "os.rmdir(\"os-demo1\")"
   ]
  },
  {
   "cell_type": "code",
   "execution_count": 12,
   "id": "c3a6e3fd",
   "metadata": {},
   "outputs": [],
   "source": [
    "os.removedirs(\"os-demo/demo1/demo2\")#Dangerous to use. Should be used with care to avoid unneccesary deletes."
   ]
  },
  {
   "cell_type": "code",
   "execution_count": 17,
   "id": "22003c30",
   "metadata": {},
   "outputs": [],
   "source": [
    "os.chdir('C:\\\\Users\\\\vikas\\\\OneDrive\\\\Desktop\\\\JN\\\\python')\n",
    "#renaming files or folders\n",
    "os.rename('test.txt','demo.txt')"
   ]
  },
  {
   "cell_type": "code",
   "execution_count": 18,
   "id": "cac2495f",
   "metadata": {},
   "outputs": [],
   "source": [
    "os.rename('demo.txt','test.txt')"
   ]
  },
  {
   "cell_type": "code",
   "execution_count": 19,
   "id": "9cb75126",
   "metadata": {},
   "outputs": [
    {
     "data": {
      "text/plain": [
       "os.stat_result(st_mode=33206, st_ino=3940649674092851, st_dev=2228355262, st_nlink=1, st_uid=0, st_gid=0, st_size=33, st_atime=1617702739, st_mtime=1617653093, st_ctime=1617652106)"
      ]
     },
     "execution_count": 19,
     "metadata": {},
     "output_type": "execute_result"
    }
   ],
   "source": [
    "os.stat('test.txt')#st_size==>212 bytes, st_mtime==>modification time"
   ]
  },
  {
   "cell_type": "code",
   "execution_count": 20,
   "id": "1c11fe7d",
   "metadata": {},
   "outputs": [
    {
     "name": "stdout",
     "output_type": "stream",
     "text": [
      "Current-Path:  C:\\Users\\vikas\\OneDrive\\Desktop\\JN\\python\n",
      "Directories:  ['.ipynb_checkpoints', 'Vikas']\n",
      "Files:  ['1.Strings.ipynb', '10. Sorting.ipynb', '11. Error Handling.ipynb', '2.Numbers.ipynb', '3.Lists, Tuples, Sets, Dictionaries.ipynb', '4.if else elif.ipynb', '5.for,while loops.ipynb', '6.functions.ipynb', '7. os module.ipynb', '8. File reading and writing.ipynb', '9. datetime.ipynb', 'test.txt']\n",
      "\n",
      "Current-Path:  C:\\Users\\vikas\\OneDrive\\Desktop\\JN\\python\\.ipynb_checkpoints\n",
      "Directories:  []\n",
      "Files:  ['1.Strings-checkpoint.ipynb', '10. Sorting-checkpoint.ipynb', '11. Error Handling-checkpoint.ipynb', '2.Numbers-checkpoint.ipynb', '3.Lists, Tuples, Sets, Dictionaries-checkpoint.ipynb', '4.if else elif-checkpoint.ipynb', '5.for,while loops-checkpoint.ipynb', '6.functions-checkpoint.ipynb', '7. os module-checkpoint.ipynb', '8. File reading and writing-checkpoint.ipynb', '9. datetime-checkpoint.ipynb']\n",
      "\n",
      "Current-Path:  C:\\Users\\vikas\\OneDrive\\Desktop\\JN\\python\\Vikas\n",
      "Directories:  ['.ipynb_checkpoints', 'A']\n",
      "Files:  []\n",
      "\n",
      "Current-Path:  C:\\Users\\vikas\\OneDrive\\Desktop\\JN\\python\\Vikas\\.ipynb_checkpoints\n",
      "Directories:  []\n",
      "Files:  []\n",
      "\n",
      "Current-Path:  C:\\Users\\vikas\\OneDrive\\Desktop\\JN\\python\\Vikas\\A\n",
      "Directories:  []\n",
      "Files:  ['untitled.txt']\n",
      "\n"
     ]
    }
   ],
   "source": [
    "#to check the tree and the files. It will go into each directory and print out all the subdirectories and the files.\n",
    "for dirpath, dirnames, filenames in os.walk(os.getcwd()):\n",
    "    print('Current-Path: ', dirpath)\n",
    "    print('Directories: ', dirnames)\n",
    "    print('Files: ', filenames)\n",
    "    print()"
   ]
  },
  {
   "cell_type": "code",
   "execution_count": 17,
   "id": "9a4e10d6",
   "metadata": {},
   "outputs": [
    {
     "data": {
      "text/plain": [
       "environ{'ALLUSERSPROFILE': 'C:\\\\ProgramData',\n",
       "        'APPDATA': 'C:\\\\Users\\\\vikas\\\\AppData\\\\Roaming',\n",
       "        'CHOCOLATEYINSTALL': 'C:\\\\ProgramData\\\\chocolatey',\n",
       "        'CHOCOLATEYLASTPATHUPDATE': '132611507552801576',\n",
       "        'COMMONPROGRAMFILES': 'C:\\\\Program Files\\\\Common Files',\n",
       "        'COMMONPROGRAMFILES(X86)': 'C:\\\\Program Files (x86)\\\\Common Files',\n",
       "        'COMMONPROGRAMW6432': 'C:\\\\Program Files\\\\Common Files',\n",
       "        'COMPUTERNAME': 'LAPTOP-EGBMUJ57',\n",
       "        'COMSPEC': 'C:\\\\WINDOWS\\\\system32\\\\cmd.exe',\n",
       "        'DRIVERDATA': 'C:\\\\Windows\\\\System32\\\\Drivers\\\\DriverData',\n",
       "        'ENV_PROMPT': '(pandas) ',\n",
       "        'HOMEDRIVE': 'C:',\n",
       "        'HOMEPATH': '\\\\Users\\\\vikas',\n",
       "        'LOCALAPPDATA': 'C:\\\\Users\\\\vikas\\\\AppData\\\\Local',\n",
       "        'LOGONSERVER': '\\\\\\\\LAPTOP-EGBMUJ57',\n",
       "        'NUMBER_OF_PROCESSORS': '8',\n",
       "        'ONEDRIVE': 'C:\\\\Users\\\\vikas\\\\OneDrive',\n",
       "        'ONEDRIVECONSUMER': 'C:\\\\Users\\\\vikas\\\\OneDrive',\n",
       "        'OS': 'Windows_NT',\n",
       "        'PATH': 'C:\\\\Users\\\\vikas\\\\Envs\\\\pandas\\\\Scripts;C:\\\\Users\\\\vikas\\\\Downloads\\\\WINDOWS.X64_193000_db_home\\\\bin;C:\\\\Users\\\\vikas\\\\OneDrive\\\\Desktop\\\\D\\\\bin;C:\\\\Users\\\\vikas\\\\AppData\\\\Local\\\\Programs\\\\Python\\\\Python38\\\\Scripts\\\\;C:\\\\Users\\\\vikas\\\\AppData\\\\Local\\\\Programs\\\\Python\\\\Python38\\\\;C:\\\\WINDOWS\\\\system32;C:\\\\WINDOWS;C:\\\\WINDOWS\\\\System32\\\\Wbem;C:\\\\WINDOWS\\\\System32\\\\WindowsPowerShell\\\\v1.0\\\\;C:\\\\WINDOWS\\\\System32\\\\OpenSSH\\\\;C:\\\\Program Files\\\\Git\\\\cmd;C:\\\\Program Files\\\\nodejs\\\\;C:\\\\ProgramData\\\\chocolatey\\\\bin;;C:\\\\Program Files\\\\Docker\\\\Docker\\\\resources\\\\bin;C:\\\\ProgramData\\\\DockerDesktop\\\\version-bin;C:\\\\Users\\\\vikas\\\\AppData\\\\Local\\\\Microsoft\\\\WindowsApps;C:\\\\Users\\\\vikas\\\\AppData\\\\Local\\\\atom\\\\bin;C:\\\\Users\\\\vikas\\\\AppData\\\\Local\\\\Microsoft\\\\WindowsApps;;C:\\\\Users\\\\vikas\\\\AppData\\\\Local\\\\Programs\\\\Microsoft VS Code\\\\bin;C:\\\\Users\\\\vikas\\\\AppData\\\\Roaming\\\\npm',\n",
       "        'PATHEXT': '.COM;.EXE;.BAT;.CMD;.VBS;.VBE;.JS;.JSE;.WSF;.WSH;.MSC;.PY;.PYW',\n",
       "        'PROCESSOR_ARCHITECTURE': 'AMD64',\n",
       "        'PROCESSOR_IDENTIFIER': 'Intel64 Family 6 Model 142 Stepping 12, GenuineIntel',\n",
       "        'PROCESSOR_LEVEL': '6',\n",
       "        'PROCESSOR_REVISION': '8e0c',\n",
       "        'PROGRAMDATA': 'C:\\\\ProgramData',\n",
       "        'PROGRAMFILES': 'C:\\\\Program Files',\n",
       "        'PROGRAMFILES(X86)': 'C:\\\\Program Files (x86)',\n",
       "        'PROGRAMW6432': 'C:\\\\Program Files',\n",
       "        'PROMPT': '(pandas) $P$G',\n",
       "        'PSMODULEPATH': 'C:\\\\Program Files\\\\WindowsPowerShell\\\\Modules;C:\\\\WINDOWS\\\\system32\\\\WindowsPowerShell\\\\v1.0\\\\Modules',\n",
       "        'PUBLIC': 'C:\\\\Users\\\\Public',\n",
       "        'SESSIONNAME': 'Console',\n",
       "        'SYSTEMDRIVE': 'C:',\n",
       "        'SYSTEMROOT': 'C:\\\\WINDOWS',\n",
       "        'TEMP': 'C:\\\\Users\\\\vikas\\\\AppData\\\\Local\\\\Temp',\n",
       "        'TMP': 'C:\\\\Users\\\\vikas\\\\AppData\\\\Local\\\\Temp',\n",
       "        'USERDOMAIN': 'LAPTOP-EGBMUJ57',\n",
       "        'USERDOMAIN_ROAMINGPROFILE': 'LAPTOP-EGBMUJ57',\n",
       "        'USERNAME': 'vikas',\n",
       "        'USERPROFILE': 'C:\\\\Users\\\\vikas',\n",
       "        'VENV': 'pandas',\n",
       "        'VIRTUALENVWRAPPER_PROJECT_FILENAME': '.project',\n",
       "        'VIRTUAL_ENV': 'C:\\\\Users\\\\vikas\\\\Envs\\\\pandas',\n",
       "        'WINDIR': 'C:\\\\WINDOWS',\n",
       "        'WORKON_HOME': 'C:\\\\Users\\\\vikas\\\\Envs',\n",
       "        '_OLD_VIRTUAL_PATH': 'C:\\\\Users\\\\vikas\\\\Downloads\\\\WINDOWS.X64_193000_db_home\\\\bin;C:\\\\Users\\\\vikas\\\\OneDrive\\\\Desktop\\\\D\\\\bin;C:\\\\Users\\\\vikas\\\\AppData\\\\Local\\\\Programs\\\\Python\\\\Python38\\\\Scripts\\\\;C:\\\\Users\\\\vikas\\\\AppData\\\\Local\\\\Programs\\\\Python\\\\Python38\\\\;C:\\\\WINDOWS\\\\system32;C:\\\\WINDOWS;C:\\\\WINDOWS\\\\System32\\\\Wbem;C:\\\\WINDOWS\\\\System32\\\\WindowsPowerShell\\\\v1.0\\\\;C:\\\\WINDOWS\\\\System32\\\\OpenSSH\\\\;C:\\\\Program Files\\\\Git\\\\cmd;C:\\\\Program Files\\\\nodejs\\\\;C:\\\\ProgramData\\\\chocolatey\\\\bin;;C:\\\\Program Files\\\\Docker\\\\Docker\\\\resources\\\\bin;C:\\\\ProgramData\\\\DockerDesktop\\\\version-bin;C:\\\\Users\\\\vikas\\\\AppData\\\\Local\\\\Microsoft\\\\WindowsApps;C:\\\\Users\\\\vikas\\\\AppData\\\\Local\\\\atom\\\\bin;C:\\\\Users\\\\vikas\\\\AppData\\\\Local\\\\Microsoft\\\\WindowsApps;;C:\\\\Users\\\\vikas\\\\AppData\\\\Local\\\\Programs\\\\Microsoft VS Code\\\\bin;C:\\\\Users\\\\vikas\\\\AppData\\\\Roaming\\\\npm',\n",
       "        '_OLD_VIRTUAL_PROMPT': '$P$G',\n",
       "        'JPY_INTERRUPT_EVENT': '3156',\n",
       "        'IPY_INTERRUPT_EVENT': '3156',\n",
       "        'JPY_PARENT_PID': '3496',\n",
       "        'TERM': 'xterm-color',\n",
       "        'CLICOLOR': '1',\n",
       "        'PAGER': 'cat',\n",
       "        'GIT_PAGER': 'cat',\n",
       "        'MPLBACKEND': 'module://ipykernel.pylab.backend_inline'}"
      ]
     },
     "execution_count": 17,
     "metadata": {},
     "output_type": "execute_result"
    }
   ],
   "source": [
    "os.environ"
   ]
  },
  {
   "cell_type": "code",
   "execution_count": 21,
   "id": "ed35c702",
   "metadata": {},
   "outputs": [
    {
     "data": {
      "text/plain": [
       "'C:\\\\Users\\\\vikas\\\\OneDrive\\\\Desktop\\\\JN\\\\python'"
      ]
     },
     "execution_count": 21,
     "metadata": {},
     "output_type": "execute_result"
    }
   ],
   "source": [
    "#to join two paths we use os.path.join()\n",
    "os.getcwd()"
   ]
  },
  {
   "cell_type": "code",
   "execution_count": 22,
   "id": "0b55f021",
   "metadata": {},
   "outputs": [
    {
     "data": {
      "text/plain": [
       "'C:\\\\Users\\\\vikas\\\\OneDrive\\\\Desktop\\\\JN\\\\python\\\\New folder'"
      ]
     },
     "execution_count": 22,
     "metadata": {},
     "output_type": "execute_result"
    }
   ],
   "source": [
    "os.path.join(os.getcwd(),\"New folder\")"
   ]
  },
  {
   "cell_type": "code",
   "execution_count": 23,
   "id": "4eb00fc4",
   "metadata": {},
   "outputs": [
    {
     "data": {
      "text/plain": [
       "'python'"
      ]
     },
     "execution_count": 23,
     "metadata": {},
     "output_type": "execute_result"
    }
   ],
   "source": [
    "os.path.basename(os.getcwd())#gives is the end file or folder in the path"
   ]
  },
  {
   "cell_type": "code",
   "execution_count": 24,
   "id": "79fe0b0f",
   "metadata": {},
   "outputs": [
    {
     "data": {
      "text/plain": [
       "'C:\\\\Users\\\\vikas\\\\OneDrive\\\\Desktop\\\\JN'"
      ]
     },
     "execution_count": 24,
     "metadata": {},
     "output_type": "execute_result"
    }
   ],
   "source": [
    "os.path.dirname(os.getcwd())#gives us the directory of the end file or folder"
   ]
  },
  {
   "cell_type": "code",
   "execution_count": 24,
   "id": "ea40cbf2",
   "metadata": {},
   "outputs": [
    {
     "data": {
      "text/plain": [
       "('C:\\\\Users\\\\vikas\\\\OneDrive', 'Desktop')"
      ]
     },
     "execution_count": 24,
     "metadata": {},
     "output_type": "execute_result"
    }
   ],
   "source": [
    "os.path.split(os.getcwd())#gives us both dirname and basename at once"
   ]
  },
  {
   "cell_type": "code",
   "execution_count": 25,
   "id": "2d287691",
   "metadata": {},
   "outputs": [
    {
     "data": {
      "text/plain": [
       "True"
      ]
     },
     "execution_count": 25,
     "metadata": {},
     "output_type": "execute_result"
    }
   ],
   "source": [
    "os.path.exists(os.getcwd())#checks if the given path exists or not"
   ]
  },
  {
   "cell_type": "code",
   "execution_count": 31,
   "id": "049c1073",
   "metadata": {},
   "outputs": [
    {
     "data": {
      "text/plain": [
       "True"
      ]
     },
     "execution_count": 31,
     "metadata": {},
     "output_type": "execute_result"
    }
   ],
   "source": [
    "os.path.exists('E')#checks if given folder exists in the current directory"
   ]
  },
  {
   "cell_type": "code",
   "execution_count": 32,
   "id": "cb59ed11",
   "metadata": {},
   "outputs": [
    {
     "data": {
      "text/plain": [
       "True"
      ]
     },
     "execution_count": 32,
     "metadata": {},
     "output_type": "execute_result"
    }
   ],
   "source": [
    "os.path.isdir('E')#checks if it is a directory or not"
   ]
  },
  {
   "cell_type": "code",
   "execution_count": 33,
   "id": "cf2495e5",
   "metadata": {},
   "outputs": [
    {
     "data": {
      "text/plain": [
       "False"
      ]
     },
     "execution_count": 33,
     "metadata": {},
     "output_type": "execute_result"
    }
   ],
   "source": [
    "os.path.isfile('E')#checks if it is a file or not"
   ]
  },
  {
   "cell_type": "code",
   "execution_count": 34,
   "id": "83786b50",
   "metadata": {},
   "outputs": [
    {
     "data": {
      "text/plain": [
       "('h', '.txt')"
      ]
     },
     "execution_count": 34,
     "metadata": {},
     "output_type": "execute_result"
    }
   ],
   "source": [
    "os.path.splitext('h.txt')#splits the current file and type of the file"
   ]
  },
  {
   "cell_type": "code",
   "execution_count": 36,
   "id": "1934bf2a",
   "metadata": {},
   "outputs": [
    {
     "data": {
      "text/plain": [
       "['__all__',\n",
       " '__builtins__',\n",
       " '__cached__',\n",
       " '__doc__',\n",
       " '__file__',\n",
       " '__loader__',\n",
       " '__name__',\n",
       " '__package__',\n",
       " '__spec__',\n",
       " '_abspath_fallback',\n",
       " '_get_bothseps',\n",
       " '_getfinalpathname',\n",
       " '_getfinalpathname_nonstrict',\n",
       " '_getfullpathname',\n",
       " '_getvolumepathname',\n",
       " '_nt_readlink',\n",
       " '_readlink_deep',\n",
       " 'abspath',\n",
       " 'altsep',\n",
       " 'basename',\n",
       " 'commonpath',\n",
       " 'commonprefix',\n",
       " 'curdir',\n",
       " 'defpath',\n",
       " 'devnull',\n",
       " 'dirname',\n",
       " 'exists',\n",
       " 'expanduser',\n",
       " 'expandvars',\n",
       " 'extsep',\n",
       " 'genericpath',\n",
       " 'getatime',\n",
       " 'getctime',\n",
       " 'getmtime',\n",
       " 'getsize',\n",
       " 'isabs',\n",
       " 'isdir',\n",
       " 'isfile',\n",
       " 'islink',\n",
       " 'ismount',\n",
       " 'join',\n",
       " 'lexists',\n",
       " 'normcase',\n",
       " 'normpath',\n",
       " 'os',\n",
       " 'pardir',\n",
       " 'pathsep',\n",
       " 'realpath',\n",
       " 'relpath',\n",
       " 'samefile',\n",
       " 'sameopenfile',\n",
       " 'samestat',\n",
       " 'sep',\n",
       " 'split',\n",
       " 'splitdrive',\n",
       " 'splitext',\n",
       " 'stat',\n",
       " 'supports_unicode_filenames',\n",
       " 'sys']"
      ]
     },
     "execution_count": 36,
     "metadata": {},
     "output_type": "execute_result"
    }
   ],
   "source": [
    "dir(os.path)"
   ]
  },
  {
   "cell_type": "code",
   "execution_count": null,
   "id": "b2ec9588",
   "metadata": {},
   "outputs": [],
   "source": []
  }
 ],
 "metadata": {
  "kernelspec": {
   "display_name": "Python 3",
   "language": "python",
   "name": "python3"
  },
  "language_info": {
   "codemirror_mode": {
    "name": "ipython",
    "version": 3
   },
   "file_extension": ".py",
   "mimetype": "text/x-python",
   "name": "python",
   "nbconvert_exporter": "python",
   "pygments_lexer": "ipython3",
   "version": "3.8.8"
  }
 },
 "nbformat": 4,
 "nbformat_minor": 5
}
