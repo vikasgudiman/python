{
 "cells": [
  {
   "cell_type": "code",
   "execution_count": 1,
   "id": "562e1ad1",
   "metadata": {},
   "outputs": [],
   "source": [
    "countries=[\"India\",\"US\",\"China\",\"Russia\",4]"
   ]
  },
  {
   "cell_type": "code",
   "execution_count": 2,
   "id": "70a0d497",
   "metadata": {},
   "outputs": [
    {
     "name": "stdout",
     "output_type": "stream",
     "text": [
      "5\n"
     ]
    }
   ],
   "source": [
    "print(len(countries))#len is used to print out the number of elements"
   ]
  },
  {
   "cell_type": "code",
   "execution_count": 3,
   "id": "64c54f4e",
   "metadata": {},
   "outputs": [
    {
     "data": {
      "text/plain": [
       "'India'"
      ]
     },
     "execution_count": 3,
     "metadata": {},
     "output_type": "execute_result"
    }
   ],
   "source": [
    "countries[0]"
   ]
  },
  {
   "cell_type": "code",
   "execution_count": 4,
   "id": "0001499c",
   "metadata": {},
   "outputs": [
    {
     "data": {
      "text/plain": [
       "['India', 'US', 'China']"
      ]
     },
     "execution_count": 4,
     "metadata": {},
     "output_type": "execute_result"
    }
   ],
   "source": [
    "countries[0:3]"
   ]
  },
  {
   "cell_type": "code",
   "execution_count": 5,
   "id": "53b39aea",
   "metadata": {},
   "outputs": [
    {
     "data": {
      "text/plain": [
       "['India', 'US', 'China', 'Russia']"
      ]
     },
     "execution_count": 5,
     "metadata": {},
     "output_type": "execute_result"
    }
   ],
   "source": [
    "countries[0:-1]"
   ]
  },
  {
   "cell_type": "code",
   "execution_count": 6,
   "id": "17f04939",
   "metadata": {},
   "outputs": [
    {
     "data": {
      "text/plain": [
       "['India', 'US', 'China', 'Russia', 4, 'UK']"
      ]
     },
     "execution_count": 6,
     "metadata": {},
     "output_type": "execute_result"
    }
   ],
   "source": [
    "countries.append(\"UK\")\n",
    "countries"
   ]
  },
  {
   "cell_type": "code",
   "execution_count": 7,
   "id": "6e976890",
   "metadata": {},
   "outputs": [],
   "source": [
    "countries.insert(4,\"Australia\")"
   ]
  },
  {
   "cell_type": "code",
   "execution_count": 8,
   "id": "f2dff7d3",
   "metadata": {},
   "outputs": [
    {
     "data": {
      "text/plain": [
       "['India', 'US', 'China', 'Russia', 'Australia', 4, 'UK']"
      ]
     },
     "execution_count": 8,
     "metadata": {},
     "output_type": "execute_result"
    }
   ],
   "source": [
    "countries"
   ]
  },
  {
   "cell_type": "code",
   "execution_count": 9,
   "id": "ea229659",
   "metadata": {},
   "outputs": [],
   "source": [
    "new_countries=[\"Sri Lanka\",\"Canada\",\"Brazil\"]"
   ]
  },
  {
   "cell_type": "code",
   "execution_count": 10,
   "id": "3f949dbd",
   "metadata": {},
   "outputs": [],
   "source": [
    "countries.append(new_countries)"
   ]
  },
  {
   "cell_type": "code",
   "execution_count": 11,
   "id": "2045b26d",
   "metadata": {},
   "outputs": [
    {
     "data": {
      "text/plain": [
       "['India',\n",
       " 'US',\n",
       " 'China',\n",
       " 'Russia',\n",
       " 'Australia',\n",
       " 4,\n",
       " 'UK',\n",
       " ['Sri Lanka', 'Canada', 'Brazil']]"
      ]
     },
     "execution_count": 11,
     "metadata": {},
     "output_type": "execute_result"
    }
   ],
   "source": [
    "countries"
   ]
  },
  {
   "cell_type": "code",
   "execution_count": 12,
   "id": "cb6ba484",
   "metadata": {},
   "outputs": [
    {
     "data": {
      "text/plain": [
       "['Sri Lanka', 'Canada', 'Brazil']"
      ]
     },
     "execution_count": 12,
     "metadata": {},
     "output_type": "execute_result"
    }
   ],
   "source": [
    "countries.pop()"
   ]
  },
  {
   "cell_type": "code",
   "execution_count": 13,
   "id": "153ef15f",
   "metadata": {},
   "outputs": [
    {
     "data": {
      "text/plain": [
       "['India',\n",
       " 'US',\n",
       " 'China',\n",
       " 'Russia',\n",
       " 'Australia',\n",
       " 4,\n",
       " 'UK',\n",
       " 'Sri Lanka',\n",
       " 'Canada',\n",
       " 'Brazil']"
      ]
     },
     "execution_count": 13,
     "metadata": {},
     "output_type": "execute_result"
    }
   ],
   "source": [
    "countries.extend(new_countries)\n",
    "countries"
   ]
  },
  {
   "cell_type": "code",
   "execution_count": 14,
   "id": "fb8a1a23",
   "metadata": {},
   "outputs": [],
   "source": [
    "countries.remove(4)"
   ]
  },
  {
   "cell_type": "code",
   "execution_count": 15,
   "id": "29d0d439",
   "metadata": {},
   "outputs": [
    {
     "data": {
      "text/plain": [
       "['India',\n",
       " 'US',\n",
       " 'China',\n",
       " 'Russia',\n",
       " 'Australia',\n",
       " 'UK',\n",
       " 'Sri Lanka',\n",
       " 'Canada',\n",
       " 'Brazil']"
      ]
     },
     "execution_count": 15,
     "metadata": {},
     "output_type": "execute_result"
    }
   ],
   "source": [
    "countries"
   ]
  },
  {
   "cell_type": "code",
   "execution_count": 16,
   "id": "7227941f",
   "metadata": {},
   "outputs": [
    {
     "data": {
      "text/plain": [
       "'Brazil'"
      ]
     },
     "execution_count": 16,
     "metadata": {},
     "output_type": "execute_result"
    }
   ],
   "source": [
    "countries.pop()"
   ]
  },
  {
   "cell_type": "code",
   "execution_count": 17,
   "id": "f34c57b9",
   "metadata": {},
   "outputs": [],
   "source": [
    "countries.reverse()"
   ]
  },
  {
   "cell_type": "code",
   "execution_count": 18,
   "id": "287c2fc8",
   "metadata": {},
   "outputs": [
    {
     "data": {
      "text/plain": [
       "['Canada', 'Sri Lanka', 'UK', 'Australia', 'Russia', 'China', 'US', 'India']"
      ]
     },
     "execution_count": 18,
     "metadata": {},
     "output_type": "execute_result"
    }
   ],
   "source": [
    "countries"
   ]
  },
  {
   "cell_type": "code",
   "execution_count": 19,
   "id": "46ae86f5",
   "metadata": {},
   "outputs": [
    {
     "data": {
      "text/plain": [
       "['Australia', 'Canada', 'China', 'India', 'Russia', 'Sri Lanka', 'UK', 'US']"
      ]
     },
     "execution_count": 19,
     "metadata": {},
     "output_type": "execute_result"
    }
   ],
   "source": [
    "countries.sort()\n",
    "countries"
   ]
  },
  {
   "cell_type": "code",
   "execution_count": 20,
   "id": "0ef28e71",
   "metadata": {},
   "outputs": [
    {
     "data": {
      "text/plain": [
       "['US', 'UK', 'Sri Lanka', 'Russia', 'India', 'China', 'Canada', 'Australia']"
      ]
     },
     "execution_count": 20,
     "metadata": {},
     "output_type": "execute_result"
    }
   ],
   "source": [
    "countries.sort(reverse=True)\n",
    "countries"
   ]
  },
  {
   "cell_type": "code",
   "execution_count": 21,
   "id": "b11e234b",
   "metadata": {},
   "outputs": [],
   "source": [
    "new_countries=sorted(countries)"
   ]
  },
  {
   "cell_type": "code",
   "execution_count": 22,
   "id": "1c4f6f70",
   "metadata": {},
   "outputs": [
    {
     "data": {
      "text/plain": [
       "['Australia', 'Canada', 'China', 'India', 'Russia', 'Sri Lanka', 'UK', 'US']"
      ]
     },
     "execution_count": 22,
     "metadata": {},
     "output_type": "execute_result"
    }
   ],
   "source": [
    "new_countries"
   ]
  },
  {
   "cell_type": "code",
   "execution_count": 23,
   "id": "10f6db33",
   "metadata": {},
   "outputs": [
    {
     "name": "stdout",
     "output_type": "stream",
     "text": [
      "165\n",
      "55\n",
      "11\n",
      "1\n"
     ]
    }
   ],
   "source": [
    "marks=[11,22,33,44,55]\n",
    "print(sum(marks))\n",
    "print(max(marks))\n",
    "print(min(marks))\n",
    "print(marks.index(22))# If value is not in the list it will return a value error"
   ]
  },
  {
   "cell_type": "code",
   "execution_count": 24,
   "id": "a40ebb82",
   "metadata": {},
   "outputs": [
    {
     "name": "stdout",
     "output_type": "stream",
     "text": [
      "False\n"
     ]
    }
   ],
   "source": [
    "print(2 in marks)"
   ]
  },
  {
   "cell_type": "code",
   "execution_count": 25,
   "id": "a72c8b7a",
   "metadata": {},
   "outputs": [
    {
     "data": {
      "text/plain": [
       "'US, UK, Sri Lanka, Russia, India, China, Canada, Australia'"
      ]
     },
     "execution_count": 25,
     "metadata": {},
     "output_type": "execute_result"
    }
   ],
   "source": [
    "#Joining strings inside a list\n",
    "result = \", \".join(countries)\n",
    "result"
   ]
  },
  {
   "cell_type": "code",
   "execution_count": 26,
   "id": "4569204d",
   "metadata": {},
   "outputs": [
    {
     "data": {
      "text/plain": [
       "['US', 'UK', 'Sri Lanka', 'Russia', 'India', 'China', 'Canada', 'Australia']"
      ]
     },
     "execution_count": 26,
     "metadata": {},
     "output_type": "execute_result"
    }
   ],
   "source": [
    "result.split(', ')"
   ]
  },
  {
   "cell_type": "code",
   "execution_count": 27,
   "id": "7dd99b14",
   "metadata": {},
   "outputs": [],
   "source": [
    "#tuples-similar to lists. Lists are mutable but tuples are immutable"
   ]
  },
  {
   "cell_type": "code",
   "execution_count": 28,
   "id": "dfacd97c",
   "metadata": {},
   "outputs": [
    {
     "name": "stdout",
     "output_type": "stream",
     "text": [
      "[1, 2, 3, 4]\n",
      "[1, 2, 3, 4]\n"
     ]
    }
   ],
   "source": [
    "list1 = [1,2,3,4]\n",
    "list2=list1\n",
    "print(list1)\n",
    "print(list2)"
   ]
  },
  {
   "cell_type": "code",
   "execution_count": 29,
   "id": "df74940f",
   "metadata": {},
   "outputs": [],
   "source": [
    "list2[1]=99"
   ]
  },
  {
   "cell_type": "code",
   "execution_count": 30,
   "id": "1773ebad",
   "metadata": {},
   "outputs": [
    {
     "name": "stdout",
     "output_type": "stream",
     "text": [
      "[1, 99, 3, 4]\n",
      "[1, 99, 3, 4]\n"
     ]
    }
   ],
   "source": [
    "print(list1)\n",
    "print(list2)"
   ]
  },
  {
   "cell_type": "code",
   "execution_count": 31,
   "id": "7dc53293",
   "metadata": {},
   "outputs": [],
   "source": [
    "countries=(\"India\",\"US\",\"China\",\"Russia\",4)"
   ]
  },
  {
   "cell_type": "code",
   "execution_count": 32,
   "id": "585c2590",
   "metadata": {},
   "outputs": [],
   "source": [
    "#sets"
   ]
  },
  {
   "cell_type": "code",
   "execution_count": 51,
   "id": "f4f95ee8",
   "metadata": {},
   "outputs": [],
   "source": [
    "set1={1,2,3,4,4,5,6,7,7,7,8,\"b\",\"a\"}"
   ]
  },
  {
   "cell_type": "code",
   "execution_count": 52,
   "id": "11ecbf80",
   "metadata": {},
   "outputs": [
    {
     "data": {
      "text/plain": [
       "{1, 2, 3, 4, 5, 6, 7, 8, 'a', 'b'}"
      ]
     },
     "execution_count": 52,
     "metadata": {},
     "output_type": "execute_result"
    }
   ],
   "source": [
    "set1"
   ]
  },
  {
   "cell_type": "code",
   "execution_count": 53,
   "id": "0784aeb6",
   "metadata": {},
   "outputs": [
    {
     "data": {
      "text/plain": [
       "{1, 2, 3, 4, 5, 6, 7, 8, 9, 10}"
      ]
     },
     "execution_count": 53,
     "metadata": {},
     "output_type": "execute_result"
    }
   ],
   "source": [
    "set2={1,2,3,4,4,5,6,7,7,7,8,9,10}\n",
    "set2"
   ]
  },
  {
   "cell_type": "code",
   "execution_count": 54,
   "id": "2effd0c5",
   "metadata": {},
   "outputs": [
    {
     "data": {
      "text/plain": [
       "{1, 2, 3, 4, 5, 6, 7, 8}"
      ]
     },
     "execution_count": 54,
     "metadata": {},
     "output_type": "execute_result"
    }
   ],
   "source": [
    "set1.intersection(set2)#Intersection is Common elements between two sets"
   ]
  },
  {
   "cell_type": "code",
   "execution_count": 55,
   "id": "9297d2cc",
   "metadata": {},
   "outputs": [
    {
     "data": {
      "text/plain": [
       "{'a', 'b'}"
      ]
     },
     "execution_count": 55,
     "metadata": {},
     "output_type": "execute_result"
    }
   ],
   "source": [
    "set1.difference(set2)#Difference is Common elements between two sets"
   ]
  },
  {
   "cell_type": "code",
   "execution_count": 56,
   "id": "7159dad8",
   "metadata": {},
   "outputs": [
    {
     "data": {
      "text/plain": [
       "{9, 10}"
      ]
     },
     "execution_count": 56,
     "metadata": {},
     "output_type": "execute_result"
    }
   ],
   "source": [
    "set2.difference(set1)"
   ]
  },
  {
   "cell_type": "code",
   "execution_count": 39,
   "id": "8fb42605",
   "metadata": {},
   "outputs": [
    {
     "data": {
      "text/plain": [
       "{1, 10, 2, 3, 4, 5, 6, 7, 8, 9, 'a', 'b'}"
      ]
     },
     "execution_count": 39,
     "metadata": {},
     "output_type": "execute_result"
    }
   ],
   "source": [
    "set1.union(set2)"
   ]
  },
  {
   "cell_type": "code",
   "execution_count": 57,
   "id": "82fa18a4",
   "metadata": {},
   "outputs": [
    {
     "data": {
      "text/plain": [
       "[1, 2, 4, 6, 'abc']"
      ]
     },
     "execution_count": 57,
     "metadata": {},
     "output_type": "execute_result"
    }
   ],
   "source": [
    "list1=[1,2,2,6,4,'abc']\n",
    "list1=list(set(list1))\n",
    "list1"
   ]
  },
  {
   "cell_type": "code",
   "execution_count": 58,
   "id": "c11c0100",
   "metadata": {},
   "outputs": [],
   "source": [
    "#dictionaries"
   ]
  },
  {
   "cell_type": "code",
   "execution_count": 59,
   "id": "1a71ae8a",
   "metadata": {},
   "outputs": [],
   "source": [
    "dict1={\n",
    "    \"name\":\"Aakash\",\n",
    "    \"age\":21,\n",
    "    \"gender\":\"Male\"\n",
    "}"
   ]
  },
  {
   "cell_type": "code",
   "execution_count": 61,
   "id": "a1b9b6a4",
   "metadata": {},
   "outputs": [
    {
     "ename": "KeyError",
     "evalue": "'class'",
     "output_type": "error",
     "traceback": [
      "\u001b[1;31m---------------------------------------------------------------------------\u001b[0m",
      "\u001b[1;31mKeyError\u001b[0m                                  Traceback (most recent call last)",
      "\u001b[1;32m<ipython-input-61-6ca7a575cfac>\u001b[0m in \u001b[0;36m<module>\u001b[1;34m\u001b[0m\n\u001b[0;32m      1\u001b[0m \u001b[0mdict1\u001b[0m\u001b[1;33m[\u001b[0m\u001b[1;34m\"name\"\u001b[0m\u001b[1;33m]\u001b[0m\u001b[1;31m#if key doesnt exist it will return error\u001b[0m\u001b[1;33m\u001b[0m\u001b[1;33m\u001b[0m\u001b[0m\n\u001b[1;32m----> 2\u001b[1;33m \u001b[0mdict1\u001b[0m\u001b[1;33m[\u001b[0m\u001b[1;34m\"class\"\u001b[0m\u001b[1;33m]\u001b[0m\u001b[1;33m\u001b[0m\u001b[1;33m\u001b[0m\u001b[0m\n\u001b[0m",
      "\u001b[1;31mKeyError\u001b[0m: 'class'"
     ]
    }
   ],
   "source": [
    "dict1[\"name\"]#if key doesnt exist it will return error\n",
    "#dict1[\"class\"]"
   ]
  },
  {
   "cell_type": "code",
   "execution_count": 64,
   "id": "5dca2a9b",
   "metadata": {},
   "outputs": [
    {
     "name": "stdout",
     "output_type": "stream",
     "text": [
      "None\n"
     ]
    }
   ],
   "source": [
    "dict1.get(\"name\")#if key doesnt exist it will return none\n",
    "print(dict1.get(\"class\"))"
   ]
  },
  {
   "cell_type": "code",
   "execution_count": 65,
   "id": "2be4fc34",
   "metadata": {},
   "outputs": [],
   "source": [
    "dict1[\"phone_number\"]=123456"
   ]
  },
  {
   "cell_type": "code",
   "execution_count": 66,
   "id": "bffb2470",
   "metadata": {},
   "outputs": [
    {
     "data": {
      "text/plain": [
       "{'name': 'Aakash', 'age': 21, 'gender': 'Male', 'phone_number': 123456}"
      ]
     },
     "execution_count": 66,
     "metadata": {},
     "output_type": "execute_result"
    }
   ],
   "source": [
    "dict1"
   ]
  },
  {
   "cell_type": "code",
   "execution_count": 67,
   "id": "fdcda516",
   "metadata": {},
   "outputs": [
    {
     "data": {
      "text/plain": [
       "{'name': 'Prateek', 'age': 21, 'gender': 'Male', 'phone_number': 123456}"
      ]
     },
     "execution_count": 67,
     "metadata": {},
     "output_type": "execute_result"
    }
   ],
   "source": [
    "dict1['name']=\"Prateek\"\n",
    "dict1['age']=22\n",
    "dict1"
   ]
  },
  {
   "cell_type": "code",
   "execution_count": 69,
   "id": "cd04f3db",
   "metadata": {},
   "outputs": [
    {
     "data": {
      "text/plain": [
       "{'name': 'Stavya', 'age': 23, 'gender': 'Female', 'phone_number': 123456}"
      ]
     },
     "execution_count": 69,
     "metadata": {},
     "output_type": "execute_result"
    }
   ],
   "source": [
    "dict1.update({\"name\":\"Stavya\",\"age\":23,\"gender\":\"Female\"})\n",
    "dict1"
   ]
  },
  {
   "cell_type": "code",
   "execution_count": 70,
   "id": "c290ef0e",
   "metadata": {},
   "outputs": [
    {
     "data": {
      "text/plain": [
       "{'name': 'Stavya', 'age': 23, 'gender': 'Female'}"
      ]
     },
     "execution_count": 70,
     "metadata": {},
     "output_type": "execute_result"
    }
   ],
   "source": [
    "del dict1[\"phone_number\"]\n",
    "dict1"
   ]
  },
  {
   "cell_type": "code",
   "execution_count": 71,
   "id": "c52a48a4",
   "metadata": {},
   "outputs": [
    {
     "name": "stdout",
     "output_type": "stream",
     "text": [
      "dict_keys(['name', 'age', 'gender'])\n",
      "dict_values(['Stavya', 23, 'Female'])\n",
      "dict_items([('name', 'Stavya'), ('age', 23), ('gender', 'Female')])\n"
     ]
    }
   ],
   "source": [
    "print(dict1.keys())\n",
    "print(dict1.values())\n",
    "print(dict1.items())"
   ]
  },
  {
   "cell_type": "code",
   "execution_count": null,
   "id": "1c9f4d1e",
   "metadata": {},
   "outputs": [],
   "source": [
    "empty_list=[]\n",
    "empty_tuple=()\n",
    "empty_set=set()\n",
    "empty_dict={}"
   ]
  }
 ],
 "metadata": {
  "kernelspec": {
   "display_name": "Python 3",
   "language": "python",
   "name": "python3"
  },
  "language_info": {
   "codemirror_mode": {
    "name": "ipython",
    "version": 3
   },
   "file_extension": ".py",
   "mimetype": "text/x-python",
   "name": "python",
   "nbconvert_exporter": "python",
   "pygments_lexer": "ipython3",
   "version": "3.8.8"
  }
 },
 "nbformat": 4,
 "nbformat_minor": 5
}
