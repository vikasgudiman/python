{
 "cells": [
  {
   "cell_type": "code",
   "execution_count": 13,
   "id": "034eeba1",
   "metadata": {},
   "outputs": [],
   "source": [
    "#OOPS"
   ]
  },
  {
   "cell_type": "code",
   "execution_count": 14,
   "id": "15f4b940",
   "metadata": {},
   "outputs": [],
   "source": [
    "#Benefits of classes - (Grouping data)\n",
    "#Logically used to reuse data using objects and classes and use them somewhere else(Not specific to python)"
   ]
  },
  {
   "cell_type": "code",
   "execution_count": 15,
   "id": "ff681834",
   "metadata": {},
   "outputs": [],
   "source": [
    "#Attributes- variables, methods-functions"
   ]
  },
  {
   "cell_type": "code",
   "execution_count": 16,
   "id": "f7fe6533",
   "metadata": {},
   "outputs": [],
   "source": [
    "#Simple class with no attributes or methods\n",
    "class Employee:\n",
    "    pass"
   ]
  },
  {
   "cell_type": "code",
   "execution_count": 17,
   "id": "e129062b",
   "metadata": {},
   "outputs": [],
   "source": [
    "emp1=Employee()\n",
    "emp2=Employee()"
   ]
  },
  {
   "cell_type": "code",
   "execution_count": 18,
   "id": "c3b7d5f7",
   "metadata": {},
   "outputs": [
    {
     "name": "stdout",
     "output_type": "stream",
     "text": [
      "<__main__.Employee object at 0x0000022A93FDEA90>\n",
      "<__main__.Employee object at 0x0000022A93FDED90>\n"
     ]
    }
   ],
   "source": [
    "print(emp1)\n",
    "print(emp2)"
   ]
  },
  {
   "cell_type": "code",
   "execution_count": 19,
   "id": "d9ccd144",
   "metadata": {},
   "outputs": [
    {
     "name": "stdout",
     "output_type": "stream",
     "text": [
      "<class '__main__.Employee'>\n"
     ]
    }
   ],
   "source": [
    "emp=Employee\n",
    "print(emp)"
   ]
  },
  {
   "cell_type": "code",
   "execution_count": 20,
   "id": "1b34a8ee",
   "metadata": {},
   "outputs": [],
   "source": [
    "#Instance variables are unique to each instance of a class"
   ]
  },
  {
   "cell_type": "code",
   "execution_count": 21,
   "id": "b3ac88f7",
   "metadata": {},
   "outputs": [],
   "source": [
    "emp1.first=\"John\"\n",
    "emp1.last=\"Snow\"\n",
    "emp1.email=\"JS@gmail.com\"\n",
    "emp1.pay=11111"
   ]
  },
  {
   "cell_type": "code",
   "execution_count": 22,
   "id": "0fdb3ca8",
   "metadata": {},
   "outputs": [],
   "source": [
    "emp2.first=\"Arya\"\n",
    "emp2.last=\"Stark\"\n",
    "emp2.email=\"AS@gmail.com\"\n",
    "emp2.pay=98765"
   ]
  },
  {
   "cell_type": "code",
   "execution_count": 23,
   "id": "0564a74b",
   "metadata": {},
   "outputs": [
    {
     "name": "stdout",
     "output_type": "stream",
     "text": [
      "JS@gmail.com\n",
      "AS@gmail.com\n"
     ]
    }
   ],
   "source": [
    "print(emp1.email)\n",
    "print(emp2.email)"
   ]
  },
  {
   "cell_type": "code",
   "execution_count": 24,
   "id": "14ad61e8",
   "metadata": {},
   "outputs": [],
   "source": [
    "#Following the above method is not the best way because we have to add each variable one at a time"
   ]
  },
  {
   "cell_type": "code",
   "execution_count": 25,
   "id": "6ca27f80",
   "metadata": {},
   "outputs": [],
   "source": [
    "#init method\n",
    "#It is a special method which is a constructor used to initiate an instance with specific values"
   ]
  },
  {
   "cell_type": "code",
   "execution_count": 26,
   "id": "661d54fe",
   "metadata": {},
   "outputs": [],
   "source": [
    "#Simple class with init method\n",
    "class Employee:\n",
    "    def __init__(self,first,last,pay):\n",
    "        self.first=first\n",
    "        self.last=last\n",
    "        self.pay=pay\n",
    "        self.email=first+last+\"@gmail.com\""
   ]
  },
  {
   "cell_type": "code",
   "execution_count": 27,
   "id": "51690a84",
   "metadata": {},
   "outputs": [
    {
     "name": "stdout",
     "output_type": "stream",
     "text": [
      "<__main__.Employee object at 0x0000022A9402D790>\n",
      "<__main__.Employee object at 0x0000022A9402D220>\n"
     ]
    }
   ],
   "source": [
    "emp1 = Employee(\"Mohan\",\"Das\",98422)\n",
    "emp2 = Employee(\"Corey\",\"Best\",108323)\n",
    "print(emp1)\n",
    "print(emp2)"
   ]
  },
  {
   "cell_type": "code",
   "execution_count": 28,
   "id": "e5ed9a3a",
   "metadata": {},
   "outputs": [
    {
     "data": {
      "text/plain": [
       "'MohanDas@gmail.com'"
      ]
     },
     "execution_count": 28,
     "metadata": {},
     "output_type": "execute_result"
    }
   ],
   "source": [
    "emp1.email"
   ]
  },
  {
   "cell_type": "code",
   "execution_count": 29,
   "id": "4cffecb0",
   "metadata": {},
   "outputs": [
    {
     "name": "stdout",
     "output_type": "stream",
     "text": [
      "Karan\n"
     ]
    }
   ],
   "source": [
    "emp1.first=\"Karan\"\n",
    "print(emp1.first)\n"
   ]
  },
  {
   "cell_type": "code",
   "execution_count": 30,
   "id": "771cd176",
   "metadata": {},
   "outputs": [
    {
     "name": "stdout",
     "output_type": "stream",
     "text": [
      "CoreyBest@gmail.com\n"
     ]
    }
   ],
   "source": [
    "print(emp2.email)"
   ]
  },
  {
   "cell_type": "code",
   "execution_count": 31,
   "id": "7637ab70",
   "metadata": {},
   "outputs": [],
   "source": [
    "#Adding methods inside a class"
   ]
  },
  {
   "cell_type": "code",
   "execution_count": 33,
   "id": "858cf37a",
   "metadata": {},
   "outputs": [],
   "source": [
    "#class with init and other methods\n",
    "class Employee:\n",
    "    def __init__(self,first,last,pay):\n",
    "        self.first=first\n",
    "        self.last=last\n",
    "        self.pay=pay\n",
    "        self.email=first+last+\"@gmail.com\"\n",
    "    \n",
    "    def full_name(self):\n",
    "        self.full_name=self.first+self.last\n",
    "        return self.full_name\n",
    "\n"
   ]
  },
  {
   "cell_type": "code",
   "execution_count": 34,
   "id": "1ae5b968",
   "metadata": {},
   "outputs": [
    {
     "name": "stdout",
     "output_type": "stream",
     "text": [
      "<__main__.Employee object at 0x0000022A93FDE880>\n",
      "<__main__.Employee object at 0x0000022A93FDEDF0>\n"
     ]
    }
   ],
   "source": [
    "emp1 = Employee(\"Mohan\",\"Das\",98422)\n",
    "emp2 = Employee(\"Corey\",\"Best\",108323)\n",
    "print(emp1)\n",
    "print(emp2)"
   ]
  },
  {
   "cell_type": "code",
   "execution_count": 35,
   "id": "e5f1d356",
   "metadata": {},
   "outputs": [
    {
     "name": "stdout",
     "output_type": "stream",
     "text": [
      "MohanDas\n"
     ]
    }
   ],
   "source": [
    "print(emp1.full_name())"
   ]
  },
  {
   "cell_type": "code",
   "execution_count": 17,
   "id": "b8f27966",
   "metadata": {},
   "outputs": [
    {
     "data": {
      "text/plain": [
       "'CoreyBest'"
      ]
     },
     "execution_count": 17,
     "metadata": {},
     "output_type": "execute_result"
    }
   ],
   "source": [
    "Employee.full_name(emp2)#This runs in the background when we try emp1.full_name()"
   ]
  },
  {
   "cell_type": "code",
   "execution_count": null,
   "id": "d6b5b50d",
   "metadata": {},
   "outputs": [],
   "source": []
  }
 ],
 "metadata": {
  "kernelspec": {
   "display_name": "Python 3",
   "language": "python",
   "name": "python3"
  },
  "language_info": {
   "codemirror_mode": {
    "name": "ipython",
    "version": 3
   },
   "file_extension": ".py",
   "mimetype": "text/x-python",
   "name": "python",
   "nbconvert_exporter": "python",
   "pygments_lexer": "ipython3",
   "version": "3.8.8"
  }
 },
 "nbformat": 4,
 "nbformat_minor": 5
}
