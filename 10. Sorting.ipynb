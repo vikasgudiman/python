{
 "cells": [
  {
   "cell_type": "code",
   "execution_count": 8,
   "id": "f2a1938a",
   "metadata": {},
   "outputs": [],
   "source": [
    "li = [10,5,24,2,441,21,55]\n"
   ]
  },
  {
   "cell_type": "code",
   "execution_count": 10,
   "id": "0c2a6f70",
   "metadata": {},
   "outputs": [
    {
     "name": "stdout",
     "output_type": "stream",
     "text": [
      "Sorted list:  [2, 5, 10, 21, 24, 55, 441]\n",
      "Original list:  [10, 5, 24, 2, 441, 21, 55]\n"
     ]
    }
   ],
   "source": [
    "s_li=sorted(li)\n",
    "print(\"Sorted list: \",s_li)\n",
    "print(\"Original list: \",li)"
   ]
  },
  {
   "cell_type": "code",
   "execution_count": 11,
   "id": "dc045c24",
   "metadata": {},
   "outputs": [
    {
     "name": "stdout",
     "output_type": "stream",
     "text": [
      "[2, 5, 10, 21, 24, 55, 441]\n"
     ]
    }
   ],
   "source": [
    "li.sort()\n",
    "print(li)"
   ]
  },
  {
   "cell_type": "code",
   "execution_count": 13,
   "id": "98329ac8",
   "metadata": {},
   "outputs": [
    {
     "data": {
      "text/plain": [
       "[441, 55, 24, 21, 10, 5, 2]"
      ]
     },
     "execution_count": 13,
     "metadata": {},
     "output_type": "execute_result"
    }
   ],
   "source": [
    "li.sort(reverse=True)\n",
    "li"
   ]
  },
  {
   "cell_type": "code",
   "execution_count": 14,
   "id": "efc9b4b9",
   "metadata": {},
   "outputs": [
    {
     "data": {
      "text/plain": [
       "[2, 5, 10, 21, 24, 55, 441]"
      ]
     },
     "execution_count": 14,
     "metadata": {},
     "output_type": "execute_result"
    }
   ],
   "source": [
    "li = (10,5,24,2,441,21,55)\n",
    "#This is a tuple because of which it doesnot have a sort function so we can use sorted\n",
    "S_li = sorted(li)\n",
    "S_li"
   ]
  },
  {
   "cell_type": "code",
   "execution_count": 19,
   "id": "5e293258",
   "metadata": {},
   "outputs": [
    {
     "data": {
      "text/plain": [
       "['Job', 'Last', 'Name', 'age']"
      ]
     },
     "execution_count": 19,
     "metadata": {},
     "output_type": "execute_result"
    }
   ],
   "source": [
    "di = {\"Name\":\"Mohan\",\"Last\":\"Das\",\"Job\":\"Programmer\",\"age\":None}\n",
    "sorted(di)#It will sort the keys and gives us the output"
   ]
  },
  {
   "cell_type": "code",
   "execution_count": 17,
   "id": "fe32e86f",
   "metadata": {},
   "outputs": [],
   "source": [
    "#We use sorted most of the time to retain the original list values"
   ]
  },
  {
   "cell_type": "code",
   "execution_count": 20,
   "id": "f1725f3b",
   "metadata": {},
   "outputs": [
    {
     "data": {
      "text/plain": [
       "[-33, -6, -5, 2, 3, 55]"
      ]
     },
     "execution_count": 20,
     "metadata": {},
     "output_type": "execute_result"
    }
   ],
   "source": [
    "li=[-6,-5,-33,2,55,3]\n",
    "s_li=sorted(li)\n",
    "s_li"
   ]
  },
  {
   "cell_type": "code",
   "execution_count": 21,
   "id": "8cbdbca9",
   "metadata": {},
   "outputs": [
    {
     "data": {
      "text/plain": [
       "[2, 3, -5, -6, -33, 55]"
      ]
     },
     "execution_count": 21,
     "metadata": {},
     "output_type": "execute_result"
    }
   ],
   "source": [
    "li=[-6,-5,-33,2,55,3]#absolute sorting\n",
    "s_li=sorted(li,key=abs)\n",
    "s_li"
   ]
  },
  {
   "cell_type": "code",
   "execution_count": null,
   "id": "4788c1ee",
   "metadata": {},
   "outputs": [],
   "source": []
  }
 ],
 "metadata": {
  "kernelspec": {
   "display_name": "Python 3",
   "language": "python",
   "name": "python3"
  },
  "language_info": {
   "codemirror_mode": {
    "name": "ipython",
    "version": 3
   },
   "file_extension": ".py",
   "mimetype": "text/x-python",
   "name": "python",
   "nbconvert_exporter": "python",
   "pygments_lexer": "ipython3",
   "version": "3.8.8"
  }
 },
 "nbformat": 4,
 "nbformat_minor": 5
}
