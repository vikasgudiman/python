{
 "cells": [
  {
   "cell_type": "code",
   "execution_count": 4,
   "id": "4bb94374",
   "metadata": {},
   "outputs": [],
   "source": [
    "#Difference between regular methods, class methods and static methods\n",
    "#Regular methods automatically takes instance as the first argument\n",
    "#Class methods automatically takes class as the first argument"
   ]
  },
  {
   "cell_type": "code",
   "execution_count": 1,
   "id": "4f1eb833",
   "metadata": {},
   "outputs": [
    {
     "name": "stdout",
     "output_type": "stream",
     "text": [
      "40\n",
      "40\n"
     ]
    }
   ],
   "source": [
    "class Employee:\n",
    "    number_of_emps=0\n",
    "    raise_percent=40\n",
    "    def __init__(self,first,last,pay):\n",
    "        self.first=first\n",
    "        self.last=last\n",
    "        self.pay=pay\n",
    "        self.email=first+last+\"@gmail.com\"\n",
    "        Employee.number_of_emps+=1\n",
    "    def full_name(self):\n",
    "        self.full_name=self.email=self.first+self.last\n",
    "        return self.full_name\n",
    "\n",
    "    def apply_raise(self):\n",
    "        self.pay= int(self.pay*(self.raise_percent+100)/100)\n",
    "        \n",
    "    @classmethod #used to perform methods with class and change attributes of class unlike self\n",
    "    def set_raise_percent(cls,amount):#class is used to create a class. cls is used for methods like self\n",
    "        cls.raise_percent = amount\n",
    "    \n",
    "    \n",
    "print(Employee.raise_percent)\n",
    "emp1=Employee(\"Mohan\",\"Das\",12000)\n",
    "print(emp1.raise_percent)"
   ]
  },
  {
   "cell_type": "code",
   "execution_count": 2,
   "id": "b9584bbc",
   "metadata": {},
   "outputs": [],
   "source": [
    "Employee.set_raise_percent(70)"
   ]
  },
  {
   "cell_type": "code",
   "execution_count": 3,
   "id": "56bb0d2a",
   "metadata": {},
   "outputs": [
    {
     "name": "stdout",
     "output_type": "stream",
     "text": [
      "70\n",
      "70\n"
     ]
    }
   ],
   "source": [
    "print(emp1.raise_percent)\n",
    "print(Employee.raise_percent)"
   ]
  },
  {
   "cell_type": "code",
   "execution_count": 4,
   "id": "2c062942",
   "metadata": {},
   "outputs": [
    {
     "name": "stdout",
     "output_type": "stream",
     "text": [
      "45\n",
      "45\n"
     ]
    }
   ],
   "source": [
    "#class variables can also be changed using instances but is not generally prefered\n",
    "Employee.set_raise_percent(45)\n",
    "print(emp1.raise_percent)\n",
    "print(Employee.raise_percent)"
   ]
  },
  {
   "cell_type": "code",
   "execution_count": 12,
   "id": "b01fd20a",
   "metadata": {},
   "outputs": [],
   "source": [
    "emps1=\"John-Cena-12000\"\n",
    "emps2=\"kane-Will-52600\"\n",
    "emps3=\"Mohan-Das-97654\""
   ]
  },
  {
   "cell_type": "code",
   "execution_count": 21,
   "id": "2d993311",
   "metadata": {},
   "outputs": [
    {
     "name": "stdout",
     "output_type": "stream",
     "text": [
      "JohnCena@gmail.com\n",
      "True\n"
     ]
    }
   ],
   "source": [
    "import datetime\n",
    "class Employee:\n",
    "    number_of_emps=0\n",
    "    raise_percent=40\n",
    "    def __init__(self,first,last,pay):\n",
    "        self.first=first\n",
    "        self.last=last\n",
    "        self.pay=pay\n",
    "        self.email=first+last+\"@gmail.com\"\n",
    "        Employee.number_of_emps+=1\n",
    "    def full_name(self):\n",
    "        self.full_name=self.email=self.first+self.last\n",
    "        return self.full_name\n",
    "\n",
    "    def apply_raise(self):\n",
    "        self.pay= int(self.pay*(self.raise_percent+100)/100)\n",
    "        \n",
    "    @classmethod #used to perform methods with class and change attributes of class unlike self\n",
    "    def set_raise_percent(cls,amount):#class is used to create a class. cls is used for methods like self\n",
    "        cls.raise_percent = amount\n",
    "    \n",
    "    @classmethod\n",
    "    def from_string(cls,emp_string):\n",
    "        first, last, pay= emp_string.split('-')\n",
    "        return cls(first,last,pay)\n",
    "    @staticmethod#dont pass self or cls as an argument. Doesnt depend on specific instance or class\n",
    "    def is_workday(day):\n",
    "        if day.weekday() ==5 or day.weekday()==6:\n",
    "            return False\n",
    "        else:\n",
    "            return True\n",
    "    \n",
    "        \n",
    "emp1 = Employee.from_string(emps1)\n",
    "print(emp1.email)\n",
    "print(emp1.is_workday(datetime.date(2020,1,1)))"
   ]
  },
  {
   "cell_type": "code",
   "execution_count": null,
   "id": "3f10d11d",
   "metadata": {},
   "outputs": [],
   "source": []
  }
 ],
 "metadata": {
  "kernelspec": {
   "display_name": "Python 3",
   "language": "python",
   "name": "python3"
  },
  "language_info": {
   "codemirror_mode": {
    "name": "ipython",
    "version": 3
   },
   "file_extension": ".py",
   "mimetype": "text/x-python",
   "name": "python",
   "nbconvert_exporter": "python",
   "pygments_lexer": "ipython3",
   "version": "3.8.8"
  }
 },
 "nbformat": 4,
 "nbformat_minor": 5
}
