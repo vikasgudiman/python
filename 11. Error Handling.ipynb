{
 "cells": [
  {
   "cell_type": "code",
   "execution_count": 1,
   "id": "917a20e7",
   "metadata": {},
   "outputs": [],
   "source": [
    "try:\n",
    "    pass\n",
    "except:\n",
    "    pass\n",
    "else:\n",
    "    pass\n",
    "finally:\n",
    "    pass"
   ]
  },
  {
   "cell_type": "code",
   "execution_count": 2,
   "id": "f1f7c75b",
   "metadata": {},
   "outputs": [
    {
     "ename": "FileNotFoundError",
     "evalue": "[Errno 2] No such file or directory: 'abc.txt'",
     "output_type": "error",
     "traceback": [
      "\u001b[1;31m---------------------------------------------------------------------------\u001b[0m",
      "\u001b[1;31mFileNotFoundError\u001b[0m                         Traceback (most recent call last)",
      "\u001b[1;32m<ipython-input-2-ea2d169befaa>\u001b[0m in \u001b[0;36m<module>\u001b[1;34m\u001b[0m\n\u001b[0;32m      1\u001b[0m \u001b[1;31m#opening a file with does not exist\u001b[0m\u001b[1;33m\u001b[0m\u001b[1;33m\u001b[0m\u001b[1;33m\u001b[0m\u001b[0m\n\u001b[1;32m----> 2\u001b[1;33m \u001b[0mf\u001b[0m \u001b[1;33m=\u001b[0m \u001b[0mopen\u001b[0m\u001b[1;33m(\u001b[0m\u001b[1;34m'abc.txt'\u001b[0m\u001b[1;33m,\u001b[0m\u001b[1;34m'r'\u001b[0m\u001b[1;33m)\u001b[0m\u001b[1;31m#We are getting an error. We dont want to display something like this because it stops the code.\u001b[0m\u001b[1;33m\u001b[0m\u001b[1;33m\u001b[0m\u001b[0m\n\u001b[0m\u001b[0;32m      3\u001b[0m \u001b[0mprint\u001b[0m\u001b[1;33m(\u001b[0m\u001b[1;34m\"done\"\u001b[0m\u001b[1;33m)\u001b[0m\u001b[1;33m\u001b[0m\u001b[1;33m\u001b[0m\u001b[0m\n",
      "\u001b[1;31mFileNotFoundError\u001b[0m: [Errno 2] No such file or directory: 'abc.txt'"
     ]
    }
   ],
   "source": [
    "#opening a file with does not exist\n",
    "f = open('abc.txt','r')#We are getting an error. We dont want to display something like this because it stops the code.\n",
    "print(\"done\")"
   ]
  },
  {
   "cell_type": "code",
   "execution_count": 4,
   "id": "f335d980",
   "metadata": {},
   "outputs": [
    {
     "name": "stdout",
     "output_type": "stream",
     "text": [
      "Sorry! File doesnt exist\n",
      "done\n"
     ]
    },
    {
     "ename": "NameError",
     "evalue": "name 'v' is not defined",
     "output_type": "error",
     "traceback": [
      "\u001b[1;31m---------------------------------------------------------------------------\u001b[0m",
      "\u001b[1;31mNameError\u001b[0m                                 Traceback (most recent call last)",
      "\u001b[1;32m<ipython-input-4-509b60a6b941>\u001b[0m in \u001b[0;36m<module>\u001b[1;34m\u001b[0m\n\u001b[0;32m      4\u001b[0m     \u001b[0mprint\u001b[0m\u001b[1;33m(\u001b[0m\u001b[1;34m\"Sorry! File doesnt exist\"\u001b[0m\u001b[1;33m)\u001b[0m\u001b[1;33m\u001b[0m\u001b[1;33m\u001b[0m\u001b[0m\n\u001b[0;32m      5\u001b[0m \u001b[0mprint\u001b[0m\u001b[1;33m(\u001b[0m\u001b[1;34m\"done\"\u001b[0m\u001b[1;33m)\u001b[0m\u001b[1;33m\u001b[0m\u001b[1;33m\u001b[0m\u001b[0m\n\u001b[1;32m----> 6\u001b[1;33m \u001b[0mvar\u001b[0m\u001b[1;33m=\u001b[0m\u001b[0mv\u001b[0m\u001b[1;33m\u001b[0m\u001b[1;33m\u001b[0m\u001b[0m\n\u001b[0m",
      "\u001b[1;31mNameError\u001b[0m: name 'v' is not defined"
     ]
    }
   ],
   "source": [
    "try:\n",
    "    f = open('abc.txt','r')\n",
    "except Exception:#Catching an exception\n",
    "    print(\"Sorry! File doesnt exist\")\n",
    "print(\"done\")\n"
   ]
  },
  {
   "cell_type": "code",
   "execution_count": 3,
   "id": "a7b98592",
   "metadata": {},
   "outputs": [
    {
     "name": "stdout",
     "output_type": "stream",
     "text": [
      "Sorry! File doesnt exist\n",
      "Done catching the exception but what we are printing for the exception is wrong\n"
     ]
    }
   ],
   "source": [
    "try:\n",
    "    f = open('test.txt','r')\n",
    "    var=v\n",
    "except Exception:#Catching an exception but giving us the wrong result because we are able to open the file but the second line is an error.\n",
    "    print(\"Sorry! File doesnt exist\")\n",
    "print(\"Done catching the exception but what we are printing for the exception is wrong\")"
   ]
  },
  {
   "cell_type": "code",
   "execution_count": 5,
   "id": "6a2f2e85",
   "metadata": {},
   "outputs": [
    {
     "name": "stdout",
     "output_type": "stream",
     "text": [
      "Sorry! It is a name error\n",
      "Done\n"
     ]
    }
   ],
   "source": [
    "try:\n",
    "    f = open('test.txt','r')\n",
    "    var=v\n",
    "except FileNotFoundError:#Catching the correct exception\n",
    "    print(\"Sorry! File doesnt exist\")\n",
    "except NameError:\n",
    "    print(\"Sorry! It is a name error\")\n",
    "print(\"Done\")\n",
    "#We should try to put specific exceptions at the top and general exceptions or exception itself in the bottom"
   ]
  },
  {
   "cell_type": "code",
   "execution_count": 6,
   "id": "5153ecb5",
   "metadata": {},
   "outputs": [
    {
     "name": "stdout",
     "output_type": "stream",
     "text": [
      "Sorry! It is a name error\n",
      "Done\n"
     ]
    }
   ],
   "source": [
    "try:\n",
    "    f = open('test.txt','r')\n",
    "    var=v\n",
    "except FileNotFoundError:#Catching the correct exception\n",
    "    print(\"Sorry! File doesnt exist\")\n",
    "except NameError:\n",
    "    print(\"Sorry! It is a name error\")\n",
    "except Exception:#Catching another general exception\n",
    "    print(\"Sorry! Some other error\")\n",
    "print(\"Done\")"
   ]
  },
  {
   "cell_type": "code",
   "execution_count": 28,
   "id": "8ae9d795",
   "metadata": {},
   "outputs": [
    {
     "name": "stdout",
     "output_type": "stream",
     "text": [
      "Sorry! File doesnt exist\n",
      "[Errno 2] No such file or directory: 'uu.txt'\n",
      "Done\n"
     ]
    }
   ],
   "source": [
    "try:\n",
    "    f = open('uu.txt','r')    \n",
    "except FileNotFoundError as e:#Catching the correct exception\n",
    "    print(\"Sorry! File doesnt exist\")\n",
    "    print(e)#Printing the exception without throwing any error\n",
    "except NameError as e:\n",
    "    print(\"Sorry! It is a name error\")\n",
    "    print(e)\n",
    "except Exception as e:\n",
    "    print(\"Sorry! Some other error\")\n",
    "    print(e)\n",
    "print(\"Done\")"
   ]
  },
  {
   "cell_type": "code",
   "execution_count": 7,
   "id": "8644fc58",
   "metadata": {},
   "outputs": [
    {
     "name": "stdout",
     "output_type": "stream",
     "text": [
      "Sorry! It is a name error\n",
      "name 'v' is not defined\n",
      "Done\n"
     ]
    }
   ],
   "source": [
    "try:\n",
    "    f = open('test.txt','r')\n",
    "    var=v\n",
    "except FileNotFoundError as e:#Catching the correct exception\n",
    "    print(\"Sorry! File doesnt exist\")\n",
    "    print(e)\n",
    "except NameError as e:\n",
    "    print(\"Sorry! It is a name error\")\n",
    "    print(e)\n",
    "except Exception as e:\n",
    "    print(\"Sorry! Some other error\")\n",
    "    print(e)\n",
    "print(\"Done\")"
   ]
  },
  {
   "cell_type": "code",
   "execution_count": 22,
   "id": "ba20ba5b",
   "metadata": {},
   "outputs": [
    {
     "name": "stdout",
     "output_type": "stream",
     "text": [
      "Sorry! Some other error\n",
      "open() argument 'mode' must be str, not int\n",
      "Done\n"
     ]
    }
   ],
   "source": [
    "try:\n",
    "    f = open('test.txt',1)\n",
    "    var=v\n",
    "except FileNotFoundError as e:#Catching the correct exception\n",
    "    print(\"Sorry! File doesnt exist\")\n",
    "    print(e)\n",
    "except NameError as e:\n",
    "    print(\"Sorry! It is a name error\")\n",
    "    print(e)\n",
    "except Exception as e:\n",
    "    print(\"Sorry! Some other error\")\n",
    "    print(e)\n",
    "\n",
    "print(\"Done\")"
   ]
  },
  {
   "cell_type": "code",
   "execution_count": 29,
   "id": "4fd8f29b",
   "metadata": {},
   "outputs": [
    {
     "name": "stdout",
     "output_type": "stream",
     "text": [
      "I am doing great!\n",
      "How are you?\n",
      "\n",
      "Done\n"
     ]
    }
   ],
   "source": [
    "#else statement\n",
    "try:\n",
    "    f = open('test.txt','r')\n",
    "except FileNotFoundError as e:#Catching the correct exception\n",
    "    print(\"Sorry! File doesnt exist\")\n",
    "    print(e)\n",
    "except NameError as e:\n",
    "    print(\"Sorry! It is a name error\")\n",
    "    print(e)\n",
    "except Exception as e:\n",
    "    print(\"Sorry! Some other error\")\n",
    "    print(e)\n",
    "else:\n",
    "    text=f.read()\n",
    "    print(text)\n",
    "print(\"Done\")"
   ]
  },
  {
   "cell_type": "code",
   "execution_count": 31,
   "id": "f98c80d3",
   "metadata": {},
   "outputs": [
    {
     "name": "stdout",
     "output_type": "stream",
     "text": [
      "I am doing great!\n",
      "How are you?\n",
      "\n",
      "Done with try and exception\n",
      "Done\n"
     ]
    }
   ],
   "source": [
    "#else statement\n",
    "try:\n",
    "    f = open('test.txt','r')\n",
    "except FileNotFoundError as e:#Catching the correct exception\n",
    "    print(\"Sorry! File doesnt exist\")\n",
    "    print(e)\n",
    "except NameError as e:\n",
    "    print(\"Sorry! It is a name error\")\n",
    "    print(e)\n",
    "except Exception as e:\n",
    "    print(\"Sorry! Some other error\")\n",
    "    print(e)\n",
    "else:#Only runs if we dont throw an exception\n",
    "    text=f.read()\n",
    "    print(text)\n",
    "finally:\n",
    "    print(\"Done with try and exception\")\n",
    "print(\"Done\")"
   ]
  },
  {
   "cell_type": "code",
   "execution_count": null,
   "id": "05d2066d",
   "metadata": {},
   "outputs": [],
   "source": []
  }
 ],
 "metadata": {
  "kernelspec": {
   "display_name": "Python 3",
   "language": "python",
   "name": "python3"
  },
  "language_info": {
   "codemirror_mode": {
    "name": "ipython",
    "version": 3
   },
   "file_extension": ".py",
   "mimetype": "text/x-python",
   "name": "python",
   "nbconvert_exporter": "python",
   "pygments_lexer": "ipython3",
   "version": "3.8.8"
  }
 },
 "nbformat": 4,
 "nbformat_minor": 5
}
