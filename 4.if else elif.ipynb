{
 "cells": [
  {
   "cell_type": "code",
   "execution_count": 11,
   "id": "e50fc93b",
   "metadata": {},
   "outputs": [
    {
     "name": "stdout",
     "output_type": "stream",
     "text": [
      "True\n"
     ]
    }
   ],
   "source": [
    "if True:\n",
    "    print(True)\n",
    "else:\n",
    "    print(False)"
   ]
  },
  {
   "cell_type": "code",
   "execution_count": 12,
   "id": "e38fa4f8",
   "metadata": {},
   "outputs": [
    {
     "name": "stdout",
     "output_type": "stream",
     "text": [
      "False\n"
     ]
    }
   ],
   "source": [
    "if False:\n",
    "    print(True)\n",
    "else:\n",
    "    print(False)"
   ]
  },
  {
   "cell_type": "code",
   "execution_count": 13,
   "id": "89e2ed48",
   "metadata": {},
   "outputs": [
    {
     "name": "stdout",
     "output_type": "stream",
     "text": [
      "not equal\n"
     ]
    }
   ],
   "source": [
    "a=3\n",
    "if a==1:\n",
    "    print('equal')\n",
    "else:\n",
    "    print('not equal')"
   ]
  },
  {
   "cell_type": "code",
   "execution_count": 14,
   "id": "d3e5c16c",
   "metadata": {},
   "outputs": [
    {
     "name": "stdout",
     "output_type": "stream",
     "text": [
      "equal\n"
     ]
    }
   ],
   "source": [
    "a=3\n",
    "if a==3:\n",
    "    print('equal')\n",
    "else:\n",
    "    print('not equal')"
   ]
  },
  {
   "cell_type": "code",
   "execution_count": 15,
   "id": "3a6db1d4",
   "metadata": {},
   "outputs": [
    {
     "name": "stdout",
     "output_type": "stream",
     "text": [
      "It is not Hindi\n"
     ]
    }
   ],
   "source": [
    "lang=\"English\"\n",
    "if lang==\"Hindi\":\n",
    "    print(\"It is Hindi\")\n",
    "else:\n",
    "    print(\"It is not Hindi\")"
   ]
  },
  {
   "cell_type": "code",
   "execution_count": 17,
   "id": "a6858b4d",
   "metadata": {},
   "outputs": [
    {
     "name": "stdout",
     "output_type": "stream",
     "text": [
      "It is some other language\n"
     ]
    }
   ],
   "source": [
    "lang=\"French\"\n",
    "if lang==\"Hindi\":\n",
    "    print(\"It is Hindi\")\n",
    "elif lang == \"Tamil\":\n",
    "    print(\"It is Tamil\")\n",
    "else:\n",
    "    print(\"It is some other language\")"
   ]
  },
  {
   "cell_type": "code",
   "execution_count": 24,
   "id": "f4ddbb35",
   "metadata": {},
   "outputs": [
    {
     "name": "stdout",
     "output_type": "stream",
     "text": [
      "Empty User\n"
     ]
    }
   ],
   "source": [
    "#and or and not\n",
    "user = \"\"\n",
    "gender = \"Male\"\n",
    "\n",
    "if user == \"Harry\" and gender == \"Male\":\n",
    "    print(user)\n",
    "\n",
    "if user:\n",
    "    print(gender)\n",
    "#user=\"\"\n",
    "if not user:\n",
    "    print(\"Empty User\")"
   ]
  },
  {
   "cell_type": "code",
   "execution_count": 8,
   "id": "f2b6c329",
   "metadata": {},
   "outputs": [
    {
     "name": "stdout",
     "output_type": "stream",
     "text": [
      "True\n",
      "False\n",
      "2112339902272\n",
      "2112340228672\n"
     ]
    }
   ],
   "source": [
    "a=[1,2,\"Hi\"]\n",
    "b=[1,2,\"Hi\"]\n",
    "print(a==b)\n",
    "print(a is b)\n",
    "print(id(a))\n",
    "print(id(b))"
   ]
  },
  {
   "cell_type": "code",
   "execution_count": 9,
   "id": "aa77860d",
   "metadata": {},
   "outputs": [
    {
     "name": "stdout",
     "output_type": "stream",
     "text": [
      "True\n",
      "True\n",
      "2112340229440\n",
      "2112340229440\n"
     ]
    }
   ],
   "source": [
    "a=[1,2,\"Hi\"]#b--->a---->[1,2,\"Hi\"] b---->[1,2,\"Hi\"]\n",
    "b=a\n",
    "print(a==b)\n",
    "print(a is b)\n",
    "print(id(a))\n",
    "print(id(b))"
   ]
  },
  {
   "cell_type": "code",
   "execution_count": 10,
   "id": "685b284d",
   "metadata": {},
   "outputs": [],
   "source": [
    "#False Values\n",
    "#Empty string,0,list,tuple,dictionary,set\n",
    "#False"
   ]
  },
  {
   "cell_type": "code",
   "execution_count": null,
   "id": "80832842",
   "metadata": {},
   "outputs": [],
   "source": []
  }
 ],
 "metadata": {
  "kernelspec": {
   "display_name": "Python 3",
   "language": "python",
   "name": "python3"
  },
  "language_info": {
   "codemirror_mode": {
    "name": "ipython",
    "version": 3
   },
   "file_extension": ".py",
   "mimetype": "text/x-python",
   "name": "python",
   "nbconvert_exporter": "python",
   "pygments_lexer": "ipython3",
   "version": "3.8.8"
  }
 },
 "nbformat": 4,
 "nbformat_minor": 5
}
