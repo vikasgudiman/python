{
 "cells": [
  {
   "cell_type": "code",
   "execution_count": 1,
   "id": "42d0796c",
   "metadata": {},
   "outputs": [],
   "source": [
    "import datetime"
   ]
  },
  {
   "cell_type": "code",
   "execution_count": 2,
   "id": "63841fbe",
   "metadata": {},
   "outputs": [],
   "source": [
    "d=datetime.date(2020,12,20)"
   ]
  },
  {
   "cell_type": "code",
   "execution_count": 3,
   "id": "cc5f9193",
   "metadata": {},
   "outputs": [
    {
     "data": {
      "text/plain": [
       "datetime.date(2020, 12, 20)"
      ]
     },
     "execution_count": 3,
     "metadata": {},
     "output_type": "execute_result"
    }
   ],
   "source": [
    "d"
   ]
  },
  {
   "cell_type": "code",
   "execution_count": 4,
   "id": "d90c7c1a",
   "metadata": {},
   "outputs": [],
   "source": [
    "d=datetime.date(2020,8,20)#Dont give 08 as month as it will not read 0 and throws an error"
   ]
  },
  {
   "cell_type": "code",
   "execution_count": 5,
   "id": "39bd1a36",
   "metadata": {},
   "outputs": [
    {
     "data": {
      "text/plain": [
       "datetime.date(2020, 8, 20)"
      ]
     },
     "execution_count": 5,
     "metadata": {},
     "output_type": "execute_result"
    }
   ],
   "source": [
    "d"
   ]
  },
  {
   "cell_type": "code",
   "execution_count": 6,
   "id": "78254a3d",
   "metadata": {},
   "outputs": [],
   "source": [
    "today=datetime.date.today()"
   ]
  },
  {
   "cell_type": "code",
   "execution_count": 7,
   "id": "f2e13101",
   "metadata": {},
   "outputs": [
    {
     "data": {
      "text/plain": [
       "datetime.date(2021, 4, 6)"
      ]
     },
     "execution_count": 7,
     "metadata": {},
     "output_type": "execute_result"
    }
   ],
   "source": [
    "today"
   ]
  },
  {
   "cell_type": "code",
   "execution_count": 8,
   "id": "30cf18bc",
   "metadata": {},
   "outputs": [
    {
     "data": {
      "text/plain": [
       "2021"
      ]
     },
     "execution_count": 8,
     "metadata": {},
     "output_type": "execute_result"
    }
   ],
   "source": [
    "today.year"
   ]
  },
  {
   "cell_type": "code",
   "execution_count": 9,
   "id": "d6e246f4",
   "metadata": {},
   "outputs": [
    {
     "data": {
      "text/plain": [
       "4"
      ]
     },
     "execution_count": 9,
     "metadata": {},
     "output_type": "execute_result"
    }
   ],
   "source": [
    "today.month"
   ]
  },
  {
   "cell_type": "code",
   "execution_count": 10,
   "id": "15c1dbe5",
   "metadata": {},
   "outputs": [
    {
     "data": {
      "text/plain": [
       "6"
      ]
     },
     "execution_count": 10,
     "metadata": {},
     "output_type": "execute_result"
    }
   ],
   "source": [
    "today.day"
   ]
  },
  {
   "cell_type": "code",
   "execution_count": 11,
   "id": "35ecc2e2",
   "metadata": {},
   "outputs": [
    {
     "data": {
      "text/plain": [
       "1"
      ]
     },
     "execution_count": 11,
     "metadata": {},
     "output_type": "execute_result"
    }
   ],
   "source": [
    "today.weekday()#Monday->0 and Sunday->6"
   ]
  },
  {
   "cell_type": "code",
   "execution_count": 12,
   "id": "6108ff3d",
   "metadata": {},
   "outputs": [
    {
     "data": {
      "text/plain": [
       "2"
      ]
     },
     "execution_count": 12,
     "metadata": {},
     "output_type": "execute_result"
    }
   ],
   "source": [
    "today.isoweekday()#Monday->1 and Sunday->7"
   ]
  },
  {
   "cell_type": "code",
   "execution_count": 13,
   "id": "fbb5218e",
   "metadata": {},
   "outputs": [
    {
     "data": {
      "text/plain": [
       "datetime.date(2021, 4, 13)"
      ]
     },
     "execution_count": 13,
     "metadata": {},
     "output_type": "execute_result"
    }
   ],
   "source": [
    "#timedeltas-> usefull for difference between days etc\n",
    "#date2 = date1 + timedelta(days)\n",
    "tdelta=datetime.timedelta(days=7)\n",
    "day=today+tdelta\n",
    "day"
   ]
  },
  {
   "cell_type": "code",
   "execution_count": 14,
   "id": "f3560baa",
   "metadata": {},
   "outputs": [
    {
     "data": {
      "text/plain": [
       "datetime.date(2021, 3, 30)"
      ]
     },
     "execution_count": 14,
     "metadata": {},
     "output_type": "execute_result"
    }
   ],
   "source": [
    "#date2 = date1 - timedelta(days)\n",
    "tdelta=datetime.timedelta(days=7)\n",
    "day=today-tdelta\n",
    "day"
   ]
  },
  {
   "cell_type": "code",
   "execution_count": 15,
   "id": "b5b7de04",
   "metadata": {},
   "outputs": [
    {
     "data": {
      "text/plain": [
       "datetime.timedelta(days=7)"
      ]
     },
     "execution_count": 15,
     "metadata": {},
     "output_type": "execute_result"
    }
   ],
   "source": [
    "#timedelta(days) = date1 - date1\n",
    "today-day"
   ]
  },
  {
   "cell_type": "code",
   "execution_count": 16,
   "id": "b5fc2834",
   "metadata": {},
   "outputs": [],
   "source": [
    "#Number of days till end of the year\n",
    "eday=datetime.date(2021,12,31)"
   ]
  },
  {
   "cell_type": "code",
   "execution_count": 17,
   "id": "a542f7f4",
   "metadata": {},
   "outputs": [
    {
     "data": {
      "text/plain": [
       "datetime.timedelta(days=269)"
      ]
     },
     "execution_count": 17,
     "metadata": {},
     "output_type": "execute_result"
    }
   ],
   "source": [
    "td=eday-today\n",
    "td"
   ]
  },
  {
   "cell_type": "code",
   "execution_count": 18,
   "id": "a98ded42",
   "metadata": {},
   "outputs": [
    {
     "data": {
      "text/plain": [
       "269"
      ]
     },
     "execution_count": 18,
     "metadata": {},
     "output_type": "execute_result"
    }
   ],
   "source": [
    "td.days"
   ]
  },
  {
   "cell_type": "code",
   "execution_count": 19,
   "id": "b565a1c2",
   "metadata": {},
   "outputs": [
    {
     "data": {
      "text/plain": [
       "int"
      ]
     },
     "execution_count": 19,
     "metadata": {},
     "output_type": "execute_result"
    }
   ],
   "source": [
    "type(td.days)"
   ]
  },
  {
   "cell_type": "code",
   "execution_count": 20,
   "id": "f9994320",
   "metadata": {},
   "outputs": [
    {
     "data": {
      "text/plain": [
       "23241600.0"
      ]
     },
     "execution_count": 20,
     "metadata": {},
     "output_type": "execute_result"
    }
   ],
   "source": [
    "td.total_seconds()#number of seconds taken"
   ]
  },
  {
   "cell_type": "code",
   "execution_count": 21,
   "id": "a0e56133",
   "metadata": {},
   "outputs": [],
   "source": [
    "#datetime.time()hours,mins,secs,microseconds\n",
    "t=datetime.time(9,30,45,200000)"
   ]
  },
  {
   "cell_type": "code",
   "execution_count": 22,
   "id": "3bff0251",
   "metadata": {},
   "outputs": [
    {
     "data": {
      "text/plain": [
       "datetime.time(9, 30, 45, 200000)"
      ]
     },
     "execution_count": 22,
     "metadata": {},
     "output_type": "execute_result"
    }
   ],
   "source": [
    "t"
   ]
  },
  {
   "cell_type": "code",
   "execution_count": 23,
   "id": "2302a01f",
   "metadata": {},
   "outputs": [
    {
     "data": {
      "text/plain": [
       "9"
      ]
     },
     "execution_count": 23,
     "metadata": {},
     "output_type": "execute_result"
    }
   ],
   "source": [
    "t.hour"
   ]
  },
  {
   "cell_type": "code",
   "execution_count": 24,
   "id": "9ef93893",
   "metadata": {},
   "outputs": [
    {
     "data": {
      "text/plain": [
       "30"
      ]
     },
     "execution_count": 24,
     "metadata": {},
     "output_type": "execute_result"
    }
   ],
   "source": [
    "t.minute"
   ]
  },
  {
   "cell_type": "code",
   "execution_count": 25,
   "id": "8b1c923b",
   "metadata": {},
   "outputs": [
    {
     "data": {
      "text/plain": [
       "45"
      ]
     },
     "execution_count": 25,
     "metadata": {},
     "output_type": "execute_result"
    }
   ],
   "source": [
    "t.second"
   ]
  },
  {
   "cell_type": "code",
   "execution_count": 26,
   "id": "7f2dcc5e",
   "metadata": {},
   "outputs": [],
   "source": [
    "#Datetime.datetime gives us both date and time\n",
    "dt=datetime.datetime(2016,7,21,12,20,45,56000)"
   ]
  },
  {
   "cell_type": "code",
   "execution_count": 27,
   "id": "016e3cfc",
   "metadata": {},
   "outputs": [
    {
     "data": {
      "text/plain": [
       "datetime.date(2016, 7, 21)"
      ]
     },
     "execution_count": 27,
     "metadata": {},
     "output_type": "execute_result"
    }
   ],
   "source": [
    "dt.date()"
   ]
  },
  {
   "cell_type": "code",
   "execution_count": 28,
   "id": "fbc59e23",
   "metadata": {},
   "outputs": [
    {
     "data": {
      "text/plain": [
       "datetime.time(12, 20, 45, 56000)"
      ]
     },
     "execution_count": 28,
     "metadata": {},
     "output_type": "execute_result"
    }
   ],
   "source": [
    "dt.time()"
   ]
  },
  {
   "cell_type": "code",
   "execution_count": 29,
   "id": "c1798337",
   "metadata": {},
   "outputs": [
    {
     "name": "stdout",
     "output_type": "stream",
     "text": [
      "2016\n",
      "7\n",
      "21\n",
      "12\n",
      "20\n",
      "45\n",
      "56000\n"
     ]
    }
   ],
   "source": [
    "print(dt.year)\n",
    "print(dt.month)\n",
    "print(dt.day)\n",
    "print(dt.hour)\n",
    "print(dt.minute)\n",
    "print(dt.second)\n",
    "print(dt.microsecond)"
   ]
  },
  {
   "cell_type": "code",
   "execution_count": 30,
   "id": "62a75cfa",
   "metadata": {},
   "outputs": [],
   "source": [
    "tdelta=datetime.timedelta(days=7)"
   ]
  },
  {
   "cell_type": "code",
   "execution_count": 31,
   "id": "ab5ffd62",
   "metadata": {},
   "outputs": [
    {
     "data": {
      "text/plain": [
       "datetime.datetime(2016, 7, 28, 12, 20, 45, 56000)"
      ]
     },
     "execution_count": 31,
     "metadata": {},
     "output_type": "execute_result"
    }
   ],
   "source": [
    "dt+tdelta"
   ]
  },
  {
   "cell_type": "code",
   "execution_count": 32,
   "id": "8b182bed",
   "metadata": {},
   "outputs": [
    {
     "data": {
      "text/plain": [
       "datetime.datetime(2016, 7, 22, 0, 20, 45, 56000)"
      ]
     },
     "execution_count": 32,
     "metadata": {},
     "output_type": "execute_result"
    }
   ],
   "source": [
    "tdelta=datetime.timedelta(hours=12)\n",
    "dt+tdelta"
   ]
  },
  {
   "cell_type": "code",
   "execution_count": 33,
   "id": "43ff083d",
   "metadata": {},
   "outputs": [
    {
     "data": {
      "text/plain": [
       "datetime.datetime(2021, 4, 6, 13, 6, 16, 526721)"
      ]
     },
     "execution_count": 33,
     "metadata": {},
     "output_type": "execute_result"
    }
   ],
   "source": [
    "dt_now=datetime.datetime.now()\n",
    "dt_now"
   ]
  },
  {
   "cell_type": "code",
   "execution_count": 34,
   "id": "74868f81",
   "metadata": {},
   "outputs": [
    {
     "data": {
      "text/plain": [
       "datetime.datetime(2021, 4, 6, 13, 6, 16, 539721)"
      ]
     },
     "execution_count": 34,
     "metadata": {},
     "output_type": "execute_result"
    }
   ],
   "source": [
    "dt_today=datetime.datetime.today()\n",
    "dt_today"
   ]
  },
  {
   "cell_type": "code",
   "execution_count": null,
   "id": "230f5197",
   "metadata": {},
   "outputs": [],
   "source": []
  },
  {
   "cell_type": "code",
   "execution_count": null,
   "id": "29aaa46e",
   "metadata": {},
   "outputs": [],
   "source": []
  },
  {
   "cell_type": "code",
   "execution_count": null,
   "id": "6ad44619",
   "metadata": {},
   "outputs": [],
   "source": []
  },
  {
   "cell_type": "code",
   "execution_count": null,
   "id": "6ca8cdd6",
   "metadata": {},
   "outputs": [],
   "source": []
  },
  {
   "cell_type": "code",
   "execution_count": null,
   "id": "1567811b",
   "metadata": {},
   "outputs": [],
   "source": []
  },
  {
   "cell_type": "code",
   "execution_count": null,
   "id": "e6b66169",
   "metadata": {},
   "outputs": [],
   "source": []
  },
  {
   "cell_type": "code",
   "execution_count": null,
   "id": "3d05951c",
   "metadata": {},
   "outputs": [],
   "source": []
  }
 ],
 "metadata": {
  "kernelspec": {
   "display_name": "Python 3",
   "language": "python",
   "name": "python3"
  },
  "language_info": {
   "codemirror_mode": {
    "name": "ipython",
    "version": 3
   },
   "file_extension": ".py",
   "mimetype": "text/x-python",
   "name": "python",
   "nbconvert_exporter": "python",
   "pygments_lexer": "ipython3",
   "version": "3.8.8"
  }
 },
 "nbformat": 4,
 "nbformat_minor": 5
}
