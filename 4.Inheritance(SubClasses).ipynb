{
 "cells": [
  {
   "cell_type": "code",
   "execution_count": 1,
   "id": "d0009974",
   "metadata": {},
   "outputs": [],
   "source": [
    "class Employee:\n",
    "    number_of_emps=0\n",
    "    raise_percent=40\n",
    "    def __init__(self,first,last,pay):\n",
    "        self.first=first\n",
    "        self.last=last\n",
    "        self.pay=pay\n",
    "        self.email=first+last+\"@gmail.com\"\n",
    "        Employee.number_of_emps+=1\n",
    "    def full_name(self):\n",
    "        self.fullname=self.first+self.last\n",
    "        return self.fullname\n",
    "\n",
    "    def apply_raise(self):\n",
    "        self.pay= int(self.pay*(self.raise_percent+100)/100)\n",
    "        \n",
    "    \n",
    "#Let there be two employee classes. Developer and manager.\n"
   ]
  },
  {
   "cell_type": "code",
   "execution_count": 2,
   "id": "9a0fee69",
   "metadata": {},
   "outputs": [],
   "source": [
    "class Developer(Employee):\n",
    "    \n",
    "    pass"
   ]
  },
  {
   "cell_type": "code",
   "execution_count": 3,
   "id": "87a6f2bd",
   "metadata": {},
   "outputs": [],
   "source": [
    "dev1=Developer(\"Mohan\",\"Das\",21222)#First it is going to check the developer class. if it is not able to find a way to perform\n",
    "#the action then it goes up the inheritance and finds the parent class and takes all its methods and attributes"
   ]
  },
  {
   "cell_type": "code",
   "execution_count": 4,
   "id": "c35991da",
   "metadata": {},
   "outputs": [
    {
     "data": {
      "text/plain": [
       "'MohanDas@gmail.com'"
      ]
     },
     "execution_count": 4,
     "metadata": {},
     "output_type": "execute_result"
    }
   ],
   "source": [
    "dev1.email"
   ]
  },
  {
   "cell_type": "code",
   "execution_count": 5,
   "id": "054b4923",
   "metadata": {},
   "outputs": [
    {
     "name": "stdout",
     "output_type": "stream",
     "text": [
      "Help on class Developer in module __main__:\n",
      "\n",
      "class Developer(Employee)\n",
      " |  Developer(first, last, pay)\n",
      " |  \n",
      " |  Method resolution order:\n",
      " |      Developer\n",
      " |      Employee\n",
      " |      builtins.object\n",
      " |  \n",
      " |  Methods inherited from Employee:\n",
      " |  \n",
      " |  __init__(self, first, last, pay)\n",
      " |      Initialize self.  See help(type(self)) for accurate signature.\n",
      " |  \n",
      " |  apply_raise(self)\n",
      " |  \n",
      " |  full_name(self)\n",
      " |  \n",
      " |  ----------------------------------------------------------------------\n",
      " |  Data descriptors inherited from Employee:\n",
      " |  \n",
      " |  __dict__\n",
      " |      dictionary for instance variables (if defined)\n",
      " |  \n",
      " |  __weakref__\n",
      " |      list of weak references to the object (if defined)\n",
      " |  \n",
      " |  ----------------------------------------------------------------------\n",
      " |  Data and other attributes inherited from Employee:\n",
      " |  \n",
      " |  number_of_emps = 1\n",
      " |  \n",
      " |  raise_percent = 40\n",
      "\n",
      "None\n"
     ]
    }
   ],
   "source": [
    "print(help(Developer))"
   ]
  },
  {
   "cell_type": "code",
   "execution_count": 6,
   "id": "cace53ff",
   "metadata": {},
   "outputs": [],
   "source": [
    "#Customizing our subclass"
   ]
  },
  {
   "cell_type": "code",
   "execution_count": 7,
   "id": "7ba8e2d2",
   "metadata": {},
   "outputs": [],
   "source": [
    "class Developer(Employee):\n",
    "    raise_percent=75\n",
    "    def apply_raise(self):\n",
    "        self.pay= int(self.pay*(self.raise_percent+100)/100)"
   ]
  },
  {
   "cell_type": "code",
   "execution_count": 8,
   "id": "ab6aeda4",
   "metadata": {},
   "outputs": [],
   "source": [
    "dev1=Developer(\"Mohan\",\"Das\",21222)"
   ]
  },
  {
   "cell_type": "code",
   "execution_count": 9,
   "id": "e3fd78af",
   "metadata": {},
   "outputs": [],
   "source": [
    "dev1.apply_raise()"
   ]
  },
  {
   "cell_type": "code",
   "execution_count": 10,
   "id": "66e8a12a",
   "metadata": {},
   "outputs": [
    {
     "data": {
      "text/plain": [
       "75"
      ]
     },
     "execution_count": 10,
     "metadata": {},
     "output_type": "execute_result"
    }
   ],
   "source": [
    "dev1.raise_percent"
   ]
  },
  {
   "cell_type": "code",
   "execution_count": 11,
   "id": "f855b784",
   "metadata": {},
   "outputs": [
    {
     "data": {
      "text/plain": [
       "40"
      ]
     },
     "execution_count": 11,
     "metadata": {},
     "output_type": "execute_result"
    }
   ],
   "source": [
    "Employee.raise_percent"
   ]
  },
  {
   "cell_type": "code",
   "execution_count": 12,
   "id": "eea94668",
   "metadata": {},
   "outputs": [],
   "source": [
    "class Developer(Employee):\n",
    "    def __init__(self,first,last,pay,prog_lang):\n",
    "        super().__init__(first,last,pay)#This will pull the requested assignments from the parent class so that we dont have to repeat it again.\n",
    "        #Employee.__init__(self,first,last,pay) This will work the same way\n",
    "        self.prog_lang=prog_lang\n",
    "    \n",
    "    raise_percent=75\n",
    "    def apply_raise(self):\n",
    "        self.pay= int(self.pay*(self.raise_percent+100)/100)\n",
    "        \n",
    "        "
   ]
  },
  {
   "cell_type": "code",
   "execution_count": 13,
   "id": "e28eca54",
   "metadata": {},
   "outputs": [],
   "source": [
    "dev1=Developer(\"Mohan\",\"Das\",21222,\"Python\")"
   ]
  },
  {
   "cell_type": "code",
   "execution_count": 14,
   "id": "75d4be75",
   "metadata": {},
   "outputs": [
    {
     "data": {
      "text/plain": [
       "'Python'"
      ]
     },
     "execution_count": 14,
     "metadata": {},
     "output_type": "execute_result"
    }
   ],
   "source": [
    "dev1.prog_lang"
   ]
  },
  {
   "cell_type": "code",
   "execution_count": 15,
   "id": "fad4c031",
   "metadata": {},
   "outputs": [],
   "source": [
    "class Manager(Employee):\n",
    "    def __init__(self,first,last,pay,employees=None):\n",
    "        super().__init__(first,last,pay)#This will pull the requested assignments from the parent class so that we dont have to repeat it again.\n",
    "        #Employee.__init__(self,first,last,pay) This will work the same way\n",
    "        if employees is None:\n",
    "            self.employees=[]\n",
    "        else:\n",
    "            self.employees=employees\n",
    "            \n",
    "    def add_employee(self, emp):\n",
    "        if emp not in self.employees:\n",
    "            self.employees.append(emp)\n",
    "    \n",
    "    def rem_employee(self, emp):\n",
    "        if emp in self.employees:\n",
    "            self.employees.remove(emp)\n",
    "    \n",
    "    def print_employee(self):\n",
    "        for emp in self.employees:\n",
    "            print(\"--> \",emp.full_name())\n",
    "        "
   ]
  },
  {
   "cell_type": "code",
   "execution_count": 16,
   "id": "c1a0a65a",
   "metadata": {},
   "outputs": [],
   "source": [
    "dev1=Developer(\"Mohan\",\"Das\",21222,\"Python\")\n",
    "dev2=Developer(\"Karan\",\"Jain\",21222,\"Java\")\n",
    "dev3=Developer(\"Arya\",\"Gudi\",21222,\"C++\")\n",
    "man1 = Manager(\"Atul\",\"Nair\",98221,[dev1])"
   ]
  },
  {
   "cell_type": "code",
   "execution_count": 17,
   "id": "18f0b721",
   "metadata": {},
   "outputs": [
    {
     "data": {
      "text/plain": [
       "[<__main__.Developer at 0x271f435d700>]"
      ]
     },
     "execution_count": 17,
     "metadata": {},
     "output_type": "execute_result"
    }
   ],
   "source": [
    "man1.employees"
   ]
  },
  {
   "cell_type": "code",
   "execution_count": 18,
   "id": "9ce14440",
   "metadata": {},
   "outputs": [],
   "source": [
    "man1.add_employee(dev2)\n",
    "man1.add_employee(dev3)"
   ]
  },
  {
   "cell_type": "code",
   "execution_count": 19,
   "id": "ef376d01",
   "metadata": {},
   "outputs": [
    {
     "name": "stdout",
     "output_type": "stream",
     "text": [
      "-->  MohanDas\n",
      "-->  KaranJain\n",
      "-->  AryaGudi\n"
     ]
    }
   ],
   "source": [
    "man1.print_employee()"
   ]
  },
  {
   "cell_type": "code",
   "execution_count": 20,
   "id": "34937c6c",
   "metadata": {},
   "outputs": [],
   "source": [
    "\n",
    "man1.rem_employee(dev2)"
   ]
  },
  {
   "cell_type": "code",
   "execution_count": 21,
   "id": "4a281942",
   "metadata": {},
   "outputs": [
    {
     "name": "stdout",
     "output_type": "stream",
     "text": [
      "-->  MohanDas\n",
      "-->  AryaGudi\n"
     ]
    }
   ],
   "source": [
    "man1.print_employee()"
   ]
  },
  {
   "cell_type": "code",
   "execution_count": 22,
   "id": "191480c7",
   "metadata": {},
   "outputs": [],
   "source": [
    "#isinstance method"
   ]
  },
  {
   "cell_type": "code",
   "execution_count": 23,
   "id": "cc7c229f",
   "metadata": {},
   "outputs": [
    {
     "name": "stdout",
     "output_type": "stream",
     "text": [
      "True\n",
      "True\n",
      "False\n"
     ]
    }
   ],
   "source": [
    "print(isinstance(man1,Manager))\n",
    "print(isinstance(man1,Employee))\n",
    "print(isinstance(man1,Developer))"
   ]
  },
  {
   "cell_type": "code",
   "execution_count": 24,
   "id": "894a4af1",
   "metadata": {},
   "outputs": [
    {
     "name": "stdout",
     "output_type": "stream",
     "text": [
      "True\n",
      "True\n",
      "False\n"
     ]
    }
   ],
   "source": [
    "print(issubclass(Manager,Employee))\n",
    "print(issubclass(Developer,Employee))\n",
    "print(issubclass(Developer,Manager))"
   ]
  },
  {
   "cell_type": "code",
   "execution_count": null,
   "id": "3a036fe0",
   "metadata": {},
   "outputs": [],
   "source": []
  }
 ],
 "metadata": {
  "kernelspec": {
   "display_name": "Python 3",
   "language": "python",
   "name": "python3"
  },
  "language_info": {
   "codemirror_mode": {
    "name": "ipython",
    "version": 3
   },
   "file_extension": ".py",
   "mimetype": "text/x-python",
   "name": "python",
   "nbconvert_exporter": "python",
   "pygments_lexer": "ipython3",
   "version": "3.8.8"
  }
 },
 "nbformat": 4,
 "nbformat_minor": 5
}
