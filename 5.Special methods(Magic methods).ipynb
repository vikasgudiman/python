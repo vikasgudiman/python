{
 "cells": [
  {
   "cell_type": "code",
   "execution_count": 1,
   "id": "01660c2d",
   "metadata": {},
   "outputs": [
    {
     "name": "stdout",
     "output_type": "stream",
     "text": [
      "3\n"
     ]
    }
   ],
   "source": [
    "print(1+2)"
   ]
  },
  {
   "cell_type": "code",
   "execution_count": 2,
   "id": "df3697f1",
   "metadata": {},
   "outputs": [
    {
     "name": "stdout",
     "output_type": "stream",
     "text": [
      "ab\n"
     ]
    }
   ],
   "source": [
    "print(\"a\"+\"b\")"
   ]
  },
  {
   "cell_type": "code",
   "execution_count": 3,
   "id": "8e32a6b4",
   "metadata": {},
   "outputs": [],
   "source": [
    "#The addition behavior for int is different from that of a string"
   ]
  },
  {
   "cell_type": "code",
   "execution_count": 4,
   "id": "64943eae",
   "metadata": {},
   "outputs": [],
   "source": [
    "class Employee:\n",
    "    number_of_emps=0\n",
    "    raise_percent=40\n",
    "    def __init__(self,first,last,pay):#Dunder\n",
    "        self.first=first\n",
    "        self.last=last\n",
    "        self.pay=pay\n",
    "        self.email=first+last+\"@gmail.com\"\n",
    "        Employee.number_of_emps+=1\n",
    "    def full_name(self):\n",
    "        self.fullname=self.first+self.last\n",
    "        return self.fullname\n",
    "\n",
    "    def apply_raise(self):\n",
    "        self.pay= int(self.pay*(self.raise_percent+100)/100)\n",
    "        \n",
    "    \n",
    "#Special methods or magic methods are always represented using __name__. it is also called as Dunder\n"
   ]
  },
  {
   "cell_type": "code",
   "execution_count": 5,
   "id": "d571030f",
   "metadata": {},
   "outputs": [],
   "source": [
    "#Some common dunder methods are repr and str\n",
    "emp1=Employee(\"Mohan\",\"Das\",12345)"
   ]
  },
  {
   "cell_type": "code",
   "execution_count": 6,
   "id": "ea66c3dd",
   "metadata": {},
   "outputs": [
    {
     "data": {
      "text/plain": [
       "'<__main__.Employee object at 0x0000021E6BE190A0>'"
      ]
     },
     "execution_count": 6,
     "metadata": {},
     "output_type": "execute_result"
    }
   ],
   "source": [
    "repr(emp1)"
   ]
  },
  {
   "cell_type": "code",
   "execution_count": 17,
   "id": "f003e0e9",
   "metadata": {},
   "outputs": [],
   "source": [
    "class Employee:\n",
    "    number_of_emps=0\n",
    "    raise_percent=40\n",
    "    def __init__(self,first,last,pay):#Dunder\n",
    "        self.first=first\n",
    "        self.last=last\n",
    "        self.pay=pay\n",
    "        self.email=first+last+\"@gmail.com\"\n",
    "        Employee.number_of_emps+=1\n",
    "    def full_name(self):\n",
    "        self.fullname=self.first+self.last\n",
    "        return self.fullname\n",
    "\n",
    "    def apply_raise(self):\n",
    "        self.pay= int(self.pay*(self.raise_percent+100)/100)\n",
    "        \n",
    "    def __repr__(self): #This is a must of you want to represent something to the user because when calling str if the function doesnt find an str in the class it will fallback to the repr\n",
    "        return f\"Employee({self.first}, {self.last}, {self.pay})\"\n",
    "    "
   ]
  },
  {
   "cell_type": "code",
   "execution_count": 18,
   "id": "f96fd86e",
   "metadata": {},
   "outputs": [],
   "source": [
    "emp1=Employee(\"Mohan\",\"Das\",12345)"
   ]
  },
  {
   "cell_type": "code",
   "execution_count": 19,
   "id": "2ff99183",
   "metadata": {},
   "outputs": [
    {
     "data": {
      "text/plain": [
       "'Employee(Mohan, Das, 12345)'"
      ]
     },
     "execution_count": 19,
     "metadata": {},
     "output_type": "execute_result"
    }
   ],
   "source": [
    "repr(emp1)"
   ]
  },
  {
   "cell_type": "code",
   "execution_count": 20,
   "id": "d6cf56ab",
   "metadata": {},
   "outputs": [
    {
     "data": {
      "text/plain": [
       "'Employee(Mohan, Das, 12345)'"
      ]
     },
     "execution_count": 20,
     "metadata": {},
     "output_type": "execute_result"
    }
   ],
   "source": [
    "str(emp1)"
   ]
  },
  {
   "cell_type": "code",
   "execution_count": 11,
   "id": "252118ef",
   "metadata": {},
   "outputs": [
    {
     "data": {
      "text/plain": [
       "Employee(Mohan, Das, 12345)"
      ]
     },
     "execution_count": 11,
     "metadata": {},
     "output_type": "execute_result"
    }
   ],
   "source": [
    "emp1"
   ]
  },
  {
   "cell_type": "code",
   "execution_count": 21,
   "id": "a1de7fc1",
   "metadata": {},
   "outputs": [],
   "source": [
    "class Employee:\n",
    "    number_of_emps=0\n",
    "    raise_percent=40\n",
    "    def __init__(self,first,last,pay):#Dunder\n",
    "        self.first=first\n",
    "        self.last=last\n",
    "        self.pay=pay\n",
    "        self.email=first+last+\"@gmail.com\"\n",
    "        Employee.number_of_emps+=1\n",
    "    def full_name(self):\n",
    "        self.fullname=self.first+self.last\n",
    "        return self.fullname\n",
    "\n",
    "    def apply_raise(self):\n",
    "        self.pay= int(self.pay*(self.raise_percent+100)/100)\n",
    "        \n",
    "    def __repr__(self): #This is a must of you want to represent something to the user because when calling str if the function doesnt find an str in the class it will fallback to the repr\n",
    "        return f\"Employee({self.first}, {self.last}, {self.pay})\"\n",
    "    \n",
    "    def __str__(self):\n",
    "        return f\"Employee({self.email})\""
   ]
  },
  {
   "cell_type": "code",
   "execution_count": 22,
   "id": "7c5e23e6",
   "metadata": {},
   "outputs": [],
   "source": [
    "emp1=Employee(\"Mohan\",\"Das\",12345)"
   ]
  },
  {
   "cell_type": "code",
   "execution_count": 24,
   "id": "021a7a96",
   "metadata": {},
   "outputs": [
    {
     "data": {
      "text/plain": [
       "'Employee(Mohan, Das, 12345)'"
      ]
     },
     "execution_count": 24,
     "metadata": {},
     "output_type": "execute_result"
    }
   ],
   "source": [
    "emp1.__repr__()"
   ]
  },
  {
   "cell_type": "code",
   "execution_count": 20,
   "id": "3cc61048",
   "metadata": {},
   "outputs": [
    {
     "data": {
      "text/plain": [
       "'Employee(Mohan, Das, 12345)'"
      ]
     },
     "execution_count": 20,
     "metadata": {},
     "output_type": "execute_result"
    }
   ],
   "source": [
    "repr(emp1)#emp1.__repr__()"
   ]
  },
  {
   "cell_type": "code",
   "execution_count": 21,
   "id": "9711a151",
   "metadata": {},
   "outputs": [
    {
     "data": {
      "text/plain": [
       "'Employee(MohanDas@gmail.com)'"
      ]
     },
     "execution_count": 21,
     "metadata": {},
     "output_type": "execute_result"
    }
   ],
   "source": [
    "str(emp1)#emp1.__str__()"
   ]
  },
  {
   "cell_type": "code",
   "execution_count": 25,
   "id": "exempt-population",
   "metadata": {},
   "outputs": [
    {
     "ename": "TypeError",
     "evalue": "unsupported operand type(s) for +: 'Employee' and 'Employee'",
     "output_type": "error",
     "traceback": [
      "\u001b[1;31m---------------------------------------------------------------------------\u001b[0m",
      "\u001b[1;31mTypeError\u001b[0m                                 Traceback (most recent call last)",
      "\u001b[1;32m<ipython-input-25-e68434722e02>\u001b[0m in \u001b[0;36m<module>\u001b[1;34m\u001b[0m\n\u001b[0;32m      1\u001b[0m \u001b[0memp1\u001b[0m\u001b[1;33m=\u001b[0m\u001b[0mEmployee\u001b[0m\u001b[1;33m(\u001b[0m\u001b[1;34m\"Mohan\"\u001b[0m\u001b[1;33m,\u001b[0m\u001b[1;34m\"Das\"\u001b[0m\u001b[1;33m,\u001b[0m\u001b[1;36m20000\u001b[0m\u001b[1;33m)\u001b[0m\u001b[1;33m\u001b[0m\u001b[1;33m\u001b[0m\u001b[0m\n\u001b[0;32m      2\u001b[0m \u001b[0memp2\u001b[0m\u001b[1;33m=\u001b[0m\u001b[0mEmployee\u001b[0m\u001b[1;33m(\u001b[0m\u001b[1;34m\"Nirav\"\u001b[0m\u001b[1;33m,\u001b[0m\u001b[1;34m\"Modi\"\u001b[0m\u001b[1;33m,\u001b[0m\u001b[1;36m12345\u001b[0m\u001b[1;33m)\u001b[0m\u001b[1;33m\u001b[0m\u001b[1;33m\u001b[0m\u001b[0m\n\u001b[1;32m----> 3\u001b[1;33m \u001b[0memp1\u001b[0m\u001b[1;33m+\u001b[0m\u001b[0memp2\u001b[0m\u001b[1;33m\u001b[0m\u001b[1;33m\u001b[0m\u001b[0m\n\u001b[0m",
      "\u001b[1;31mTypeError\u001b[0m: unsupported operand type(s) for +: 'Employee' and 'Employee'"
     ]
    }
   ],
   "source": [
    "emp1=Employee(\"Mohan\",\"Das\",20000)\n",
    "emp2=Employee(\"Nirav\",\"Modi\",12345)\n",
    "emp1+emp2"
   ]
  },
  {
   "cell_type": "code",
   "execution_count": 27,
   "id": "52672fc1",
   "metadata": {},
   "outputs": [],
   "source": [
    "class Employee:\n",
    "    number_of_emps=0\n",
    "    raise_percent=40\n",
    "    def __init__(self,first,last,pay):#Dunder\n",
    "        self.first=first\n",
    "        self.last=last\n",
    "        self.pay=pay\n",
    "        self.email=first+last+\"@gmail.com\"\n",
    "        Employee.number_of_emps+=1\n",
    "    def full_name(self):\n",
    "        self.fullname=self.first+self.last\n",
    "        return self.fullname\n",
    "\n",
    "    def apply_raise(self):\n",
    "        self.pay= int(self.pay*(self.raise_percent+100)/100)\n",
    "        \n",
    "    def __repr__(self): #This is a must of you want to represent something to the user because when calling str if the function doesnt find an str in the class it will fallback to the repr\n",
    "        return f\"Employee({self.first}, {self.last}, {self.pay})\"\n",
    "    \n",
    "    def __str__(self):\n",
    "        return f\"Employee({self.email})\"\n",
    "    \n",
    "    def __add__(self,other):\n",
    "        return self.pay + other.pay"
   ]
  },
  {
   "cell_type": "code",
   "execution_count": 28,
   "id": "f06079ab",
   "metadata": {},
   "outputs": [],
   "source": [
    "emp1=Employee(\"Mohan\",\"Das\",12345)\n",
    "emp2=Employee(\"Karan\",\"Jain\",44356)"
   ]
  },
  {
   "cell_type": "code",
   "execution_count": 29,
   "id": "b5c058f9",
   "metadata": {},
   "outputs": [
    {
     "data": {
      "text/plain": [
       "56701"
      ]
     },
     "execution_count": 29,
     "metadata": {},
     "output_type": "execute_result"
    }
   ],
   "source": [
    "emp1+emp2"
   ]
  },
  {
   "cell_type": "code",
   "execution_count": 30,
   "id": "5894981a",
   "metadata": {},
   "outputs": [],
   "source": [
    "class Employee:\n",
    "    number_of_emps=0\n",
    "    raise_percent=40\n",
    "    def __init__(self,first,last,pay):#Dunder\n",
    "        self.first=first\n",
    "        self.last=last\n",
    "        self.pay=pay\n",
    "        self.email=first+last+\"@gmail.com\"\n",
    "        Employee.number_of_emps+=1\n",
    "    def full_name(self):\n",
    "        self.fullname=self.first+self.last\n",
    "        return self.fullname\n",
    "\n",
    "    def apply_raise(self):\n",
    "        self.pay= int(self.pay*(self.raise_percent+100)/100)\n",
    "        \n",
    "    def __repr__(self): #This is a must of you want to represent something to the user because when calling str if the function doesnt find an str in the class it will fallback to the repr\n",
    "        return f\"Employee({self.first}, {self.last}, {self.pay})\"\n",
    "    \n",
    "    def __str__(self):\n",
    "        return f\"Employee({self.email})\"\n",
    "    \n",
    "    def __len__(self):\n",
    "        return len(self.full_name())"
   ]
  },
  {
   "cell_type": "code",
   "execution_count": 31,
   "id": "93fa8f52",
   "metadata": {},
   "outputs": [],
   "source": [
    "emp1=Employee(\"Mohan\",\"Das\",12345)\n",
    "emp2=Employee(\"Karan\",\"Jain\",44356)"
   ]
  },
  {
   "cell_type": "code",
   "execution_count": 32,
   "id": "6028ddb8",
   "metadata": {},
   "outputs": [
    {
     "data": {
      "text/plain": [
       "8"
      ]
     },
     "execution_count": 32,
     "metadata": {},
     "output_type": "execute_result"
    }
   ],
   "source": [
    "len(emp1)"
   ]
  },
  {
   "cell_type": "code",
   "execution_count": null,
   "id": "fe89fe53",
   "metadata": {},
   "outputs": [],
   "source": []
  },
  {
   "cell_type": "code",
   "execution_count": null,
   "id": "88c9eaab",
   "metadata": {},
   "outputs": [],
   "source": []
  }
 ],
 "metadata": {
  "kernelspec": {
   "display_name": "Python 3",
   "language": "python",
   "name": "python3"
  },
  "language_info": {
   "codemirror_mode": {
    "name": "ipython",
    "version": 3
   },
   "file_extension": ".py",
   "mimetype": "text/x-python",
   "name": "python",
   "nbconvert_exporter": "python",
   "pygments_lexer": "ipython3",
   "version": "3.8.8"
  }
 },
 "nbformat": 4,
 "nbformat_minor": 5
}
