{
 "cells": [
  {
   "cell_type": "code",
   "execution_count": 1,
   "id": "599d0a63",
   "metadata": {},
   "outputs": [
    {
     "data": {
      "text/plain": [
       "'I am doing great!\\nHow are you?\\n'"
      ]
     },
     "execution_count": 1,
     "metadata": {},
     "output_type": "execute_result"
    }
   ],
   "source": [
    "#file opening in read mode using f.read()\n",
    "f = open(\"test.txt\",\"r\")\n",
    "res=f.read()\n",
    "#it reads the file and stores it as a string\n",
    "\n",
    "f.close()\n",
    "res"
   ]
  },
  {
   "cell_type": "code",
   "execution_count": 2,
   "id": "2aead037",
   "metadata": {},
   "outputs": [
    {
     "data": {
      "text/plain": [
       "['I am doing great!How are you?\\n', '\\n']"
      ]
     },
     "execution_count": 2,
     "metadata": {},
     "output_type": "execute_result"
    }
   ],
   "source": [
    "#file opening in read mode using f.readlines()\n",
    "f = open(\"test.txt\",\"r\")\n",
    "res=f.readlines()\n",
    "#it reads a file and stores it as a list\n",
    "f.close()\n",
    "res"
   ]
  },
  {
   "cell_type": "code",
   "execution_count": 3,
   "id": "4fac9bec",
   "metadata": {},
   "outputs": [
    {
     "data": {
      "text/plain": [
       "'I am doing great!How are you?\\n'"
      ]
     },
     "execution_count": 3,
     "metadata": {},
     "output_type": "execute_result"
    }
   ],
   "source": [
    "#file opening in read mode using f.readline()\n",
    "f = open(\"test.txt\",\"r\")\n",
    "res=f.readline()\n",
    "#it reads the file line by line\n",
    "f.close()\n",
    "res"
   ]
  },
  {
   "cell_type": "code",
   "execution_count": 4,
   "id": "0991db7c",
   "metadata": {},
   "outputs": [
    {
     "data": {
      "text/plain": [
       "'r'"
      ]
     },
     "execution_count": 4,
     "metadata": {},
     "output_type": "execute_result"
    }
   ],
   "source": [
    "f.mode"
   ]
  },
  {
   "cell_type": "code",
   "execution_count": 5,
   "id": "bd7c6e1c",
   "metadata": {},
   "outputs": [
    {
     "data": {
      "text/plain": [
       "'I am doing great!How are you?\\n\\n'"
      ]
     },
     "execution_count": 5,
     "metadata": {},
     "output_type": "execute_result"
    }
   ],
   "source": [
    "#using with we dont have to close the file. This is the best practice\n",
    "with open(\"test.txt\",\"r\") as fp:\n",
    "    res = fp.read()\n",
    "res"
   ]
  },
  {
   "cell_type": "code",
   "execution_count": 6,
   "id": "ef7fd797",
   "metadata": {},
   "outputs": [
    {
     "data": {
      "text/plain": [
       "'r'"
      ]
     },
     "execution_count": 6,
     "metadata": {},
     "output_type": "execute_result"
    }
   ],
   "source": [
    "fp.mode# we still have the access to the file after it closed but we cannot read or write the content"
   ]
  },
  {
   "cell_type": "code",
   "execution_count": 7,
   "id": "bfa80726",
   "metadata": {},
   "outputs": [
    {
     "data": {
      "text/plain": [
       "'I am '"
      ]
     },
     "execution_count": 7,
     "metadata": {},
     "output_type": "execute_result"
    }
   ],
   "source": [
    "#Reading first 5 chars of a file\n",
    "with open(\"test.txt\",\"r\") as fp:\n",
    "    res = fp.read(5)\n",
    "res"
   ]
  },
  {
   "cell_type": "code",
   "execution_count": 8,
   "id": "4f368081",
   "metadata": {},
   "outputs": [
    {
     "data": {
      "text/plain": [
       "'I am doing great!\\n'"
      ]
     },
     "execution_count": 8,
     "metadata": {},
     "output_type": "execute_result"
    }
   ],
   "source": [
    "#file opening in write mode using f.write()\n",
    "string=\"I am doing great!\\n\"\n",
    "with open(\"test.txt\",\"w\") as fp:\n",
    "    res = fp.write(string)\n",
    "with open(\"test.txt\",\"r\") as fp:\n",
    "    res2 = fp.read()\n",
    "res2"
   ]
  },
  {
   "cell_type": "code",
   "execution_count": 9,
   "id": "d98715a3",
   "metadata": {},
   "outputs": [
    {
     "data": {
      "text/plain": [
       "'I am doing great!\\nHow are you?\\n'"
      ]
     },
     "execution_count": 9,
     "metadata": {},
     "output_type": "execute_result"
    }
   ],
   "source": [
    "#file opening in append mode using f.write()\n",
    "string=\"How are you?\\n\"\n",
    "with open(\"test.txt\",\"a\") as fp:\n",
    "    res = fp.write(string)\n",
    "with open(\"test.txt\",\"r\") as fp:\n",
    "    res2 = fp.read()\n",
    "res2"
   ]
  },
  {
   "cell_type": "code",
   "execution_count": 10,
   "id": "311cbeea",
   "metadata": {},
   "outputs": [
    {
     "data": {
      "text/plain": [
       "['I am doing great!\\n', 'How are you?\\n']"
      ]
     },
     "execution_count": 10,
     "metadata": {},
     "output_type": "execute_result"
    }
   ],
   "source": [
    "with open(\"test.txt\",\"r\") as fp:\n",
    "    res2 = fp.readlines()\n",
    "res2"
   ]
  },
  {
   "cell_type": "code",
   "execution_count": null,
   "id": "f8d0e1af",
   "metadata": {},
   "outputs": [],
   "source": []
  }
 ],
 "metadata": {
  "kernelspec": {
   "display_name": "Python 3",
   "language": "python",
   "name": "python3"
  },
  "language_info": {
   "codemirror_mode": {
    "name": "ipython",
    "version": 3
   },
   "file_extension": ".py",
   "mimetype": "text/x-python",
   "name": "python",
   "nbconvert_exporter": "python",
   "pygments_lexer": "ipython3",
   "version": "3.8.8"
  }
 },
 "nbformat": 4,
 "nbformat_minor": 5
}
